{
 "cells": [
  {
   "cell_type": "markdown",
   "id": "c296c6a1-fef0-4f1e-9a8f-5c81f09d5985",
   "metadata": {},
   "source": [
    "**Dataset link**: https://www.kaggle.com/datasets/mexwell/us-software-engineer-jobs"
   ]
  },
  {
   "cell_type": "code",
   "execution_count": 158,
   "id": "39e7e968-5697-47e0-83e4-d2fedda57886",
   "metadata": {},
   "outputs": [
    {
     "name": "stdout",
     "output_type": "stream",
     "text": [
      "Requirement already satisfied: pip in c:\\users\\hp\\appdata\\local\\programs\\python\\python311\\lib\\site-packages (24.0)\n",
      "Collecting pip\n",
      "  Downloading pip-24.2-py3-none-any.whl.metadata (3.6 kB)\n",
      "Downloading pip-24.2-py3-none-any.whl (1.8 MB)\n",
      "   ---------------------------------------- 0.0/1.8 MB ? eta -:--:--\n",
      "    --------------------------------------- 0.0/1.8 MB ? eta -:--:--\n",
      "    --------------------------------------- 0.0/1.8 MB ? eta -:--:--\n",
      "    --------------------------------------- 0.0/1.8 MB ? eta -:--:--\n",
      "    --------------------------------------- 0.0/1.8 MB ? eta -:--:--\n",
      "    --------------------------------------- 0.0/1.8 MB 163.4 kB/s eta 0:00:11\n",
      "    --------------------------------------- 0.0/1.8 MB 163.4 kB/s eta 0:00:11\n",
      "    --------------------------------------- 0.0/1.8 MB 163.4 kB/s eta 0:00:11\n",
      "   -- ------------------------------------- 0.1/1.8 MB 313.8 kB/s eta 0:00:06\n",
      "   --- ------------------------------------ 0.1/1.8 MB 370.8 kB/s eta 0:00:05\n",
      "   --- ------------------------------------ 0.1/1.8 MB 370.8 kB/s eta 0:00:05\n",
      "   --- ------------------------------------ 0.2/1.8 MB 317.4 kB/s eta 0:00:06\n",
      "   --- ------------------------------------ 0.2/1.8 MB 308.5 kB/s eta 0:00:06\n",
      "   ----- ---------------------------------- 0.2/1.8 MB 396.5 kB/s eta 0:00:04\n",
      "   ----- ---------------------------------- 0.3/1.8 MB 393.2 kB/s eta 0:00:04\n",
      "   ------ --------------------------------- 0.3/1.8 MB 405.9 kB/s eta 0:00:04\n",
      "   ------ --------------------------------- 0.3/1.8 MB 405.9 kB/s eta 0:00:04\n",
      "   ------ --------------------------------- 0.3/1.8 MB 405.9 kB/s eta 0:00:04\n",
      "   ------ --------------------------------- 0.3/1.8 MB 405.9 kB/s eta 0:00:04\n",
      "   ------ --------------------------------- 0.3/1.8 MB 405.9 kB/s eta 0:00:04\n",
      "   --------- ------------------------------ 0.4/1.8 MB 444.3 kB/s eta 0:00:04\n",
      "   --------- ------------------------------ 0.4/1.8 MB 451.3 kB/s eta 0:00:04\n",
      "   --------- ------------------------------ 0.5/1.8 MB 447.5 kB/s eta 0:00:04\n",
      "   ---------- ----------------------------- 0.5/1.8 MB 459.7 kB/s eta 0:00:03\n",
      "   ----------- ---------------------------- 0.5/1.8 MB 461.7 kB/s eta 0:00:03\n",
      "   ----------- ---------------------------- 0.5/1.8 MB 457.7 kB/s eta 0:00:03\n",
      "   ------------ --------------------------- 0.6/1.8 MB 463.1 kB/s eta 0:00:03\n",
      "   ------------ --------------------------- 0.6/1.8 MB 464.7 kB/s eta 0:00:03\n",
      "   ------------- -------------------------- 0.6/1.8 MB 475.1 kB/s eta 0:00:03\n",
      "   ------------- -------------------------- 0.6/1.8 MB 475.1 kB/s eta 0:00:03\n",
      "   ------------- -------------------------- 0.6/1.8 MB 475.1 kB/s eta 0:00:03\n",
      "   ------------- -------------------------- 0.6/1.8 MB 475.1 kB/s eta 0:00:03\n",
      "   --------------- ------------------------ 0.7/1.8 MB 472.2 kB/s eta 0:00:03\n",
      "   --------------- ------------------------ 0.7/1.8 MB 466.1 kB/s eta 0:00:03\n",
      "   ---------------- ----------------------- 0.7/1.8 MB 465.2 kB/s eta 0:00:03\n",
      "   ---------------- ----------------------- 0.7/1.8 MB 458.2 kB/s eta 0:00:03\n",
      "   ---------------- ----------------------- 0.8/1.8 MB 461.8 kB/s eta 0:00:03\n",
      "   ----------------- ---------------------- 0.8/1.8 MB 451.0 kB/s eta 0:00:03\n",
      "   ----------------- ---------------------- 0.8/1.8 MB 451.0 kB/s eta 0:00:03\n",
      "   ------------------ --------------------- 0.8/1.8 MB 454.2 kB/s eta 0:00:03\n",
      "   ------------------ --------------------- 0.8/1.8 MB 451.8 kB/s eta 0:00:03\n",
      "   ------------------ --------------------- 0.8/1.8 MB 451.7 kB/s eta 0:00:03\n",
      "   ------------------ --------------------- 0.8/1.8 MB 451.7 kB/s eta 0:00:03\n",
      "   ------------------ --------------------- 0.8/1.8 MB 451.7 kB/s eta 0:00:03\n",
      "   ------------------- -------------------- 0.9/1.8 MB 438.6 kB/s eta 0:00:03\n",
      "   ------------------- -------------------- 0.9/1.8 MB 438.6 kB/s eta 0:00:03\n",
      "   ------------------- -------------------- 0.9/1.8 MB 438.6 kB/s eta 0:00:03\n",
      "   ------------------- -------------------- 0.9/1.8 MB 438.6 kB/s eta 0:00:03\n",
      "   ------------------- -------------------- 0.9/1.8 MB 438.6 kB/s eta 0:00:03\n",
      "   ------------------- -------------------- 0.9/1.8 MB 438.6 kB/s eta 0:00:03\n",
      "   ------------------- -------------------- 0.9/1.8 MB 438.6 kB/s eta 0:00:03\n",
      "   ------------------- -------------------- 0.9/1.8 MB 438.6 kB/s eta 0:00:03\n",
      "   ------------------- -------------------- 0.9/1.8 MB 438.6 kB/s eta 0:00:03\n",
      "   -------------------- ------------------- 0.9/1.8 MB 382.2 kB/s eta 0:00:03\n",
      "   --------------------- ------------------ 1.0/1.8 MB 391.6 kB/s eta 0:00:03\n",
      "   --------------------- ------------------ 1.0/1.8 MB 391.6 kB/s eta 0:00:03\n",
      "   --------------------- ------------------ 1.0/1.8 MB 391.6 kB/s eta 0:00:03\n",
      "   --------------------- ------------------ 1.0/1.8 MB 391.6 kB/s eta 0:00:03\n",
      "   --------------------- ------------------ 1.0/1.8 MB 391.6 kB/s eta 0:00:03\n",
      "   --------------------- ------------------ 1.0/1.8 MB 391.6 kB/s eta 0:00:03\n",
      "   --------------------- ------------------ 1.0/1.8 MB 357.5 kB/s eta 0:00:03\n",
      "   ----------------------- ---------------- 1.0/1.8 MB 365.7 kB/s eta 0:00:03\n",
      "   ----------------------- ---------------- 1.0/1.8 MB 365.7 kB/s eta 0:00:03\n",
      "   ----------------------- ---------------- 1.0/1.8 MB 365.7 kB/s eta 0:00:03\n",
      "   ----------------------- ---------------- 1.0/1.8 MB 365.7 kB/s eta 0:00:03\n",
      "   ----------------------- ---------------- 1.0/1.8 MB 365.7 kB/s eta 0:00:03\n",
      "   ----------------------- ---------------- 1.0/1.8 MB 365.7 kB/s eta 0:00:03\n",
      "   ----------------------- ---------------- 1.0/1.8 MB 365.7 kB/s eta 0:00:03\n",
      "   ----------------------- ---------------- 1.1/1.8 MB 334.2 kB/s eta 0:00:03\n",
      "   ------------------------ --------------- 1.1/1.8 MB 338.9 kB/s eta 0:00:03\n",
      "   ------------------------ --------------- 1.1/1.8 MB 340.4 kB/s eta 0:00:03\n",
      "   ------------------------ --------------- 1.1/1.8 MB 340.4 kB/s eta 0:00:03\n",
      "   ------------------------ --------------- 1.1/1.8 MB 335.4 kB/s eta 0:00:03\n",
      "   ------------------------- -------------- 1.1/1.8 MB 333.7 kB/s eta 0:00:03\n",
      "   ------------------------- -------------- 1.2/1.8 MB 333.6 kB/s eta 0:00:02\n",
      "   ------------------------- -------------- 1.2/1.8 MB 333.6 kB/s eta 0:00:02\n",
      "   -------------------------- ------------- 1.2/1.8 MB 333.5 kB/s eta 0:00:02\n",
      "   -------------------------- ------------- 1.2/1.8 MB 336.3 kB/s eta 0:00:02\n",
      "   -------------------------- ------------- 1.2/1.8 MB 334.8 kB/s eta 0:00:02\n",
      "   --------------------------- ------------ 1.2/1.8 MB 339.0 kB/s eta 0:00:02\n",
      "   --------------------------- ------------ 1.3/1.8 MB 340.1 kB/s eta 0:00:02\n",
      "   ---------------------------- ----------- 1.3/1.8 MB 342.8 kB/s eta 0:00:02\n",
      "   ----------------------------- ---------- 1.3/1.8 MB 345.2 kB/s eta 0:00:02\n",
      "   ----------------------------- ---------- 1.3/1.8 MB 346.3 kB/s eta 0:00:02\n",
      "   ------------------------------ --------- 1.4/1.8 MB 348.7 kB/s eta 0:00:02\n",
      "   ------------------------------ --------- 1.4/1.8 MB 349.9 kB/s eta 0:00:02\n",
      "   ------------------------------ --------- 1.4/1.8 MB 349.6 kB/s eta 0:00:02\n",
      "   ------------------------------- -------- 1.4/1.8 MB 350.6 kB/s eta 0:00:02\n",
      "   -------------------------------- ------- 1.5/1.8 MB 355.4 kB/s eta 0:00:02\n",
      "   -------------------------------- ------- 1.5/1.8 MB 352.5 kB/s eta 0:00:01\n",
      "   -------------------------------- ------- 1.5/1.8 MB 354.8 kB/s eta 0:00:01\n",
      "   --------------------------------- ------ 1.5/1.8 MB 355.7 kB/s eta 0:00:01\n",
      "   --------------------------------- ------ 1.5/1.8 MB 355.5 kB/s eta 0:00:01\n",
      "   --------------------------------- ------ 1.5/1.8 MB 355.1 kB/s eta 0:00:01\n",
      "   ---------------------------------- ----- 1.5/1.8 MB 352.4 kB/s eta 0:00:01\n",
      "   ----------------------------------- ---- 1.6/1.8 MB 358.9 kB/s eta 0:00:01\n",
      "   ----------------------------------- ---- 1.6/1.8 MB 357.4 kB/s eta 0:00:01\n",
      "   ----------------------------------- ---- 1.6/1.8 MB 357.4 kB/s eta 0:00:01\n",
      "   ----------------------------------- ---- 1.6/1.8 MB 358.3 kB/s eta 0:00:01\n",
      "   ----------------------------------- ---- 1.6/1.8 MB 358.3 kB/s eta 0:00:01\n",
      "   ------------------------------------ --- 1.7/1.8 MB 357.4 kB/s eta 0:00:01\n",
      "   ------------------------------------- -- 1.7/1.8 MB 357.3 kB/s eta 0:00:01\n",
      "   ------------------------------------- -- 1.7/1.8 MB 356.9 kB/s eta 0:00:01\n",
      "   ------------------------------------- -- 1.7/1.8 MB 357.9 kB/s eta 0:00:01\n",
      "   -------------------------------------- - 1.7/1.8 MB 357.4 kB/s eta 0:00:01\n",
      "   -------------------------------------- - 1.8/1.8 MB 359.2 kB/s eta 0:00:01\n",
      "   ---------------------------------------  1.8/1.8 MB 359.9 kB/s eta 0:00:01\n",
      "   ---------------------------------------  1.8/1.8 MB 361.6 kB/s eta 0:00:01\n",
      "   ---------------------------------------- 1.8/1.8 MB 358.8 kB/s eta 0:00:00\n",
      "Installing collected packages: pip\n",
      "  Attempting uninstall: pip\n",
      "    Found existing installation: pip 24.0\n",
      "    Uninstalling pip-24.0:\n",
      "      Successfully uninstalled pip-24.0\n",
      "Successfully installed pip-24.2\n"
     ]
    }
   ],
   "source": [
    "# !pip install altair\n",
    "!python.exe -m pip install --upgrade pip"
   ]
  },
  {
   "cell_type": "code",
   "execution_count": 129,
   "id": "3a6b137c-a7d9-4436-894a-96beffba6897",
   "metadata": {},
   "outputs": [],
   "source": [
    "import pandas as pd\n",
    "from bokeh.plotting import figure, show\n",
    "import matplotlib.pyplot as plt\n",
    "import plotly.graph_objects as go"
   ]
  },
  {
   "cell_type": "markdown",
   "id": "af948008-f574-4338-bfcc-505464ecf7d9",
   "metadata": {},
   "source": [
    "### Data Preparation"
   ]
  },
  {
   "cell_type": "code",
   "execution_count": 5,
   "id": "9c3f533c-920b-4c65-aa85-4c0491840ef7",
   "metadata": {},
   "outputs": [],
   "source": [
    "# data = pd.read_csv('data/us-software-engineer-jobs-zenrows.csv')"
   ]
  },
  {
   "cell_type": "code",
   "execution_count": 9,
   "id": "3b92a830-ef09-4c79-b428-a26f6b4cf801",
   "metadata": {},
   "outputs": [
    {
     "data": {
      "text/html": [
       "<div>\n",
       "<style scoped>\n",
       "    .dataframe tbody tr th:only-of-type {\n",
       "        vertical-align: middle;\n",
       "    }\n",
       "\n",
       "    .dataframe tbody tr th {\n",
       "        vertical-align: top;\n",
       "    }\n",
       "\n",
       "    .dataframe thead th {\n",
       "        text-align: right;\n",
       "    }\n",
       "</style>\n",
       "<table border=\"1\" class=\"dataframe\">\n",
       "  <thead>\n",
       "    <tr style=\"text-align: right;\">\n",
       "      <th></th>\n",
       "      <th>title</th>\n",
       "      <th>company</th>\n",
       "      <th>salary</th>\n",
       "      <th>rating</th>\n",
       "      <th>review_count</th>\n",
       "      <th>types</th>\n",
       "      <th>location</th>\n",
       "      <th>relative_time</th>\n",
       "      <th>hires_needed</th>\n",
       "      <th>hires_needed_exact</th>\n",
       "      <th>...</th>\n",
       "      <th>indeed_applyable</th>\n",
       "      <th>ad_id</th>\n",
       "      <th>remote_location</th>\n",
       "      <th>source_id</th>\n",
       "      <th>hiring_event_job</th>\n",
       "      <th>indeed_apply_enabled</th>\n",
       "      <th>job_location_postal</th>\n",
       "      <th>company_overview_link</th>\n",
       "      <th>activity_date</th>\n",
       "      <th>location_extras</th>\n",
       "    </tr>\n",
       "  </thead>\n",
       "  <tbody>\n",
       "    <tr>\n",
       "      <th>0</th>\n",
       "      <td>Android Developer</td>\n",
       "      <td>Shockoe</td>\n",
       "      <td>NaN</td>\n",
       "      <td>0.0</td>\n",
       "      <td>0</td>\n",
       "      <td>Full-time</td>\n",
       "      <td>Richmond, VA</td>\n",
       "      <td>30+ days ago</td>\n",
       "      <td>NaN</td>\n",
       "      <td>NaN</td>\n",
       "      <td>...</td>\n",
       "      <td>False</td>\n",
       "      <td>NaN</td>\n",
       "      <td>False</td>\n",
       "      <td>11706594</td>\n",
       "      <td>False</td>\n",
       "      <td>False</td>\n",
       "      <td>NaN</td>\n",
       "      <td>NaN</td>\n",
       "      <td>NaN</td>\n",
       "      <td>NaN</td>\n",
       "    </tr>\n",
       "    <tr>\n",
       "      <th>1</th>\n",
       "      <td>Web Developer</td>\n",
       "      <td>Denios, Inc.</td>\n",
       "      <td>$45,000 - $55,000 a year</td>\n",
       "      <td>0.0</td>\n",
       "      <td>0</td>\n",
       "      <td>Full-time</td>\n",
       "      <td>Louisville, KY</td>\n",
       "      <td>30+ days ago</td>\n",
       "      <td>ONE</td>\n",
       "      <td>1</td>\n",
       "      <td>...</td>\n",
       "      <td>True</td>\n",
       "      <td>370154371.0</td>\n",
       "      <td>False</td>\n",
       "      <td>11468052</td>\n",
       "      <td>False</td>\n",
       "      <td>True</td>\n",
       "      <td>40219.0</td>\n",
       "      <td>NaN</td>\n",
       "      <td>Active 2 days ago</td>\n",
       "      <td>NaN</td>\n",
       "    </tr>\n",
       "    <tr>\n",
       "      <th>2</th>\n",
       "      <td>Sr. Android Developer</td>\n",
       "      <td>The Cervantes Group</td>\n",
       "      <td>NaN</td>\n",
       "      <td>4.1</td>\n",
       "      <td>22</td>\n",
       "      <td>Full-time</td>\n",
       "      <td>Remote</td>\n",
       "      <td>6 days ago</td>\n",
       "      <td>TWO_FOUR</td>\n",
       "      <td>2</td>\n",
       "      <td>...</td>\n",
       "      <td>True</td>\n",
       "      <td>NaN</td>\n",
       "      <td>False</td>\n",
       "      <td>9570478</td>\n",
       "      <td>False</td>\n",
       "      <td>True</td>\n",
       "      <td>NaN</td>\n",
       "      <td>/cmp/The-Cervantes-Group</td>\n",
       "      <td>Active 3 days ago</td>\n",
       "      <td>NaN</td>\n",
       "    </tr>\n",
       "    <tr>\n",
       "      <th>3</th>\n",
       "      <td>Junior Software Engineer</td>\n",
       "      <td>Medical Knowledge Group</td>\n",
       "      <td>NaN</td>\n",
       "      <td>0.0</td>\n",
       "      <td>0</td>\n",
       "      <td>Full-time</td>\n",
       "      <td>Remote</td>\n",
       "      <td>8 days ago</td>\n",
       "      <td>ONE</td>\n",
       "      <td>1</td>\n",
       "      <td>...</td>\n",
       "      <td>True</td>\n",
       "      <td>368864426.0</td>\n",
       "      <td>False</td>\n",
       "      <td>501562</td>\n",
       "      <td>False</td>\n",
       "      <td>True</td>\n",
       "      <td>NaN</td>\n",
       "      <td>NaN</td>\n",
       "      <td>Active 3 days ago</td>\n",
       "      <td>NaN</td>\n",
       "    </tr>\n",
       "    <tr>\n",
       "      <th>4</th>\n",
       "      <td>Cloud Engineer (Software Engineer Advanced, Ex...</td>\n",
       "      <td>Federal Reserve Bank of New York</td>\n",
       "      <td>NaN</td>\n",
       "      <td>4.1</td>\n",
       "      <td>548</td>\n",
       "      <td>Full-time</td>\n",
       "      <td>Kansas City, MO</td>\n",
       "      <td>2 days ago</td>\n",
       "      <td>NaN</td>\n",
       "      <td>NaN</td>\n",
       "      <td>...</td>\n",
       "      <td>False</td>\n",
       "      <td>NaN</td>\n",
       "      <td>False</td>\n",
       "      <td>1439</td>\n",
       "      <td>False</td>\n",
       "      <td>False</td>\n",
       "      <td>NaN</td>\n",
       "      <td>/cmp/Federal-Reserve-Bank-of-New-York</td>\n",
       "      <td>NaN</td>\n",
       "      <td>NaN</td>\n",
       "    </tr>\n",
       "  </tbody>\n",
       "</table>\n",
       "<p>5 rows × 29 columns</p>\n",
       "</div>"
      ],
      "text/plain": [
       "                                               title  \\\n",
       "0                                  Android Developer   \n",
       "1                                      Web Developer   \n",
       "2                              Sr. Android Developer   \n",
       "3                           Junior Software Engineer   \n",
       "4  Cloud Engineer (Software Engineer Advanced, Ex...   \n",
       "\n",
       "                            company                    salary  rating  \\\n",
       "0                           Shockoe                       NaN     0.0   \n",
       "1                      Denios, Inc.  $45,000 - $55,000 a year     0.0   \n",
       "2               The Cervantes Group                       NaN     4.1   \n",
       "3           Medical Knowledge Group                       NaN     0.0   \n",
       "4  Federal Reserve Bank of New York                       NaN     4.1   \n",
       "\n",
       "   review_count      types         location relative_time hires_needed  \\\n",
       "0             0  Full-time     Richmond, VA  30+ days ago          NaN   \n",
       "1             0  Full-time   Louisville, KY  30+ days ago          ONE   \n",
       "2            22  Full-time           Remote    6 days ago     TWO_FOUR   \n",
       "3             0  Full-time           Remote    8 days ago          ONE   \n",
       "4           548  Full-time  Kansas City, MO    2 days ago          NaN   \n",
       "\n",
       "  hires_needed_exact  ...  indeed_applyable        ad_id remote_location  \\\n",
       "0                NaN  ...             False          NaN           False   \n",
       "1                  1  ...              True  370154371.0           False   \n",
       "2                  2  ...              True          NaN           False   \n",
       "3                  1  ...              True  368864426.0           False   \n",
       "4                NaN  ...             False          NaN           False   \n",
       "\n",
       "   source_id hiring_event_job  indeed_apply_enabled job_location_postal  \\\n",
       "0   11706594            False                 False                 NaN   \n",
       "1   11468052            False                  True             40219.0   \n",
       "2    9570478            False                  True                 NaN   \n",
       "3     501562            False                  True                 NaN   \n",
       "4       1439            False                 False                 NaN   \n",
       "\n",
       "                   company_overview_link      activity_date  location_extras  \n",
       "0                                    NaN                NaN              NaN  \n",
       "1                                    NaN  Active 2 days ago              NaN  \n",
       "2               /cmp/The-Cervantes-Group  Active 3 days ago              NaN  \n",
       "3                                    NaN  Active 3 days ago              NaN  \n",
       "4  /cmp/Federal-Reserve-Bank-of-New-York                NaN              NaN  \n",
       "\n",
       "[5 rows x 29 columns]"
      ]
     },
     "execution_count": 9,
     "metadata": {},
     "output_type": "execute_result"
    }
   ],
   "source": [
    "# data.head()"
   ]
  },
  {
   "cell_type": "code",
   "execution_count": 10,
   "id": "388b4a5f-71c5-42f5-be8d-fa9ed5af0614",
   "metadata": {},
   "outputs": [
    {
     "name": "stdout",
     "output_type": "stream",
     "text": [
      "Index(['title', 'company', 'salary', 'rating', 'review_count', 'types',\n",
      "       'location', 'relative_time', 'hires_needed', 'hires_needed_exact',\n",
      "       'urgently_hiring', 'remote_work_model', 'snippet', 'dradis_job', 'link',\n",
      "       'new_job', 'job_link', 'sponsored', 'featured_employer',\n",
      "       'indeed_applyable', 'ad_id', 'remote_location', 'source_id',\n",
      "       'hiring_event_job', 'indeed_apply_enabled', 'job_location_postal',\n",
      "       'company_overview_link', 'activity_date', 'location_extras'],\n",
      "      dtype='object')\n"
     ]
    }
   ],
   "source": [
    "# print(data.columns)"
   ]
  },
  {
   "cell_type": "code",
   "execution_count": 11,
   "id": "14570f7c-bcea-4353-ac96-5b0c30d2742e",
   "metadata": {},
   "outputs": [],
   "source": [
    "# data = data[['title', 'company', 'salary',  'types', 'location', 'relative_time', 'remote_location']]"
   ]
  },
  {
   "cell_type": "code",
   "execution_count": 13,
   "id": "161cb036-1f6e-4f5a-abbf-b4428d7ba46a",
   "metadata": {},
   "outputs": [
    {
     "data": {
      "text/html": [
       "<div>\n",
       "<style scoped>\n",
       "    .dataframe tbody tr th:only-of-type {\n",
       "        vertical-align: middle;\n",
       "    }\n",
       "\n",
       "    .dataframe tbody tr th {\n",
       "        vertical-align: top;\n",
       "    }\n",
       "\n",
       "    .dataframe thead th {\n",
       "        text-align: right;\n",
       "    }\n",
       "</style>\n",
       "<table border=\"1\" class=\"dataframe\">\n",
       "  <thead>\n",
       "    <tr style=\"text-align: right;\">\n",
       "      <th></th>\n",
       "      <th>title</th>\n",
       "      <th>company</th>\n",
       "      <th>salary</th>\n",
       "      <th>types</th>\n",
       "      <th>location</th>\n",
       "      <th>relative_time</th>\n",
       "      <th>remote_location</th>\n",
       "    </tr>\n",
       "  </thead>\n",
       "  <tbody>\n",
       "    <tr>\n",
       "      <th>0</th>\n",
       "      <td>Android Developer</td>\n",
       "      <td>Shockoe</td>\n",
       "      <td>NaN</td>\n",
       "      <td>Full-time</td>\n",
       "      <td>Richmond, VA</td>\n",
       "      <td>30+ days ago</td>\n",
       "      <td>False</td>\n",
       "    </tr>\n",
       "    <tr>\n",
       "      <th>1</th>\n",
       "      <td>Web Developer</td>\n",
       "      <td>Denios, Inc.</td>\n",
       "      <td>$45,000 - $55,000 a year</td>\n",
       "      <td>Full-time</td>\n",
       "      <td>Louisville, KY</td>\n",
       "      <td>30+ days ago</td>\n",
       "      <td>False</td>\n",
       "    </tr>\n",
       "    <tr>\n",
       "      <th>2</th>\n",
       "      <td>Sr. Android Developer</td>\n",
       "      <td>The Cervantes Group</td>\n",
       "      <td>NaN</td>\n",
       "      <td>Full-time</td>\n",
       "      <td>Remote</td>\n",
       "      <td>6 days ago</td>\n",
       "      <td>False</td>\n",
       "    </tr>\n",
       "    <tr>\n",
       "      <th>3</th>\n",
       "      <td>Junior Software Engineer</td>\n",
       "      <td>Medical Knowledge Group</td>\n",
       "      <td>NaN</td>\n",
       "      <td>Full-time</td>\n",
       "      <td>Remote</td>\n",
       "      <td>8 days ago</td>\n",
       "      <td>False</td>\n",
       "    </tr>\n",
       "    <tr>\n",
       "      <th>4</th>\n",
       "      <td>Cloud Engineer (Software Engineer Advanced, Ex...</td>\n",
       "      <td>Federal Reserve Bank of New York</td>\n",
       "      <td>NaN</td>\n",
       "      <td>Full-time</td>\n",
       "      <td>Kansas City, MO</td>\n",
       "      <td>2 days ago</td>\n",
       "      <td>False</td>\n",
       "    </tr>\n",
       "  </tbody>\n",
       "</table>\n",
       "</div>"
      ],
      "text/plain": [
       "                                               title  \\\n",
       "0                                  Android Developer   \n",
       "1                                      Web Developer   \n",
       "2                              Sr. Android Developer   \n",
       "3                           Junior Software Engineer   \n",
       "4  Cloud Engineer (Software Engineer Advanced, Ex...   \n",
       "\n",
       "                            company                    salary      types  \\\n",
       "0                           Shockoe                       NaN  Full-time   \n",
       "1                      Denios, Inc.  $45,000 - $55,000 a year  Full-time   \n",
       "2               The Cervantes Group                       NaN  Full-time   \n",
       "3           Medical Knowledge Group                       NaN  Full-time   \n",
       "4  Federal Reserve Bank of New York                       NaN  Full-time   \n",
       "\n",
       "          location relative_time  remote_location  \n",
       "0     Richmond, VA  30+ days ago            False  \n",
       "1   Louisville, KY  30+ days ago            False  \n",
       "2           Remote    6 days ago            False  \n",
       "3           Remote    8 days ago            False  \n",
       "4  Kansas City, MO    2 days ago            False  "
      ]
     },
     "execution_count": 13,
     "metadata": {},
     "output_type": "execute_result"
    }
   ],
   "source": [
    "# data.head()"
   ]
  },
  {
   "cell_type": "code",
   "execution_count": 25,
   "id": "0e0a7680-6310-4879-8b69-b8fe7fc14b59",
   "metadata": {},
   "outputs": [
    {
     "data": {
      "text/plain": [
       "42070"
      ]
     },
     "execution_count": 25,
     "metadata": {},
     "output_type": "execute_result"
    }
   ],
   "source": [
    "# nan = data[data.isna().any(axis=1)]\n",
    "# len(nan)"
   ]
  },
  {
   "cell_type": "code",
   "execution_count": 26,
   "id": "faf47e5a-8c04-4417-ad8a-f98034b9bf25",
   "metadata": {},
   "outputs": [
    {
     "data": {
      "text/plain": [
       "16363"
      ]
     },
     "execution_count": 26,
     "metadata": {},
     "output_type": "execute_result"
    }
   ],
   "source": [
    "# len(data['salary']) - len(nan)"
   ]
  },
  {
   "cell_type": "markdown",
   "id": "0764688c-c286-42eb-92b3-bfb9d7cbd9cb",
   "metadata": {},
   "source": [
    "### Create 2 new csvs, one without NaN values at all and one with filled NaN values"
   ]
  },
  {
   "cell_type": "code",
   "execution_count": 28,
   "id": "38ad31a5-bfb1-4735-ad1b-857cec1831a2",
   "metadata": {},
   "outputs": [],
   "source": [
    "# data = data.dropna()"
   ]
  },
  {
   "cell_type": "code",
   "execution_count": 29,
   "id": "7e9df972-20e5-49ef-a4fc-065ad62e9bb5",
   "metadata": {},
   "outputs": [
    {
     "data": {
      "text/plain": [
       "(16363, 7)"
      ]
     },
     "execution_count": 29,
     "metadata": {},
     "output_type": "execute_result"
    }
   ],
   "source": [
    "# data.shape"
   ]
  },
  {
   "cell_type": "code",
   "execution_count": 31,
   "id": "1af576ad-0b3c-4f6e-a184-997f14e30d68",
   "metadata": {},
   "outputs": [],
   "source": [
    "# data.to_csv('data/us-software-engineer-jobs-zenrows (no NaN).csv')"
   ]
  },
  {
   "cell_type": "markdown",
   "id": "547f5846-511e-4ebd-ad46-70ed9aa8b5e2",
   "metadata": {},
   "source": [
    "## Exploratory Data Analysis\n",
    "### Questiones to be answered\n",
    "\n",
    "1. **Job Title Analysis:**\r\n",
    "   - What are the most common job titles in software engineering roles?\r\n",
    "   - How do job titles vary by locatin\n",
    "   - Most popular jobs by location?y?\r\n",
    "\r\n",
    "2. **Salary Analysis:**\r\n",
    "   - What is the distribution of salaries across different software engineering rract)?\r\n",
    "   - Are there salary differences based on loptions?\r\n",
    "\r\n",
    "3. **Company Analysis:**\r\n",
    "   - Which companies are posting the most software engineerinilar roles?\r\n",
    "   - What are the top companies offering remot?\r\n",
    "\r\n",
    "4. **Job Type Analysis:**\r\n",
    "   - What is the distribution of job types (e.g., full-time, part-time, contract)?\r\n",
    "   - How does the job type influence rysalary or location?\r\n",
    "\r\n",
    "5. **Location Analysis:**\r\n",
    "   - What are the most common locations for software engineering roles?\r\n",
    "   - How does the location impact salary?\r\n",
    "   - Which locations offer the most remotfe6ent 6imes of the year?\r\n",
    "\r\n",
    "7. **Remote Work Analysis:**\r\n",
    "   - What proportion of job ads offer remote work options?\r\n",
    "   - How do remote job opportunities vary by location or company?\r\n",
    "   - Is there a salary difference between 7emor8 interact with each other?\r\n",
    "\r\n",
    "9. **Job Market Trends:**\r\n",
    "   - What are the emerging trends in software engineering roles based on job titles, locations, and remote work?\r\n",
    "   - Are there any significant changes in demand for certain skills or job types?\r\n"
   ]
  },
  {
   "cell_type": "code",
   "execution_count": 2,
   "id": "3cb04055-bf80-4668-95b8-a841b7966501",
   "metadata": {},
   "outputs": [],
   "source": [
    "cleaned_jobs_df = pd.read_csv('data/us-software-engineer-jobs-zenrows (no NaN).csv')"
   ]
  },
  {
   "cell_type": "code",
   "execution_count": 3,
   "id": "de4e8746-823e-4b6a-8cc2-d9b4d11d2997",
   "metadata": {},
   "outputs": [],
   "source": [
    "filled_nan_jobs_df = pd.read_csv('data/us-software-engineer-jobs-zenrows (filled NaN).csv')"
   ]
  },
  {
   "cell_type": "code",
   "execution_count": 20,
   "id": "89f9285e-c5e9-4a74-9de6-1585f1cc2da5",
   "metadata": {},
   "outputs": [
    {
     "data": {
      "text/plain": [
       "0            1\n",
       "1            7\n",
       "2           14\n",
       "3           17\n",
       "4           19\n",
       "         ...  \n",
       "16358    58417\n",
       "16359    58420\n",
       "16360    58423\n",
       "16361    58424\n",
       "16362    58425\n",
       "Name: Unnamed: 0, Length: 16363, dtype: int64"
      ]
     },
     "execution_count": 20,
     "metadata": {},
     "output_type": "execute_result"
    }
   ],
   "source": [
    "# cleaned_jobs_df.pop('Unnamed: 0')"
   ]
  },
  {
   "cell_type": "code",
   "execution_count": 24,
   "id": "3cfda982-7d26-4d5c-b97d-747e33fb6b0b",
   "metadata": {},
   "outputs": [
    {
     "data": {
      "text/html": [
       "<div>\n",
       "<style scoped>\n",
       "    .dataframe tbody tr th:only-of-type {\n",
       "        vertical-align: middle;\n",
       "    }\n",
       "\n",
       "    .dataframe tbody tr th {\n",
       "        vertical-align: top;\n",
       "    }\n",
       "\n",
       "    .dataframe thead th {\n",
       "        text-align: right;\n",
       "    }\n",
       "</style>\n",
       "<table border=\"1\" class=\"dataframe\">\n",
       "  <thead>\n",
       "    <tr style=\"text-align: right;\">\n",
       "      <th></th>\n",
       "      <th>title</th>\n",
       "      <th>company</th>\n",
       "      <th>salary</th>\n",
       "      <th>types</th>\n",
       "      <th>location</th>\n",
       "      <th>relative_time</th>\n",
       "      <th>remote_location</th>\n",
       "    </tr>\n",
       "  </thead>\n",
       "  <tbody>\n",
       "    <tr>\n",
       "      <th>0</th>\n",
       "      <td>Web Developer</td>\n",
       "      <td>Denios, Inc.</td>\n",
       "      <td>$45,000 - $55,000 a year</td>\n",
       "      <td>Full-time</td>\n",
       "      <td>Louisville, KY</td>\n",
       "      <td>30+ days ago</td>\n",
       "      <td>False</td>\n",
       "    </tr>\n",
       "    <tr>\n",
       "      <th>1</th>\n",
       "      <td>Real-Time, Embedded Software Engineer</td>\n",
       "      <td>Checkmate Partners</td>\n",
       "      <td>$100,000 - $200,000 a year</td>\n",
       "      <td>Full-time</td>\n",
       "      <td>San Francisco Bay Area, CA</td>\n",
       "      <td>5 days ago</td>\n",
       "      <td>False</td>\n",
       "    </tr>\n",
       "    <tr>\n",
       "      <th>2</th>\n",
       "      <td>Cyber Security Operation Center Manager (SOC)</td>\n",
       "      <td>Goliath Solutions Group</td>\n",
       "      <td>$15 - $20 an hour</td>\n",
       "      <td>Full-time</td>\n",
       "      <td>Fairview, TX</td>\n",
       "      <td>27 days ago</td>\n",
       "      <td>False</td>\n",
       "    </tr>\n",
       "    <tr>\n",
       "      <th>3</th>\n",
       "      <td>DevOps Engineer - Very Profitable Start-up</td>\n",
       "      <td>TechTalent NW</td>\n",
       "      <td>$125,000 - $170,000 a year</td>\n",
       "      <td>Full-time</td>\n",
       "      <td>Bellevue, WA</td>\n",
       "      <td>1 day ago</td>\n",
       "      <td>False</td>\n",
       "    </tr>\n",
       "    <tr>\n",
       "      <th>4</th>\n",
       "      <td>Lead Software/Java Engineer</td>\n",
       "      <td>Bectran</td>\n",
       "      <td>$90,000 - $130,000 a year</td>\n",
       "      <td>Full-time</td>\n",
       "      <td>Chicago, IL</td>\n",
       "      <td>7 days ago</td>\n",
       "      <td>False</td>\n",
       "    </tr>\n",
       "  </tbody>\n",
       "</table>\n",
       "</div>"
      ],
      "text/plain": [
       "                                           title                  company  \\\n",
       "0                                  Web Developer             Denios, Inc.   \n",
       "1          Real-Time, Embedded Software Engineer       Checkmate Partners   \n",
       "2  Cyber Security Operation Center Manager (SOC)  Goliath Solutions Group   \n",
       "3     DevOps Engineer - Very Profitable Start-up            TechTalent NW   \n",
       "4                    Lead Software/Java Engineer                  Bectran   \n",
       "\n",
       "                       salary      types                    location  \\\n",
       "0    $45,000 - $55,000 a year  Full-time              Louisville, KY   \n",
       "1  $100,000 - $200,000 a year  Full-time  San Francisco Bay Area, CA   \n",
       "2           $15 - $20 an hour  Full-time                Fairview, TX   \n",
       "3  $125,000 - $170,000 a year  Full-time                Bellevue, WA   \n",
       "4   $90,000 - $130,000 a year  Full-time                 Chicago, IL   \n",
       "\n",
       "  relative_time  remote_location  \n",
       "0  30+ days ago            False  \n",
       "1    5 days ago            False  \n",
       "2   27 days ago            False  \n",
       "3     1 day ago            False  \n",
       "4    7 days ago            False  "
      ]
     },
     "execution_count": 24,
     "metadata": {},
     "output_type": "execute_result"
    }
   ],
   "source": [
    "cleaned_jobs_df.head(5)"
   ]
  },
  {
   "cell_type": "code",
   "execution_count": null,
   "id": "7b3f71b4-2378-403d-8c5d-33ee3691e2ba",
   "metadata": {},
   "outputs": [],
   "source": [
    "[salary_hour for salary_hour in cleaned_jobs_df['salary'] if 'hour' in salary_hour]"
   ]
  },
  {
   "cell_type": "code",
   "execution_count": null,
   "id": "c2a48bd4-d0de-4022-b1ca-0308f51c7f83",
   "metadata": {},
   "outputs": [],
   "source": [
    "[salary_year for salary_year in cleaned_jobs_df['salary'] if 'year' in salary_year]"
   ]
  },
  {
   "cell_type": "markdown",
   "id": "70cd86dc-1715-4e50-bd36-d9bc1432f357",
   "metadata": {},
   "source": [
    "## **Job Title Analysis:**\n",
    "   - What are the most common job titles in software engineering roles?\n",
    "   - How do job titles vary by location or company?"
   ]
  },
  {
   "cell_type": "code",
   "execution_count": 26,
   "id": "d8f0be81-cd2d-45be-b34c-c02faaf93f32",
   "metadata": {},
   "outputs": [
    {
     "data": {
      "text/plain": [
       "2883"
      ]
     },
     "execution_count": 26,
     "metadata": {},
     "output_type": "execute_result"
    }
   ],
   "source": [
    "# list of job titles\n",
    "titles = [title for title in cleaned_jobs_df['title'].unique()]\n",
    "len(titles) # 2883"
   ]
  },
  {
   "cell_type": "code",
   "execution_count": 107,
   "id": "972f84a1-4cc8-4893-a5a4-cef95fe9eacc",
   "metadata": {},
   "outputs": [
    {
     "data": {
      "text/plain": [
       "title\n",
       "Senior Software Engineer    1106\n",
       "Software Engineer           1095\n",
       "Sr. Software Engineer        292\n",
       "Software Developer           275\n",
       "Full Stack Developer         201\n",
       "Name: count, dtype: int64"
      ]
     },
     "execution_count": 107,
     "metadata": {},
     "output_type": "execute_result"
    }
   ],
   "source": [
    "common_titles = cleaned_jobs_df['title'].value_counts().head(5)\n",
    "common_titles"
   ]
  },
  {
   "cell_type": "code",
   "execution_count": 108,
   "id": "a10a186d-deff-4c82-8b79-41516c147d0b",
   "metadata": {},
   "outputs": [
    {
     "data": {
      "image/png": "[encoded data removed]",
      "text/plain": [
       "<Figure size 640x480 with 1 Axes>"
      ]
     },
     "metadata": {},
     "output_type": "display_data"
    }
   ],
   "source": [
    "# Plotting the line chart\n",
    "# plt.figure(figsize=(10, 6))\n",
    "plt.plot(common_titles.index, common_titles.values, marker='o', linestyle='-', color='r')\n",
    "\n",
    "# Adding titles and labels\n",
    "plt.title('Top 10 Most Common Job Titles', fontsize=13)\n",
    "plt.xlabel('Job Titles', fontsize=12)\n",
    "plt.ylabel('Number of Occurrences', fontsize=14)\n",
    "plt.xticks(rotation=45, ha='right')  # Rotate x-axis labels for better readability\n",
    "plt.grid(True)"
   ]
  },
  {
   "cell_type": "code",
   "execution_count": 143,
   "id": "aaf89717-0fc7-4a99-a0a2-5253b64eeec0",
   "metadata": {},
   "outputs": [
    {
     "data": {
      "application/vnd.plotly.v1+json": {
       "config": {
        "plotlyServerURL": "https://plot.ly"
       },
       "data": [
        {
         "line": {
          "color": "red"
         },
         "marker": {
          "color": "red",
          "size": 8
         },
         "mode": "lines+markers",
         "type": "scatter",
         "x": [
          "Senior Software Engineer",
          "Software Engineer",
          "Sr. Software Engineer",
          "Software Developer",
          "Full Stack Developer"
         ],
         "y": [
          1106,
          1095,
          292,
          275,
          201
         ]
        }
       ],
       "layout": {
        "autosize": true,
        "plot_bgcolor": "white",
        "showlegend": false,
        "template": {
         "data": {
          "bar": [
           {
            "error_x": {
             "color": "#2a3f5f"
            },
            "error_y": {
             "color": "#2a3f5f"
            },
            "marker": {
             "line": {
              "color": "#E5ECF6",
              "width": 0.5
             },
             "pattern": {
              "fillmode": "overlay",
              "size": 10,
              "solidity": 0.2
             }
            },
            "type": "bar"
           }
          ],
          "barpolar": [
           {
            "marker": {
             "line": {
              "color": "#E5ECF6",
              "width": 0.5
             },
             "pattern": {
              "fillmode": "overlay",
              "size": 10,
              "solidity": 0.2
             }
            },
            "type": "barpolar"
           }
          ],
          "carpet": [
           {
            "aaxis": {
             "endlinecolor": "#2a3f5f",
             "gridcolor": "white",
             "linecolor": "white",
             "minorgridcolor": "white",
             "startlinecolor": "#2a3f5f"
            },
            "baxis": {
             "endlinecolor": "#2a3f5f",
             "gridcolor": "white",
             "linecolor": "white",
             "minorgridcolor": "white",
             "startlinecolor": "#2a3f5f"
            },
            "type": "carpet"
           }
          ],
          "choropleth": [
           {
            "colorbar": {
             "outlinewidth": 0,
             "ticks": ""
            },
            "type": "choropleth"
           }
          ],
          "contour": [
           {
            "colorbar": {
             "outlinewidth": 0,
             "ticks": ""
            },
            "colorscale": [
             [
              0,
              "#0d0887"
             ],
             [
              0.1111111111111111,
              "#46039f"
             ],
             [
              0.2222222222222222,
              "#7201a8"
             ],
             [
              0.3333333333333333,
              "#9c179e"
             ],
             [
              0.4444444444444444,
              "#bd3786"
             ],
             [
              0.5555555555555556,
              "#d8576b"
             ],
             [
              0.6666666666666666,
              "#ed7953"
             ],
             [
              0.7777777777777778,
              "#fb9f3a"
             ],
             [
              0.8888888888888888,
              "#fdca26"
             ],
             [
              1,
              "#f0f921"
             ]
            ],
            "type": "contour"
           }
          ],
          "contourcarpet": [
           {
            "colorbar": {
             "outlinewidth": 0,
             "ticks": ""
            },
            "type": "contourcarpet"
           }
          ],
          "heatmap": [
           {
            "colorbar": {
             "outlinewidth": 0,
             "ticks": ""
            },
            "colorscale": [
             [
              0,
              "#0d0887"
             ],
             [
              0.1111111111111111,
              "#46039f"
             ],
             [
              0.2222222222222222,
              "#7201a8"
             ],
             [
              0.3333333333333333,
              "#9c179e"
             ],
             [
              0.4444444444444444,
              "#bd3786"
             ],
             [
              0.5555555555555556,
              "#d8576b"
             ],
             [
              0.6666666666666666,
              "#ed7953"
             ],
             [
              0.7777777777777778,
              "#fb9f3a"
             ],
             [
              0.8888888888888888,
              "#fdca26"
             ],
             [
              1,
              "#f0f921"
             ]
            ],
            "type": "heatmap"
           }
          ],
          "heatmapgl": [
           {
            "colorbar": {
             "outlinewidth": 0,
             "ticks": ""
            },
            "colorscale": [
             [
              0,
              "#0d0887"
             ],
             [
              0.1111111111111111,
              "#46039f"
             ],
             [
              0.2222222222222222,
              "#7201a8"
             ],
             [
              0.3333333333333333,
              "#9c179e"
             ],
             [
              0.4444444444444444,
              "#bd3786"
             ],
             [
              0.5555555555555556,
              "#d8576b"
             ],
             [
              0.6666666666666666,
              "#ed7953"
             ],
             [
              0.7777777777777778,
              "#fb9f3a"
             ],
             [
              0.8888888888888888,
              "#fdca26"
             ],
             [
              1,
              "#f0f921"
             ]
            ],
            "type": "heatmapgl"
           }
          ],
          "histogram": [
           {
            "marker": {
             "pattern": {
              "fillmode": "overlay",
              "size": 10,
              "solidity": 0.2
             }
            },
            "type": "histogram"
           }
          ],
          "histogram2d": [
           {
            "colorbar": {
             "outlinewidth": 0,
             "ticks": ""
            },
            "colorscale": [
             [
              0,
              "#0d0887"
             ],
             [
              0.1111111111111111,
              "#46039f"
             ],
             [
              0.2222222222222222,
              "#7201a8"
             ],
             [
              0.3333333333333333,
              "#9c179e"
             ],
             [
              0.4444444444444444,
              "#bd3786"
             ],
             [
              0.5555555555555556,
              "#d8576b"
             ],
             [
              0.6666666666666666,
              "#ed7953"
             ],
             [
              0.7777777777777778,
              "#fb9f3a"
             ],
             [
              0.8888888888888888,
              "#fdca26"
             ],
             [
              1,
              "#f0f921"
             ]
            ],
            "type": "histogram2d"
           }
          ],
          "histogram2dcontour": [
           {
            "colorbar": {
             "outlinewidth": 0,
             "ticks": ""
            },
            "colorscale": [
             [
              0,
              "#0d0887"
             ],
             [
              0.1111111111111111,
              "#46039f"
             ],
             [
              0.2222222222222222,
              "#7201a8"
             ],
             [
              0.3333333333333333,
              "#9c179e"
             ],
             [
              0.4444444444444444,
              "#bd3786"
             ],
             [
              0.5555555555555556,
              "#d8576b"
             ],
             [
              0.6666666666666666,
              "#ed7953"
             ],
             [
              0.7777777777777778,
              "#fb9f3a"
             ],
             [
              0.8888888888888888,
              "#fdca26"
             ],
             [
              1,
              "#f0f921"
             ]
            ],
            "type": "histogram2dcontour"
           }
          ],
          "mesh3d": [
           {
            "colorbar": {
             "outlinewidth": 0,
             "ticks": ""
            },
            "type": "mesh3d"
           }
          ],
          "parcoords": [
           {
            "line": {
             "colorbar": {
              "outlinewidth": 0,
              "ticks": ""
             }
            },
            "type": "parcoords"
           }
          ],
          "pie": [
           {
            "automargin": true,
            "type": "pie"
           }
          ],
          "scatter": [
           {
            "fillpattern": {
             "fillmode": "overlay",
             "size": 10,
             "solidity": 0.2
            },
            "type": "scatter"
           }
          ],
          "scatter3d": [
           {
            "line": {
             "colorbar": {
              "outlinewidth": 0,
              "ticks": ""
             }
            },
            "marker": {
             "colorbar": {
              "outlinewidth": 0,
              "ticks": ""
             }
            },
            "type": "scatter3d"
           }
          ],
          "scattercarpet": [
           {
            "marker": {
             "colorbar": {
              "outlinewidth": 0,
              "ticks": ""
             }
            },
            "type": "scattercarpet"
           }
          ],
          "scattergeo": [
           {
            "marker": {
             "colorbar": {
              "outlinewidth": 0,
              "ticks": ""
             }
            },
            "type": "scattergeo"
           }
          ],
          "scattergl": [
           {
            "marker": {
             "colorbar": {
              "outlinewidth": 0,
              "ticks": ""
             }
            },
            "type": "scattergl"
           }
          ],
          "scattermapbox": [
           {
            "marker": {
             "colorbar": {
              "outlinewidth": 0,
              "ticks": ""
             }
            },
            "type": "scattermapbox"
           }
          ],
          "scatterpolar": [
           {
            "marker": {
             "colorbar": {
              "outlinewidth": 0,
              "ticks": ""
             }
            },
            "type": "scatterpolar"
           }
          ],
          "scatterpolargl": [
           {
            "marker": {
             "colorbar": {
              "outlinewidth": 0,
              "ticks": ""
             }
            },
            "type": "scatterpolargl"
           }
          ],
          "scatterternary": [
           {
            "marker": {
             "colorbar": {
              "outlinewidth": 0,
              "ticks": ""
             }
            },
            "type": "scatterternary"
           }
          ],
          "surface": [
           {
            "colorbar": {
             "outlinewidth": 0,
             "ticks": ""
            },
            "colorscale": [
             [
              0,
              "#0d0887"
             ],
             [
              0.1111111111111111,
              "#46039f"
             ],
             [
              0.2222222222222222,
              "#7201a8"
             ],
             [
              0.3333333333333333,
              "#9c179e"
             ],
             [
              0.4444444444444444,
              "#bd3786"
             ],
             [
              0.5555555555555556,
              "#d8576b"
             ],
             [
              0.6666666666666666,
              "#ed7953"
             ],
             [
              0.7777777777777778,
              "#fb9f3a"
             ],
             [
              0.8888888888888888,
              "#fdca26"
             ],
             [
              1,
              "#f0f921"
             ]
            ],
            "type": "surface"
           }
          ],
          "table": [
           {
            "cells": {
             "fill": {
              "color": "#EBF0F8"
             },
             "line": {
              "color": "white"
             }
            },
            "header": {
             "fill": {
              "color": "#C8D4E3"
             },
             "line": {
              "color": "white"
             }
            },
            "type": "table"
           }
          ]
         },
         "layout": {
          "annotationdefaults": {
           "arrowcolor": "#2a3f5f",
           "arrowhead": 0,
           "arrowwidth": 1
          },
          "autotypenumbers": "strict",
          "coloraxis": {
           "colorbar": {
            "outlinewidth": 0,
            "ticks": ""
           }
          },
          "colorscale": {
           "diverging": [
            [
             0,
             "#8e0152"
            ],
            [
             0.1,
             "#c51b7d"
            ],
            [
             0.2,
             "#de77ae"
            ],
            [
             0.3,
             "#f1b6da"
            ],
            [
             0.4,
             "#fde0ef"
            ],
            [
             0.5,
             "#f7f7f7"
            ],
            [
             0.6,
             "#e6f5d0"
            ],
            [
             0.7,
             "#b8e186"
            ],
            [
             0.8,
             "#7fbc41"
            ],
            [
             0.9,
             "#4d9221"
            ],
            [
             1,
             "#276419"
            ]
           ],
           "sequential": [
            [
             0,
             "#0d0887"
            ],
            [
             0.1111111111111111,
             "#46039f"
            ],
            [
             0.2222222222222222,
             "#7201a8"
            ],
            [
             0.3333333333333333,
             "#9c179e"
            ],
            [
             0.4444444444444444,
             "#bd3786"
            ],
            [
             0.5555555555555556,
             "#d8576b"
            ],
            [
             0.6666666666666666,
             "#ed7953"
            ],
            [
             0.7777777777777778,
             "#fb9f3a"
            ],
            [
             0.8888888888888888,
             "#fdca26"
            ],
            [
             1,
             "#f0f921"
            ]
           ],
           "sequentialminus": [
            [
             0,
             "#0d0887"
            ],
            [
             0.1111111111111111,
             "#46039f"
            ],
            [
             0.2222222222222222,
             "#7201a8"
            ],
            [
             0.3333333333333333,
             "#9c179e"
            ],
            [
             0.4444444444444444,
             "#bd3786"
            ],
            [
             0.5555555555555556,
             "#d8576b"
            ],
            [
             0.6666666666666666,
             "#ed7953"
            ],
            [
             0.7777777777777778,
             "#fb9f3a"
            ],
            [
             0.8888888888888888,
             "#fdca26"
            ],
            [
             1,
             "#f0f921"
            ]
           ]
          },
          "colorway": [
           "#636efa",
           "#EF553B",
           "#00cc96",
           "#ab63fa",
           "#FFA15A",
           "#19d3f3",
           "#FF6692",
           "#B6E880",
           "#FF97FF",
           "#FECB52"
          ],
          "font": {
           "color": "#2a3f5f"
          },
          "geo": {
           "bgcolor": "white",
           "lakecolor": "white",
           "landcolor": "#E5ECF6",
           "showlakes": true,
           "showland": true,
           "subunitcolor": "white"
          },
          "hoverlabel": {
           "align": "left"
          },
          "hovermode": "closest",
          "mapbox": {
           "style": "light"
          },
          "paper_bgcolor": "white",
          "plot_bgcolor": "#E5ECF6",
          "polar": {
           "angularaxis": {
            "gridcolor": "white",
            "linecolor": "white",
            "ticks": ""
           },
           "bgcolor": "#E5ECF6",
           "radialaxis": {
            "gridcolor": "white",
            "linecolor": "white",
            "ticks": ""
           }
          },
          "scene": {
           "xaxis": {
            "backgroundcolor": "#E5ECF6",
            "gridcolor": "white",
            "gridwidth": 2,
            "linecolor": "white",
            "showbackground": true,
            "ticks": "",
            "zerolinecolor": "white"
           },
           "yaxis": {
            "backgroundcolor": "#E5ECF6",
            "gridcolor": "white",
            "gridwidth": 2,
            "linecolor": "white",
            "showbackground": true,
            "ticks": "",
            "zerolinecolor": "white"
           },
           "zaxis": {
            "backgroundcolor": "#E5ECF6",
            "gridcolor": "white",
            "gridwidth": 2,
            "linecolor": "white",
            "showbackground": true,
            "ticks": "",
            "zerolinecolor": "white"
           }
          },
          "shapedefaults": {
           "line": {
            "color": "#2a3f5f"
           }
          },
          "ternary": {
           "aaxis": {
            "gridcolor": "white",
            "linecolor": "white",
            "ticks": ""
           },
           "baxis": {
            "gridcolor": "white",
            "linecolor": "white",
            "ticks": ""
           },
           "bgcolor": "#E5ECF6",
           "caxis": {
            "gridcolor": "white",
            "linecolor": "white",
            "ticks": ""
           }
          },
          "title": {
           "x": 0.05
          },
          "xaxis": {
           "automargin": true,
           "gridcolor": "white",
           "linecolor": "white",
           "ticks": "",
           "title": {
            "standoff": 15
           },
           "zerolinecolor": "white",
           "zerolinewidth": 2
          },
          "yaxis": {
           "automargin": true,
           "gridcolor": "white",
           "linecolor": "white",
           "ticks": "",
           "title": {
            "standoff": 15
           },
           "zerolinecolor": "white",
           "zerolinewidth": 2
          }
         }
        },
        "title": {
         "font": {
          "size": 15
         },
         "text": "Top 10 Most Common Job Titles"
        },
        "xaxis": {
         "autorange": true,
         "gridcolor": "lightgray",
         "gridwidth": 1,
         "range": [
          -0.24877524196439238,
          4.248775241964393
         ],
         "showgrid": true,
         "tickangle": 45,
         "tickmode": "array",
         "tickvals": [
          "Senior Software Engineer",
          "Software Engineer",
          "Sr. Software Engineer",
          "Software Developer",
          "Full Stack Developer"
         ],
         "title": {
          "font": {
           "size": 12
          },
          "text": "Job Titles"
         },
         "type": "category"
        },
        "yaxis": {
         "autorange": true,
         "gridcolor": "lightgray",
         "gridwidth": 1,
         "range": [
          89.92684401451027,
          1217.0731559854898
         ],
         "showgrid": true,
         "title": {
          "font": {
           "size": 14
          },
          "text": "Number of Occurrences"
         },
         "type": "linear"
        }
       }
      },
      "image/png": "[encoded data removed]",
      "text/html": [
       "<div>                            <div id=\"68566069-3d38-4860-8fe9-71ac1b27c84c\" class=\"plotly-graph-div\" style=\"height:525px; width:100%;\"></div>            <script type=\"text/javascript\">                require([\"plotly\"], function(Plotly) {                    window.PLOTLYENV=window.PLOTLYENV || {};                                    if (document.getElementById(\"68566069-3d38-4860-8fe9-71ac1b27c84c\")) {                    Plotly.newPlot(                        \"68566069-3d38-4860-8fe9-71ac1b27c84c\",                        [{\"line\":{\"color\":\"red\"},\"marker\":{\"color\":\"red\",\"size\":8},\"mode\":\"lines+markers\",\"x\":[\"Senior Software Engineer\",\"Software Engineer\",\"Sr. Software Engineer\",\"Software Developer\",\"Full Stack Developer\"],\"y\":[1106,1095,292,275,201],\"type\":\"scatter\"}],                        {\"template\":{\"data\":{\"histogram2dcontour\":[{\"type\":\"histogram2dcontour\",\"colorbar\":{\"outlinewidth\":0,\"ticks\":\"\"},\"colorscale\":[[0.0,\"#0d0887\"],[0.1111111111111111,\"#46039f\"],[0.2222222222222222,\"#7201a8\"],[0.3333333333333333,\"#9c179e\"],[0.4444444444444444,\"#bd3786\"],[0.5555555555555556,\"#d8576b\"],[0.6666666666666666,\"#ed7953\"],[0.7777777777777778,\"#fb9f3a\"],[0.8888888888888888,\"#fdca26\"],[1.0,\"#f0f921\"]]}],\"choropleth\":[{\"type\":\"choropleth\",\"colorbar\":{\"outlinewidth\":0,\"ticks\":\"\"}}],\"histogram2d\":[{\"type\":\"histogram2d\",\"colorbar\":{\"outlinewidth\":0,\"ticks\":\"\"},\"colorscale\":[[0.0,\"#0d0887\"],[0.1111111111111111,\"#46039f\"],[0.2222222222222222,\"#7201a8\"],[0.3333333333333333,\"#9c179e\"],[0.4444444444444444,\"#bd3786\"],[0.5555555555555556,\"#d8576b\"],[0.6666666666666666,\"#ed7953\"],[0.7777777777777778,\"#fb9f3a\"],[0.8888888888888888,\"#fdca26\"],[1.0,\"#f0f921\"]]}],\"heatmap\":[{\"type\":\"heatmap\",\"colorbar\":{\"outlinewidth\":0,\"ticks\":\"\"},\"colorscale\":[[0.0,\"#0d0887\"],[0.1111111111111111,\"#46039f\"],[0.2222222222222222,\"#7201a8\"],[0.3333333333333333,\"#9c179e\"],[0.4444444444444444,\"#bd3786\"],[0.5555555555555556,\"#d8576b\"],[0.6666666666666666,\"#ed7953\"],[0.7777777777777778,\"#fb9f3a\"],[0.8888888888888888,\"#fdca26\"],[1.0,\"#f0f921\"]]}],\"heatmapgl\":[{\"type\":\"heatmapgl\",\"colorbar\":{\"outlinewidth\":0,\"ticks\":\"\"},\"colorscale\":[[0.0,\"#0d0887\"],[0.1111111111111111,\"#46039f\"],[0.2222222222222222,\"#7201a8\"],[0.3333333333333333,\"#9c179e\"],[0.4444444444444444,\"#bd3786\"],[0.5555555555555556,\"#d8576b\"],[0.6666666666666666,\"#ed7953\"],[0.7777777777777778,\"#fb9f3a\"],[0.8888888888888888,\"#fdca26\"],[1.0,\"#f0f921\"]]}],\"contourcarpet\":[{\"type\":\"contourcarpet\",\"colorbar\":{\"outlinewidth\":0,\"ticks\":\"\"}}],\"contour\":[{\"type\":\"contour\",\"colorbar\":{\"outlinewidth\":0,\"ticks\":\"\"},\"colorscale\":[[0.0,\"#0d0887\"],[0.1111111111111111,\"#46039f\"],[0.2222222222222222,\"#7201a8\"],[0.3333333333333333,\"#9c179e\"],[0.4444444444444444,\"#bd3786\"],[0.5555555555555556,\"#d8576b\"],[0.6666666666666666,\"#ed7953\"],[0.7777777777777778,\"#fb9f3a\"],[0.8888888888888888,\"#fdca26\"],[1.0,\"#f0f921\"]]}],\"surface\":[{\"type\":\"surface\",\"colorbar\":{\"outlinewidth\":0,\"ticks\":\"\"},\"colorscale\":[[0.0,\"#0d0887\"],[0.1111111111111111,\"#46039f\"],[0.2222222222222222,\"#7201a8\"],[0.3333333333333333,\"#9c179e\"],[0.4444444444444444,\"#bd3786\"],[0.5555555555555556,\"#d8576b\"],[0.6666666666666666,\"#ed7953\"],[0.7777777777777778,\"#fb9f3a\"],[0.8888888888888888,\"#fdca26\"],[1.0,\"#f0f921\"]]}],\"mesh3d\":[{\"type\":\"mesh3d\",\"colorbar\":{\"outlinewidth\":0,\"ticks\":\"\"}}],\"scatter\":[{\"fillpattern\":{\"fillmode\":\"overlay\",\"size\":10,\"solidity\":0.2},\"type\":\"scatter\"}],\"parcoords\":[{\"type\":\"parcoords\",\"line\":{\"colorbar\":{\"outlinewidth\":0,\"ticks\":\"\"}}}],\"scatterpolargl\":[{\"type\":\"scatterpolargl\",\"marker\":{\"colorbar\":{\"outlinewidth\":0,\"ticks\":\"\"}}}],\"bar\":[{\"error_x\":{\"color\":\"#2a3f5f\"},\"error_y\":{\"color\":\"#2a3f5f\"},\"marker\":{\"line\":{\"color\":\"#E5ECF6\",\"width\":0.5},\"pattern\":{\"fillmode\":\"overlay\",\"size\":10,\"solidity\":0.2}},\"type\":\"bar\"}],\"scattergeo\":[{\"type\":\"scattergeo\",\"marker\":{\"colorbar\":{\"outlinewidth\":0,\"ticks\":\"\"}}}],\"scatterpolar\":[{\"type\":\"scatterpolar\",\"marker\":{\"colorbar\":{\"outlinewidth\":0,\"ticks\":\"\"}}}],\"histogram\":[{\"marker\":{\"pattern\":{\"fillmode\":\"overlay\",\"size\":10,\"solidity\":0.2}},\"type\":\"histogram\"}],\"scattergl\":[{\"type\":\"scattergl\",\"marker\":{\"colorbar\":{\"outlinewidth\":0,\"ticks\":\"\"}}}],\"scatter3d\":[{\"type\":\"scatter3d\",\"line\":{\"colorbar\":{\"outlinewidth\":0,\"ticks\":\"\"}},\"marker\":{\"colorbar\":{\"outlinewidth\":0,\"ticks\":\"\"}}}],\"scattermapbox\":[{\"type\":\"scattermapbox\",\"marker\":{\"colorbar\":{\"outlinewidth\":0,\"ticks\":\"\"}}}],\"scatterternary\":[{\"type\":\"scatterternary\",\"marker\":{\"colorbar\":{\"outlinewidth\":0,\"ticks\":\"\"}}}],\"scattercarpet\":[{\"type\":\"scattercarpet\",\"marker\":{\"colorbar\":{\"outlinewidth\":0,\"ticks\":\"\"}}}],\"carpet\":[{\"aaxis\":{\"endlinecolor\":\"#2a3f5f\",\"gridcolor\":\"white\",\"linecolor\":\"white\",\"minorgridcolor\":\"white\",\"startlinecolor\":\"#2a3f5f\"},\"baxis\":{\"endlinecolor\":\"#2a3f5f\",\"gridcolor\":\"white\",\"linecolor\":\"white\",\"minorgridcolor\":\"white\",\"startlinecolor\":\"#2a3f5f\"},\"type\":\"carpet\"}],\"table\":[{\"cells\":{\"fill\":{\"color\":\"#EBF0F8\"},\"line\":{\"color\":\"white\"}},\"header\":{\"fill\":{\"color\":\"#C8D4E3\"},\"line\":{\"color\":\"white\"}},\"type\":\"table\"}],\"barpolar\":[{\"marker\":{\"line\":{\"color\":\"#E5ECF6\",\"width\":0.5},\"pattern\":{\"fillmode\":\"overlay\",\"size\":10,\"solidity\":0.2}},\"type\":\"barpolar\"}],\"pie\":[{\"automargin\":true,\"type\":\"pie\"}]},\"layout\":{\"autotypenumbers\":\"strict\",\"colorway\":[\"#636efa\",\"#EF553B\",\"#00cc96\",\"#ab63fa\",\"#FFA15A\",\"#19d3f3\",\"#FF6692\",\"#B6E880\",\"#FF97FF\",\"#FECB52\"],\"font\":{\"color\":\"#2a3f5f\"},\"hovermode\":\"closest\",\"hoverlabel\":{\"align\":\"left\"},\"paper_bgcolor\":\"white\",\"plot_bgcolor\":\"#E5ECF6\",\"polar\":{\"bgcolor\":\"#E5ECF6\",\"angularaxis\":{\"gridcolor\":\"white\",\"linecolor\":\"white\",\"ticks\":\"\"},\"radialaxis\":{\"gridcolor\":\"white\",\"linecolor\":\"white\",\"ticks\":\"\"}},\"ternary\":{\"bgcolor\":\"#E5ECF6\",\"aaxis\":{\"gridcolor\":\"white\",\"linecolor\":\"white\",\"ticks\":\"\"},\"baxis\":{\"gridcolor\":\"white\",\"linecolor\":\"white\",\"ticks\":\"\"},\"caxis\":{\"gridcolor\":\"white\",\"linecolor\":\"white\",\"ticks\":\"\"}},\"coloraxis\":{\"colorbar\":{\"outlinewidth\":0,\"ticks\":\"\"}},\"colorscale\":{\"sequential\":[[0.0,\"#0d0887\"],[0.1111111111111111,\"#46039f\"],[0.2222222222222222,\"#7201a8\"],[0.3333333333333333,\"#9c179e\"],[0.4444444444444444,\"#bd3786\"],[0.5555555555555556,\"#d8576b\"],[0.6666666666666666,\"#ed7953\"],[0.7777777777777778,\"#fb9f3a\"],[0.8888888888888888,\"#fdca26\"],[1.0,\"#f0f921\"]],\"sequentialminus\":[[0.0,\"#0d0887\"],[0.1111111111111111,\"#46039f\"],[0.2222222222222222,\"#7201a8\"],[0.3333333333333333,\"#9c179e\"],[0.4444444444444444,\"#bd3786\"],[0.5555555555555556,\"#d8576b\"],[0.6666666666666666,\"#ed7953\"],[0.7777777777777778,\"#fb9f3a\"],[0.8888888888888888,\"#fdca26\"],[1.0,\"#f0f921\"]],\"diverging\":[[0,\"#8e0152\"],[0.1,\"#c51b7d\"],[0.2,\"#de77ae\"],[0.3,\"#f1b6da\"],[0.4,\"#fde0ef\"],[0.5,\"#f7f7f7\"],[0.6,\"#e6f5d0\"],[0.7,\"#b8e186\"],[0.8,\"#7fbc41\"],[0.9,\"#4d9221\"],[1,\"#276419\"]]},\"xaxis\":{\"gridcolor\":\"white\",\"linecolor\":\"white\",\"ticks\":\"\",\"title\":{\"standoff\":15},\"zerolinecolor\":\"white\",\"automargin\":true,\"zerolinewidth\":2},\"yaxis\":{\"gridcolor\":\"white\",\"linecolor\":\"white\",\"ticks\":\"\",\"title\":{\"standoff\":15},\"zerolinecolor\":\"white\",\"automargin\":true,\"zerolinewidth\":2},\"scene\":{\"xaxis\":{\"backgroundcolor\":\"#E5ECF6\",\"gridcolor\":\"white\",\"linecolor\":\"white\",\"showbackground\":true,\"ticks\":\"\",\"zerolinecolor\":\"white\",\"gridwidth\":2},\"yaxis\":{\"backgroundcolor\":\"#E5ECF6\",\"gridcolor\":\"white\",\"linecolor\":\"white\",\"showbackground\":true,\"ticks\":\"\",\"zerolinecolor\":\"white\",\"gridwidth\":2},\"zaxis\":{\"backgroundcolor\":\"#E5ECF6\",\"gridcolor\":\"white\",\"linecolor\":\"white\",\"showbackground\":true,\"ticks\":\"\",\"zerolinecolor\":\"white\",\"gridwidth\":2}},\"shapedefaults\":{\"line\":{\"color\":\"#2a3f5f\"}},\"annotationdefaults\":{\"arrowcolor\":\"#2a3f5f\",\"arrowhead\":0,\"arrowwidth\":1},\"geo\":{\"bgcolor\":\"white\",\"landcolor\":\"#E5ECF6\",\"subunitcolor\":\"white\",\"showland\":true,\"showlakes\":true,\"lakecolor\":\"white\"},\"title\":{\"x\":0.05},\"mapbox\":{\"style\":\"light\"}}},\"title\":{\"text\":\"Top 10 Most Common Job Titles\",\"font\":{\"size\":15}},\"xaxis\":{\"title\":{\"text\":\"Job Titles\",\"font\":{\"size\":12}},\"tickangle\":45,\"tickmode\":\"array\",\"tickvals\":[\"Senior Software Engineer\",\"Software Engineer\",\"Sr. Software Engineer\",\"Software Developer\",\"Full Stack Developer\"],\"showgrid\":true,\"gridwidth\":1,\"gridcolor\":\"lightgray\"},\"yaxis\":{\"title\":{\"text\":\"Number of Occurrences\",\"font\":{\"size\":14}},\"showgrid\":true,\"gridwidth\":1,\"gridcolor\":\"lightgray\"},\"showlegend\":false,\"plot_bgcolor\":\"white\"},                        {\"responsive\": true}                    ).then(function(){\n",
       "                            \n",
       "var gd = document.getElementById('68566069-3d38-4860-8fe9-71ac1b27c84c');\n",
       "var x = new MutationObserver(function (mutations, observer) {{\n",
       "        var display = window.getComputedStyle(gd).display;\n",
       "        if (!display || display === 'none') {{\n",
       "            console.log([gd, 'removed!']);\n",
       "            Plotly.purge(gd);\n",
       "            observer.disconnect();\n",
       "        }}\n",
       "}});\n",
       "\n",
       "// Listen for the removal of the full notebook cells\n",
       "var notebookContainer = gd.closest('#notebook-container');\n",
       "if (notebookContainer) {{\n",
       "    x.observe(notebookContainer, {childList: true});\n",
       "}}\n",
       "\n",
       "// Listen for the clearing of the current output cell\n",
       "var outputEl = gd.closest('.output');\n",
       "if (outputEl) {{\n",
       "    x.observe(outputEl, {childList: true});\n",
       "}}\n",
       "\n",
       "                        })                };                });            </script>        </div>"
      ]
     },
     "metadata": {},
     "output_type": "display_data"
    }
   ],
   "source": [
    "import plotly.graph_objects as go\n",
    "\n",
    "fig = go.Figure()\n",
    "\n",
    "# Plotting the line chart\n",
    "fig.add_trace(go.Scatter(\n",
    "    x=common_titles.index,\n",
    "    y=common_titles.values,\n",
    "    mode='lines+markers',\n",
    "    line=dict(color='red'),\n",
    "    marker=dict(color='red', size=8),\n",
    "))\n",
    "\n",
    "# Adding titles and labels\n",
    "fig.update_layout(\n",
    "    title='Top 10 Most Common Job Titles',\n",
    "    xaxis_title='Job Titles',\n",
    "    yaxis_title='Number of Occurrences',\n",
    "    title_font_size=15,\n",
    "    xaxis=dict(tickangle=45),\n",
    "    yaxis=dict(titlefont=dict(size=14)),\n",
    "    xaxis_title_font=dict(size=12),\n",
    "    showlegend=False,\n",
    "    plot_bgcolor='white',\n",
    "    xaxis_tickmode='array',\n",
    "    xaxis_tickvals=common_titles.index,\n",
    ")\n",
    "\n",
    "# Adding gridlines\n",
    "fig.update_xaxes(showgrid=True, gridwidth=1, gridcolor='lightgray')\n",
    "fig.update_yaxes(showgrid=True, gridwidth=1, gridcolor='lightgray')\n",
    "\n",
    "fig.show()"
   ]
  },
  {
   "cell_type": "code",
   "execution_count": 109,
   "id": "3d1508ba-3209-4282-bf06-ba5ee5262223",
   "metadata": {},
   "outputs": [
    {
     "data": {
      "image/png": "[encoded data removed]",
      "text/plain": [
       "<Figure size 640x480 with 1 Axes>"
      ]
     },
     "metadata": {},
     "output_type": "display_data"
    }
   ],
   "source": [
    "# plt.figure(figsize=(10, 6))\n",
    "plt.bar(common_titles.index, common_titles.values, color='g')\n",
    "plt.title('Top 10 Most Common Job Titles', fontsize=10)\n",
    "plt.xlabel('Job Titles', fontsize=10)\n",
    "plt.ylabel('Number of Occurrences', fontsize=10)\n",
    "plt.xticks(rotation=45, ha='right')\n",
    "plt.show()"
   ]
  },
  {
   "cell_type": "code",
   "execution_count": 142,
   "id": "d0280e7e-9cce-4c16-877f-b0342938fe6e",
   "metadata": {},
   "outputs": [
    {
     "data": {
      "application/vnd.plotly.v1+json": {
       "config": {
        "plotlyServerURL": "https://plot.ly"
       },
       "data": [
        {
         "marker": {
          "color": "green"
         },
         "type": "bar",
         "x": [
          "Senior Software Engineer",
          "Software Engineer",
          "Sr. Software Engineer",
          "Software Developer",
          "Full Stack Developer"
         ],
         "y": [
          1106,
          1095,
          292,
          275,
          201
         ]
        }
       ],
       "layout": {
        "autosize": true,
        "plot_bgcolor": "white",
        "showlegend": false,
        "template": {
         "data": {
          "bar": [
           {
            "error_x": {
             "color": "#2a3f5f"
            },
            "error_y": {
             "color": "#2a3f5f"
            },
            "marker": {
             "line": {
              "color": "#E5ECF6",
              "width": 0.5
             },
             "pattern": {
              "fillmode": "overlay",
              "size": 10,
              "solidity": 0.2
             }
            },
            "type": "bar"
           }
          ],
          "barpolar": [
           {
            "marker": {
             "line": {
              "color": "#E5ECF6",
              "width": 0.5
             },
             "pattern": {
              "fillmode": "overlay",
              "size": 10,
              "solidity": 0.2
             }
            },
            "type": "barpolar"
           }
          ],
          "carpet": [
           {
            "aaxis": {
             "endlinecolor": "#2a3f5f",
             "gridcolor": "white",
             "linecolor": "white",
             "minorgridcolor": "white",
             "startlinecolor": "#2a3f5f"
            },
            "baxis": {
             "endlinecolor": "#2a3f5f",
             "gridcolor": "white",
             "linecolor": "white",
             "minorgridcolor": "white",
             "startlinecolor": "#2a3f5f"
            },
            "type": "carpet"
           }
          ],
          "choropleth": [
           {
            "colorbar": {
             "outlinewidth": 0,
             "ticks": ""
            },
            "type": "choropleth"
           }
          ],
          "contour": [
           {
            "colorbar": {
             "outlinewidth": 0,
             "ticks": ""
            },
            "colorscale": [
             [
              0,
              "#0d0887"
             ],
             [
              0.1111111111111111,
              "#46039f"
             ],
             [
              0.2222222222222222,
              "#7201a8"
             ],
             [
              0.3333333333333333,
              "#9c179e"
             ],
             [
              0.4444444444444444,
              "#bd3786"
             ],
             [
              0.5555555555555556,
              "#d8576b"
             ],
             [
              0.6666666666666666,
              "#ed7953"
             ],
             [
              0.7777777777777778,
              "#fb9f3a"
             ],
             [
              0.8888888888888888,
              "#fdca26"
             ],
             [
              1,
              "#f0f921"
             ]
            ],
            "type": "contour"
           }
          ],
          "contourcarpet": [
           {
            "colorbar": {
             "outlinewidth": 0,
             "ticks": ""
            },
            "type": "contourcarpet"
           }
          ],
          "heatmap": [
           {
            "colorbar": {
             "outlinewidth": 0,
             "ticks": ""
            },
            "colorscale": [
             [
              0,
              "#0d0887"
             ],
             [
              0.1111111111111111,
              "#46039f"
             ],
             [
              0.2222222222222222,
              "#7201a8"
             ],
             [
              0.3333333333333333,
              "#9c179e"
             ],
             [
              0.4444444444444444,
              "#bd3786"
             ],
             [
              0.5555555555555556,
              "#d8576b"
             ],
             [
              0.6666666666666666,
              "#ed7953"
             ],
             [
              0.7777777777777778,
              "#fb9f3a"
             ],
             [
              0.8888888888888888,
              "#fdca26"
             ],
             [
              1,
              "#f0f921"
             ]
            ],
            "type": "heatmap"
           }
          ],
          "heatmapgl": [
           {
            "colorbar": {
             "outlinewidth": 0,
             "ticks": ""
            },
            "colorscale": [
             [
              0,
              "#0d0887"
             ],
             [
              0.1111111111111111,
              "#46039f"
             ],
             [
              0.2222222222222222,
              "#7201a8"
             ],
             [
              0.3333333333333333,
              "#9c179e"
             ],
             [
              0.4444444444444444,
              "#bd3786"
             ],
             [
              0.5555555555555556,
              "#d8576b"
             ],
             [
              0.6666666666666666,
              "#ed7953"
             ],
             [
              0.7777777777777778,
              "#fb9f3a"
             ],
             [
              0.8888888888888888,
              "#fdca26"
             ],
             [
              1,
              "#f0f921"
             ]
            ],
            "type": "heatmapgl"
           }
          ],
          "histogram": [
           {
            "marker": {
             "pattern": {
              "fillmode": "overlay",
              "size": 10,
              "solidity": 0.2
             }
            },
            "type": "histogram"
           }
          ],
          "histogram2d": [
           {
            "colorbar": {
             "outlinewidth": 0,
             "ticks": ""
            },
            "colorscale": [
             [
              0,
              "#0d0887"
             ],
             [
              0.1111111111111111,
              "#46039f"
             ],
             [
              0.2222222222222222,
              "#7201a8"
             ],
             [
              0.3333333333333333,
              "#9c179e"
             ],
             [
              0.4444444444444444,
              "#bd3786"
             ],
             [
              0.5555555555555556,
              "#d8576b"
             ],
             [
              0.6666666666666666,
              "#ed7953"
             ],
             [
              0.7777777777777778,
              "#fb9f3a"
             ],
             [
              0.8888888888888888,
              "#fdca26"
             ],
             [
              1,
              "#f0f921"
             ]
            ],
            "type": "histogram2d"
           }
          ],
          "histogram2dcontour": [
           {
            "colorbar": {
             "outlinewidth": 0,
             "ticks": ""
            },
            "colorscale": [
             [
              0,
              "#0d0887"
             ],
             [
              0.1111111111111111,
              "#46039f"
             ],
             [
              0.2222222222222222,
              "#7201a8"
             ],
             [
              0.3333333333333333,
              "#9c179e"
             ],
             [
              0.4444444444444444,
              "#bd3786"
             ],
             [
              0.5555555555555556,
              "#d8576b"
             ],
             [
              0.6666666666666666,
              "#ed7953"
             ],
             [
              0.7777777777777778,
              "#fb9f3a"
             ],
             [
              0.8888888888888888,
              "#fdca26"
             ],
             [
              1,
              "#f0f921"
             ]
            ],
            "type": "histogram2dcontour"
           }
          ],
          "mesh3d": [
           {
            "colorbar": {
             "outlinewidth": 0,
             "ticks": ""
            },
            "type": "mesh3d"
           }
          ],
          "parcoords": [
           {
            "line": {
             "colorbar": {
              "outlinewidth": 0,
              "ticks": ""
             }
            },
            "type": "parcoords"
           }
          ],
          "pie": [
           {
            "automargin": true,
            "type": "pie"
           }
          ],
          "scatter": [
           {
            "fillpattern": {
             "fillmode": "overlay",
             "size": 10,
             "solidity": 0.2
            },
            "type": "scatter"
           }
          ],
          "scatter3d": [
           {
            "line": {
             "colorbar": {
              "outlinewidth": 0,
              "ticks": ""
             }
            },
            "marker": {
             "colorbar": {
              "outlinewidth": 0,
              "ticks": ""
             }
            },
            "type": "scatter3d"
           }
          ],
          "scattercarpet": [
           {
            "marker": {
             "colorbar": {
              "outlinewidth": 0,
              "ticks": ""
             }
            },
            "type": "scattercarpet"
           }
          ],
          "scattergeo": [
           {
            "marker": {
             "colorbar": {
              "outlinewidth": 0,
              "ticks": ""
             }
            },
            "type": "scattergeo"
           }
          ],
          "scattergl": [
           {
            "marker": {
             "colorbar": {
              "outlinewidth": 0,
              "ticks": ""
             }
            },
            "type": "scattergl"
           }
          ],
          "scattermapbox": [
           {
            "marker": {
             "colorbar": {
              "outlinewidth": 0,
              "ticks": ""
             }
            },
            "type": "scattermapbox"
           }
          ],
          "scatterpolar": [
           {
            "marker": {
             "colorbar": {
              "outlinewidth": 0,
              "ticks": ""
             }
            },
            "type": "scatterpolar"
           }
          ],
          "scatterpolargl": [
           {
            "marker": {
             "colorbar": {
              "outlinewidth": 0,
              "ticks": ""
             }
            },
            "type": "scatterpolargl"
           }
          ],
          "scatterternary": [
           {
            "marker": {
             "colorbar": {
              "outlinewidth": 0,
              "ticks": ""
             }
            },
            "type": "scatterternary"
           }
          ],
          "surface": [
           {
            "colorbar": {
             "outlinewidth": 0,
             "ticks": ""
            },
            "colorscale": [
             [
              0,
              "#0d0887"
             ],
             [
              0.1111111111111111,
              "#46039f"
             ],
             [
              0.2222222222222222,
              "#7201a8"
             ],
             [
              0.3333333333333333,
              "#9c179e"
             ],
             [
              0.4444444444444444,
              "#bd3786"
             ],
             [
              0.5555555555555556,
              "#d8576b"
             ],
             [
              0.6666666666666666,
              "#ed7953"
             ],
             [
              0.7777777777777778,
              "#fb9f3a"
             ],
             [
              0.8888888888888888,
              "#fdca26"
             ],
             [
              1,
              "#f0f921"
             ]
            ],
            "type": "surface"
           }
          ],
          "table": [
           {
            "cells": {
             "fill": {
              "color": "#EBF0F8"
             },
             "line": {
              "color": "white"
             }
            },
            "header": {
             "fill": {
              "color": "#C8D4E3"
             },
             "line": {
              "color": "white"
             }
            },
            "type": "table"
           }
          ]
         },
         "layout": {
          "annotationdefaults": {
           "arrowcolor": "#2a3f5f",
           "arrowhead": 0,
           "arrowwidth": 1
          },
          "autotypenumbers": "strict",
          "coloraxis": {
           "colorbar": {
            "outlinewidth": 0,
            "ticks": ""
           }
          },
          "colorscale": {
           "diverging": [
            [
             0,
             "#8e0152"
            ],
            [
             0.1,
             "#c51b7d"
            ],
            [
             0.2,
             "#de77ae"
            ],
            [
             0.3,
             "#f1b6da"
            ],
            [
             0.4,
             "#fde0ef"
            ],
            [
             0.5,
             "#f7f7f7"
            ],
            [
             0.6,
             "#e6f5d0"
            ],
            [
             0.7,
             "#b8e186"
            ],
            [
             0.8,
             "#7fbc41"
            ],
            [
             0.9,
             "#4d9221"
            ],
            [
             1,
             "#276419"
            ]
           ],
           "sequential": [
            [
             0,
             "#0d0887"
            ],
            [
             0.1111111111111111,
             "#46039f"
            ],
            [
             0.2222222222222222,
             "#7201a8"
            ],
            [
             0.3333333333333333,
             "#9c179e"
            ],
            [
             0.4444444444444444,
             "#bd3786"
            ],
            [
             0.5555555555555556,
             "#d8576b"
            ],
            [
             0.6666666666666666,
             "#ed7953"
            ],
            [
             0.7777777777777778,
             "#fb9f3a"
            ],
            [
             0.8888888888888888,
             "#fdca26"
            ],
            [
             1,
             "#f0f921"
            ]
           ],
           "sequentialminus": [
            [
             0,
             "#0d0887"
            ],
            [
             0.1111111111111111,
             "#46039f"
            ],
            [
             0.2222222222222222,
             "#7201a8"
            ],
            [
             0.3333333333333333,
             "#9c179e"
            ],
            [
             0.4444444444444444,
             "#bd3786"
            ],
            [
             0.5555555555555556,
             "#d8576b"
            ],
            [
             0.6666666666666666,
             "#ed7953"
            ],
            [
             0.7777777777777778,
             "#fb9f3a"
            ],
            [
             0.8888888888888888,
             "#fdca26"
            ],
            [
             1,
             "#f0f921"
            ]
           ]
          },
          "colorway": [
           "#636efa",
           "#EF553B",
           "#00cc96",
           "#ab63fa",
           "#FFA15A",
           "#19d3f3",
           "#FF6692",
           "#B6E880",
           "#FF97FF",
           "#FECB52"
          ],
          "font": {
           "color": "#2a3f5f"
          },
          "geo": {
           "bgcolor": "white",
           "lakecolor": "white",
           "landcolor": "#E5ECF6",
           "showlakes": true,
           "showland": true,
           "subunitcolor": "white"
          },
          "hoverlabel": {
           "align": "left"
          },
          "hovermode": "closest",
          "mapbox": {
           "style": "light"
          },
          "paper_bgcolor": "white",
          "plot_bgcolor": "#E5ECF6",
          "polar": {
           "angularaxis": {
            "gridcolor": "white",
            "linecolor": "white",
            "ticks": ""
           },
           "bgcolor": "#E5ECF6",
           "radialaxis": {
            "gridcolor": "white",
            "linecolor": "white",
            "ticks": ""
           }
          },
          "scene": {
           "xaxis": {
            "backgroundcolor": "#E5ECF6",
            "gridcolor": "white",
            "gridwidth": 2,
            "linecolor": "white",
            "showbackground": true,
            "ticks": "",
            "zerolinecolor": "white"
           },
           "yaxis": {
            "backgroundcolor": "#E5ECF6",
            "gridcolor": "white",
            "gridwidth": 2,
            "linecolor": "white",
            "showbackground": true,
            "ticks": "",
            "zerolinecolor": "white"
           },
           "zaxis": {
            "backgroundcolor": "#E5ECF6",
            "gridcolor": "white",
            "gridwidth": 2,
            "linecolor": "white",
            "showbackground": true,
            "ticks": "",
            "zerolinecolor": "white"
           }
          },
          "shapedefaults": {
           "line": {
            "color": "#2a3f5f"
           }
          },
          "ternary": {
           "aaxis": {
            "gridcolor": "white",
            "linecolor": "white",
            "ticks": ""
           },
           "baxis": {
            "gridcolor": "white",
            "linecolor": "white",
            "ticks": ""
           },
           "bgcolor": "#E5ECF6",
           "caxis": {
            "gridcolor": "white",
            "linecolor": "white",
            "ticks": ""
           }
          },
          "title": {
           "x": 0.05
          },
          "xaxis": {
           "automargin": true,
           "gridcolor": "white",
           "linecolor": "white",
           "ticks": "",
           "title": {
            "standoff": 15
           },
           "zerolinecolor": "white",
           "zerolinewidth": 2
          },
          "yaxis": {
           "automargin": true,
           "gridcolor": "white",
           "linecolor": "white",
           "ticks": "",
           "title": {
            "standoff": 15
           },
           "zerolinecolor": "white",
           "zerolinewidth": 2
          }
         }
        },
        "title": {
         "font": {
          "size": 15
         },
         "text": "Top 10 Most Common Job Titles"
        },
        "xaxis": {
         "autorange": true,
         "range": [
          -0.5,
          4.5
         ],
         "tickangle": 45,
         "title": {
          "font": {
           "size": 10
          },
          "text": "Job Titles"
         },
         "type": "category"
        },
        "yaxis": {
         "autorange": true,
         "range": [
          0,
          1164.2105263157894
         ],
         "title": {
          "font": {
           "size": 10
          },
          "text": "Number of Occurrences"
         },
         "type": "linear"
        }
       }
      },
      "image/png": "[encoded data removed]",
      "text/html": [
       "<div>                            <div id=\"20beb169-fa84-44a9-98f1-f9460db5cff9\" class=\"plotly-graph-div\" style=\"height:525px; width:100%;\"></div>            <script type=\"text/javascript\">                require([\"plotly\"], function(Plotly) {                    window.PLOTLYENV=window.PLOTLYENV || {};                                    if (document.getElementById(\"20beb169-fa84-44a9-98f1-f9460db5cff9\")) {                    Plotly.newPlot(                        \"20beb169-fa84-44a9-98f1-f9460db5cff9\",                        [{\"marker\":{\"color\":\"green\"},\"x\":[\"Senior Software Engineer\",\"Software Engineer\",\"Sr. Software Engineer\",\"Software Developer\",\"Full Stack Developer\"],\"y\":[1106,1095,292,275,201],\"type\":\"bar\"}],                        {\"template\":{\"data\":{\"histogram2dcontour\":[{\"type\":\"histogram2dcontour\",\"colorbar\":{\"outlinewidth\":0,\"ticks\":\"\"},\"colorscale\":[[0.0,\"#0d0887\"],[0.1111111111111111,\"#46039f\"],[0.2222222222222222,\"#7201a8\"],[0.3333333333333333,\"#9c179e\"],[0.4444444444444444,\"#bd3786\"],[0.5555555555555556,\"#d8576b\"],[0.6666666666666666,\"#ed7953\"],[0.7777777777777778,\"#fb9f3a\"],[0.8888888888888888,\"#fdca26\"],[1.0,\"#f0f921\"]]}],\"choropleth\":[{\"type\":\"choropleth\",\"colorbar\":{\"outlinewidth\":0,\"ticks\":\"\"}}],\"histogram2d\":[{\"type\":\"histogram2d\",\"colorbar\":{\"outlinewidth\":0,\"ticks\":\"\"},\"colorscale\":[[0.0,\"#0d0887\"],[0.1111111111111111,\"#46039f\"],[0.2222222222222222,\"#7201a8\"],[0.3333333333333333,\"#9c179e\"],[0.4444444444444444,\"#bd3786\"],[0.5555555555555556,\"#d8576b\"],[0.6666666666666666,\"#ed7953\"],[0.7777777777777778,\"#fb9f3a\"],[0.8888888888888888,\"#fdca26\"],[1.0,\"#f0f921\"]]}],\"heatmap\":[{\"type\":\"heatmap\",\"colorbar\":{\"outlinewidth\":0,\"ticks\":\"\"},\"colorscale\":[[0.0,\"#0d0887\"],[0.1111111111111111,\"#46039f\"],[0.2222222222222222,\"#7201a8\"],[0.3333333333333333,\"#9c179e\"],[0.4444444444444444,\"#bd3786\"],[0.5555555555555556,\"#d8576b\"],[0.6666666666666666,\"#ed7953\"],[0.7777777777777778,\"#fb9f3a\"],[0.8888888888888888,\"#fdca26\"],[1.0,\"#f0f921\"]]}],\"heatmapgl\":[{\"type\":\"heatmapgl\",\"colorbar\":{\"outlinewidth\":0,\"ticks\":\"\"},\"colorscale\":[[0.0,\"#0d0887\"],[0.1111111111111111,\"#46039f\"],[0.2222222222222222,\"#7201a8\"],[0.3333333333333333,\"#9c179e\"],[0.4444444444444444,\"#bd3786\"],[0.5555555555555556,\"#d8576b\"],[0.6666666666666666,\"#ed7953\"],[0.7777777777777778,\"#fb9f3a\"],[0.8888888888888888,\"#fdca26\"],[1.0,\"#f0f921\"]]}],\"contourcarpet\":[{\"type\":\"contourcarpet\",\"colorbar\":{\"outlinewidth\":0,\"ticks\":\"\"}}],\"contour\":[{\"type\":\"contour\",\"colorbar\":{\"outlinewidth\":0,\"ticks\":\"\"},\"colorscale\":[[0.0,\"#0d0887\"],[0.1111111111111111,\"#46039f\"],[0.2222222222222222,\"#7201a8\"],[0.3333333333333333,\"#9c179e\"],[0.4444444444444444,\"#bd3786\"],[0.5555555555555556,\"#d8576b\"],[0.6666666666666666,\"#ed7953\"],[0.7777777777777778,\"#fb9f3a\"],[0.8888888888888888,\"#fdca26\"],[1.0,\"#f0f921\"]]}],\"surface\":[{\"type\":\"surface\",\"colorbar\":{\"outlinewidth\":0,\"ticks\":\"\"},\"colorscale\":[[0.0,\"#0d0887\"],[0.1111111111111111,\"#46039f\"],[0.2222222222222222,\"#7201a8\"],[0.3333333333333333,\"#9c179e\"],[0.4444444444444444,\"#bd3786\"],[0.5555555555555556,\"#d8576b\"],[0.6666666666666666,\"#ed7953\"],[0.7777777777777778,\"#fb9f3a\"],[0.8888888888888888,\"#fdca26\"],[1.0,\"#f0f921\"]]}],\"mesh3d\":[{\"type\":\"mesh3d\",\"colorbar\":{\"outlinewidth\":0,\"ticks\":\"\"}}],\"scatter\":[{\"fillpattern\":{\"fillmode\":\"overlay\",\"size\":10,\"solidity\":0.2},\"type\":\"scatter\"}],\"parcoords\":[{\"type\":\"parcoords\",\"line\":{\"colorbar\":{\"outlinewidth\":0,\"ticks\":\"\"}}}],\"scatterpolargl\":[{\"type\":\"scatterpolargl\",\"marker\":{\"colorbar\":{\"outlinewidth\":0,\"ticks\":\"\"}}}],\"bar\":[{\"error_x\":{\"color\":\"#2a3f5f\"},\"error_y\":{\"color\":\"#2a3f5f\"},\"marker\":{\"line\":{\"color\":\"#E5ECF6\",\"width\":0.5},\"pattern\":{\"fillmode\":\"overlay\",\"size\":10,\"solidity\":0.2}},\"type\":\"bar\"}],\"scattergeo\":[{\"type\":\"scattergeo\",\"marker\":{\"colorbar\":{\"outlinewidth\":0,\"ticks\":\"\"}}}],\"scatterpolar\":[{\"type\":\"scatterpolar\",\"marker\":{\"colorbar\":{\"outlinewidth\":0,\"ticks\":\"\"}}}],\"histogram\":[{\"marker\":{\"pattern\":{\"fillmode\":\"overlay\",\"size\":10,\"solidity\":0.2}},\"type\":\"histogram\"}],\"scattergl\":[{\"type\":\"scattergl\",\"marker\":{\"colorbar\":{\"outlinewidth\":0,\"ticks\":\"\"}}}],\"scatter3d\":[{\"type\":\"scatter3d\",\"line\":{\"colorbar\":{\"outlinewidth\":0,\"ticks\":\"\"}},\"marker\":{\"colorbar\":{\"outlinewidth\":0,\"ticks\":\"\"}}}],\"scattermapbox\":[{\"type\":\"scattermapbox\",\"marker\":{\"colorbar\":{\"outlinewidth\":0,\"ticks\":\"\"}}}],\"scatterternary\":[{\"type\":\"scatterternary\",\"marker\":{\"colorbar\":{\"outlinewidth\":0,\"ticks\":\"\"}}}],\"scattercarpet\":[{\"type\":\"scattercarpet\",\"marker\":{\"colorbar\":{\"outlinewidth\":0,\"ticks\":\"\"}}}],\"carpet\":[{\"aaxis\":{\"endlinecolor\":\"#2a3f5f\",\"gridcolor\":\"white\",\"linecolor\":\"white\",\"minorgridcolor\":\"white\",\"startlinecolor\":\"#2a3f5f\"},\"baxis\":{\"endlinecolor\":\"#2a3f5f\",\"gridcolor\":\"white\",\"linecolor\":\"white\",\"minorgridcolor\":\"white\",\"startlinecolor\":\"#2a3f5f\"},\"type\":\"carpet\"}],\"table\":[{\"cells\":{\"fill\":{\"color\":\"#EBF0F8\"},\"line\":{\"color\":\"white\"}},\"header\":{\"fill\":{\"color\":\"#C8D4E3\"},\"line\":{\"color\":\"white\"}},\"type\":\"table\"}],\"barpolar\":[{\"marker\":{\"line\":{\"color\":\"#E5ECF6\",\"width\":0.5},\"pattern\":{\"fillmode\":\"overlay\",\"size\":10,\"solidity\":0.2}},\"type\":\"barpolar\"}],\"pie\":[{\"automargin\":true,\"type\":\"pie\"}]},\"layout\":{\"autotypenumbers\":\"strict\",\"colorway\":[\"#636efa\",\"#EF553B\",\"#00cc96\",\"#ab63fa\",\"#FFA15A\",\"#19d3f3\",\"#FF6692\",\"#B6E880\",\"#FF97FF\",\"#FECB52\"],\"font\":{\"color\":\"#2a3f5f\"},\"hovermode\":\"closest\",\"hoverlabel\":{\"align\":\"left\"},\"paper_bgcolor\":\"white\",\"plot_bgcolor\":\"#E5ECF6\",\"polar\":{\"bgcolor\":\"#E5ECF6\",\"angularaxis\":{\"gridcolor\":\"white\",\"linecolor\":\"white\",\"ticks\":\"\"},\"radialaxis\":{\"gridcolor\":\"white\",\"linecolor\":\"white\",\"ticks\":\"\"}},\"ternary\":{\"bgcolor\":\"#E5ECF6\",\"aaxis\":{\"gridcolor\":\"white\",\"linecolor\":\"white\",\"ticks\":\"\"},\"baxis\":{\"gridcolor\":\"white\",\"linecolor\":\"white\",\"ticks\":\"\"},\"caxis\":{\"gridcolor\":\"white\",\"linecolor\":\"white\",\"ticks\":\"\"}},\"coloraxis\":{\"colorbar\":{\"outlinewidth\":0,\"ticks\":\"\"}},\"colorscale\":{\"sequential\":[[0.0,\"#0d0887\"],[0.1111111111111111,\"#46039f\"],[0.2222222222222222,\"#7201a8\"],[0.3333333333333333,\"#9c179e\"],[0.4444444444444444,\"#bd3786\"],[0.5555555555555556,\"#d8576b\"],[0.6666666666666666,\"#ed7953\"],[0.7777777777777778,\"#fb9f3a\"],[0.8888888888888888,\"#fdca26\"],[1.0,\"#f0f921\"]],\"sequentialminus\":[[0.0,\"#0d0887\"],[0.1111111111111111,\"#46039f\"],[0.2222222222222222,\"#7201a8\"],[0.3333333333333333,\"#9c179e\"],[0.4444444444444444,\"#bd3786\"],[0.5555555555555556,\"#d8576b\"],[0.6666666666666666,\"#ed7953\"],[0.7777777777777778,\"#fb9f3a\"],[0.8888888888888888,\"#fdca26\"],[1.0,\"#f0f921\"]],\"diverging\":[[0,\"#8e0152\"],[0.1,\"#c51b7d\"],[0.2,\"#de77ae\"],[0.3,\"#f1b6da\"],[0.4,\"#fde0ef\"],[0.5,\"#f7f7f7\"],[0.6,\"#e6f5d0\"],[0.7,\"#b8e186\"],[0.8,\"#7fbc41\"],[0.9,\"#4d9221\"],[1,\"#276419\"]]},\"xaxis\":{\"gridcolor\":\"white\",\"linecolor\":\"white\",\"ticks\":\"\",\"title\":{\"standoff\":15},\"zerolinecolor\":\"white\",\"automargin\":true,\"zerolinewidth\":2},\"yaxis\":{\"gridcolor\":\"white\",\"linecolor\":\"white\",\"ticks\":\"\",\"title\":{\"standoff\":15},\"zerolinecolor\":\"white\",\"automargin\":true,\"zerolinewidth\":2},\"scene\":{\"xaxis\":{\"backgroundcolor\":\"#E5ECF6\",\"gridcolor\":\"white\",\"linecolor\":\"white\",\"showbackground\":true,\"ticks\":\"\",\"zerolinecolor\":\"white\",\"gridwidth\":2},\"yaxis\":{\"backgroundcolor\":\"#E5ECF6\",\"gridcolor\":\"white\",\"linecolor\":\"white\",\"showbackground\":true,\"ticks\":\"\",\"zerolinecolor\":\"white\",\"gridwidth\":2},\"zaxis\":{\"backgroundcolor\":\"#E5ECF6\",\"gridcolor\":\"white\",\"linecolor\":\"white\",\"showbackground\":true,\"ticks\":\"\",\"zerolinecolor\":\"white\",\"gridwidth\":2}},\"shapedefaults\":{\"line\":{\"color\":\"#2a3f5f\"}},\"annotationdefaults\":{\"arrowcolor\":\"#2a3f5f\",\"arrowhead\":0,\"arrowwidth\":1},\"geo\":{\"bgcolor\":\"white\",\"landcolor\":\"#E5ECF6\",\"subunitcolor\":\"white\",\"showland\":true,\"showlakes\":true,\"lakecolor\":\"white\"},\"title\":{\"x\":0.05},\"mapbox\":{\"style\":\"light\"}}},\"title\":{\"text\":\"Top 10 Most Common Job Titles\",\"font\":{\"size\":15}},\"xaxis\":{\"title\":{\"text\":\"Job Titles\",\"font\":{\"size\":10}},\"tickangle\":45},\"yaxis\":{\"title\":{\"text\":\"Number of Occurrences\",\"font\":{\"size\":10}}},\"plot_bgcolor\":\"white\",\"showlegend\":false},                        {\"responsive\": true}                    ).then(function(){\n",
       "                            \n",
       "var gd = document.getElementById('20beb169-fa84-44a9-98f1-f9460db5cff9');\n",
       "var x = new MutationObserver(function (mutations, observer) {{\n",
       "        var display = window.getComputedStyle(gd).display;\n",
       "        if (!display || display === 'none') {{\n",
       "            console.log([gd, 'removed!']);\n",
       "            Plotly.purge(gd);\n",
       "            observer.disconnect();\n",
       "        }}\n",
       "}});\n",
       "\n",
       "// Listen for the removal of the full notebook cells\n",
       "var notebookContainer = gd.closest('#notebook-container');\n",
       "if (notebookContainer) {{\n",
       "    x.observe(notebookContainer, {childList: true});\n",
       "}}\n",
       "\n",
       "// Listen for the clearing of the current output cell\n",
       "var outputEl = gd.closest('.output');\n",
       "if (outputEl) {{\n",
       "    x.observe(outputEl, {childList: true});\n",
       "}}\n",
       "\n",
       "                        })                };                });            </script>        </div>"
      ]
     },
     "metadata": {},
     "output_type": "display_data"
    }
   ],
   "source": [
    "import plotly.graph_objects as go\n",
    "\n",
    "# Assuming common_titles is a pandas Series with the job titles as the index and their occurrences as the values\n",
    "\n",
    "fig = go.Figure()\n",
    "\n",
    "# Plotting the bar chart\n",
    "fig.add_trace(go.Bar(\n",
    "    x=common_titles.index,\n",
    "    y=common_titles.values,\n",
    "    marker_color='green',\n",
    "))\n",
    "\n",
    "# Adding titles and labels\n",
    "fig.update_layout(\n",
    "    title='Top 10 Most Common Job Titles',\n",
    "    xaxis_title='Job Titles',\n",
    "    yaxis_title='Number of Occurrences',\n",
    "    title_font_size=15,\n",
    "    xaxis=dict(tickangle=45),\n",
    "    yaxis=dict(titlefont=dict(size=10)),\n",
    "    xaxis_title_font=dict(size=10),\n",
    "    plot_bgcolor='white',\n",
    "    showlegend=False\n",
    ")\n",
    "\n",
    "fig.show()\n"
   ]
  },
  {
   "cell_type": "markdown",
   "id": "4b803aac-6156-4087-9871-cfcd62eee219",
   "metadata": {},
   "source": [
    "**5 Most Common Job Titles**\n",
    "- Senior Software Engineer\n",
    "- Software Engineer\n",
    "- Software Developer\n",
    "- Full Stack Developer\n"
   ]
  },
  {
   "cell_type": "markdown",
   "id": "e857164a-e581-43a5-8032-5e23cbeac8db",
   "metadata": {},
   "source": [
    "### How do job titles vary by location?"
   ]
  },
  {
   "cell_type": "code",
   "execution_count": null,
   "id": "e09ed480-42c8-4429-a3e3-1f8cbc22847e",
   "metadata": {},
   "outputs": [],
   "source": [
    "location = [location for location in cleaned_jobs_df['location'].unique()]\n",
    "location"
   ]
  },
  {
   "cell_type": "code",
   "execution_count": null,
   "id": "99747944-81f7-4f83-b384-30ed47960a66",
   "metadata": {},
   "outputs": [],
   "source": [
    "company = [company for company in cleaned_jobs_df['company'].unique()]\n",
    "company"
   ]
  },
  {
   "cell_type": "code",
   "execution_count": 110,
   "id": "b4dadf83-efc4-4f21-8dbb-075d1d9f7ae2",
   "metadata": {},
   "outputs": [
    {
     "data": {
      "text/plain": [
       "title                     location   \n",
       "Senior Software Engineer  Remote         271\n",
       "Software Engineer         Remote         134\n",
       "                          Austin, TX      87\n",
       "                          Seattle, WA     79\n",
       "Senior Software Engineer  Seattle, WA     70\n",
       "Name: count, dtype: int64"
      ]
     },
     "execution_count": 110,
     "metadata": {},
     "output_type": "execute_result"
    }
   ],
   "source": [
    "jobs_by_location = cleaned_jobs_df[['title', 'location']].value_counts().head(5)\n",
    "jobs_by_location\n"
   ]
  },
  {
   "cell_type": "code",
   "execution_count": 111,
   "id": "20fe272f-c904-45d4-bf0a-70a2707cf344",
   "metadata": {},
   "outputs": [
    {
     "data": {
      "text/plain": [
       "location\n",
       "Remote               3339\n",
       "Austin, TX            806\n",
       "Seattle, WA           401\n",
       "New York, NY          375\n",
       "San Francisco, CA     290\n",
       "Chicago, IL           272\n",
       "Atlanta, GA           269\n",
       "Boston, MA            253\n",
       "Denver, CO            224\n",
       "Dallas, TX            220\n",
       "Name: count, dtype: int64"
      ]
     },
     "execution_count": 111,
     "metadata": {},
     "output_type": "execute_result"
    }
   ],
   "source": [
    "location_job_count = cleaned_jobs_df['location'].value_counts().head(10)\n",
    "location_job_count"
   ]
  },
  {
   "cell_type": "code",
   "execution_count": 112,
   "id": "f1b38bd7-04d3-4580-8e12-4b264c95ebd4",
   "metadata": {},
   "outputs": [
    {
     "data": {
      "image/png": "[encoded data removed]",
      "text/plain": [
       "<Figure size 640x480 with 1 Axes>"
      ]
     },
     "metadata": {},
     "output_type": "display_data"
    }
   ],
   "source": [
    "# Plotting the line chart\n",
    "# plt.figure(figsize=(10, 6))\n",
    "plt.plot(location_job_count.index, location_job_count.values, marker='o', linestyle='-', color='r')\n",
    "\n",
    "# Adding titles and labels\n",
    "plt.title('10 Locations With The Most Listings', fontsize=10)\n",
    "plt.xlabel('Locations', fontsize=10)\n",
    "plt.ylabel('Number of Occurrences', fontsize=10)\n",
    "plt.xticks(rotation=45, ha='right')  # Rotate x-axis labels for better readability\n",
    "plt.grid(True)"
   ]
  },
  {
   "cell_type": "code",
   "execution_count": 141,
   "id": "a4666dfd-3a3f-4ee9-95ef-5ad1ec5ad30b",
   "metadata": {},
   "outputs": [
    {
     "data": {
      "application/vnd.plotly.v1+json": {
       "config": {
        "plotlyServerURL": "https://plot.ly"
       },
       "data": [
        {
         "line": {
          "color": "red"
         },
         "marker": {
          "color": "red",
          "size": 8
         },
         "mode": "lines+markers",
         "type": "scatter",
         "x": [
          "Remote",
          "Austin, TX",
          "Seattle, WA",
          "New York, NY",
          "San Francisco, CA",
          "Chicago, IL",
          "Atlanta, GA",
          "Boston, MA",
          "Denver, CO",
          "Dallas, TX"
         ],
         "y": [
          3339,
          806,
          401,
          375,
          290,
          272,
          269,
          253,
          224,
          220
         ]
        }
       ],
       "layout": {
        "autosize": true,
        "plot_bgcolor": "white",
        "showlegend": false,
        "template": {
         "data": {
          "bar": [
           {
            "error_x": {
             "color": "#2a3f5f"
            },
            "error_y": {
             "color": "#2a3f5f"
            },
            "marker": {
             "line": {
              "color": "#E5ECF6",
              "width": 0.5
             },
             "pattern": {
              "fillmode": "overlay",
              "size": 10,
              "solidity": 0.2
             }
            },
            "type": "bar"
           }
          ],
          "barpolar": [
           {
            "marker": {
             "line": {
              "color": "#E5ECF6",
              "width": 0.5
             },
             "pattern": {
              "fillmode": "overlay",
              "size": 10,
              "solidity": 0.2
             }
            },
            "type": "barpolar"
           }
          ],
          "carpet": [
           {
            "aaxis": {
             "endlinecolor": "#2a3f5f",
             "gridcolor": "white",
             "linecolor": "white",
             "minorgridcolor": "white",
             "startlinecolor": "#2a3f5f"
            },
            "baxis": {
             "endlinecolor": "#2a3f5f",
             "gridcolor": "white",
             "linecolor": "white",
             "minorgridcolor": "white",
             "startlinecolor": "#2a3f5f"
            },
            "type": "carpet"
           }
          ],
          "choropleth": [
           {
            "colorbar": {
             "outlinewidth": 0,
             "ticks": ""
            },
            "type": "choropleth"
           }
          ],
          "contour": [
           {
            "colorbar": {
             "outlinewidth": 0,
             "ticks": ""
            },
            "colorscale": [
             [
              0,
              "#0d0887"
             ],
             [
              0.1111111111111111,
              "#46039f"
             ],
             [
              0.2222222222222222,
              "#7201a8"
             ],
             [
              0.3333333333333333,
              "#9c179e"
             ],
             [
              0.4444444444444444,
              "#bd3786"
             ],
             [
              0.5555555555555556,
              "#d8576b"
             ],
             [
              0.6666666666666666,
              "#ed7953"
             ],
             [
              0.7777777777777778,
              "#fb9f3a"
             ],
             [
              0.8888888888888888,
              "#fdca26"
             ],
             [
              1,
              "#f0f921"
             ]
            ],
            "type": "contour"
           }
          ],
          "contourcarpet": [
           {
            "colorbar": {
             "outlinewidth": 0,
             "ticks": ""
            },
            "type": "contourcarpet"
           }
          ],
          "heatmap": [
           {
            "colorbar": {
             "outlinewidth": 0,
             "ticks": ""
            },
            "colorscale": [
             [
              0,
              "#0d0887"
             ],
             [
              0.1111111111111111,
              "#46039f"
             ],
             [
              0.2222222222222222,
              "#7201a8"
             ],
             [
              0.3333333333333333,
              "#9c179e"
             ],
             [
              0.4444444444444444,
              "#bd3786"
             ],
             [
              0.5555555555555556,
              "#d8576b"
             ],
             [
              0.6666666666666666,
              "#ed7953"
             ],
             [
              0.7777777777777778,
              "#fb9f3a"
             ],
             [
              0.8888888888888888,
              "#fdca26"
             ],
             [
              1,
              "#f0f921"
             ]
            ],
            "type": "heatmap"
           }
          ],
          "heatmapgl": [
           {
            "colorbar": {
             "outlinewidth": 0,
             "ticks": ""
            },
            "colorscale": [
             [
              0,
              "#0d0887"
             ],
             [
              0.1111111111111111,
              "#46039f"
             ],
             [
              0.2222222222222222,
              "#7201a8"
             ],
             [
              0.3333333333333333,
              "#9c179e"
             ],
             [
              0.4444444444444444,
              "#bd3786"
             ],
             [
              0.5555555555555556,
              "#d8576b"
             ],
             [
              0.6666666666666666,
              "#ed7953"
             ],
             [
              0.7777777777777778,
              "#fb9f3a"
             ],
             [
              0.8888888888888888,
              "#fdca26"
             ],
             [
              1,
              "#f0f921"
             ]
            ],
            "type": "heatmapgl"
           }
          ],
          "histogram": [
           {
            "marker": {
             "pattern": {
              "fillmode": "overlay",
              "size": 10,
              "solidity": 0.2
             }
            },
            "type": "histogram"
           }
          ],
          "histogram2d": [
           {
            "colorbar": {
             "outlinewidth": 0,
             "ticks": ""
            },
            "colorscale": [
             [
              0,
              "#0d0887"
             ],
             [
              0.1111111111111111,
              "#46039f"
             ],
             [
              0.2222222222222222,
              "#7201a8"
             ],
             [
              0.3333333333333333,
              "#9c179e"
             ],
             [
              0.4444444444444444,
              "#bd3786"
             ],
             [
              0.5555555555555556,
              "#d8576b"
             ],
             [
              0.6666666666666666,
              "#ed7953"
             ],
             [
              0.7777777777777778,
              "#fb9f3a"
             ],
             [
              0.8888888888888888,
              "#fdca26"
             ],
             [
              1,
              "#f0f921"
             ]
            ],
            "type": "histogram2d"
           }
          ],
          "histogram2dcontour": [
           {
            "colorbar": {
             "outlinewidth": 0,
             "ticks": ""
            },
            "colorscale": [
             [
              0,
              "#0d0887"
             ],
             [
              0.1111111111111111,
              "#46039f"
             ],
             [
              0.2222222222222222,
              "#7201a8"
             ],
             [
              0.3333333333333333,
              "#9c179e"
             ],
             [
              0.4444444444444444,
              "#bd3786"
             ],
             [
              0.5555555555555556,
              "#d8576b"
             ],
             [
              0.6666666666666666,
              "#ed7953"
             ],
             [
              0.7777777777777778,
              "#fb9f3a"
             ],
             [
              0.8888888888888888,
              "#fdca26"
             ],
             [
              1,
              "#f0f921"
             ]
            ],
            "type": "histogram2dcontour"
           }
          ],
          "mesh3d": [
           {
            "colorbar": {
             "outlinewidth": 0,
             "ticks": ""
            },
            "type": "mesh3d"
           }
          ],
          "parcoords": [
           {
            "line": {
             "colorbar": {
              "outlinewidth": 0,
              "ticks": ""
             }
            },
            "type": "parcoords"
           }
          ],
          "pie": [
           {
            "automargin": true,
            "type": "pie"
           }
          ],
          "scatter": [
           {
            "fillpattern": {
             "fillmode": "overlay",
             "size": 10,
             "solidity": 0.2
            },
            "type": "scatter"
           }
          ],
          "scatter3d": [
           {
            "line": {
             "colorbar": {
              "outlinewidth": 0,
              "ticks": ""
             }
            },
            "marker": {
             "colorbar": {
              "outlinewidth": 0,
              "ticks": ""
             }
            },
            "type": "scatter3d"
           }
          ],
          "scattercarpet": [
           {
            "marker": {
             "colorbar": {
              "outlinewidth": 0,
              "ticks": ""
             }
            },
            "type": "scattercarpet"
           }
          ],
          "scattergeo": [
           {
            "marker": {
             "colorbar": {
              "outlinewidth": 0,
              "ticks": ""
             }
            },
            "type": "scattergeo"
           }
          ],
          "scattergl": [
           {
            "marker": {
             "colorbar": {
              "outlinewidth": 0,
              "ticks": ""
             }
            },
            "type": "scattergl"
           }
          ],
          "scattermapbox": [
           {
            "marker": {
             "colorbar": {
              "outlinewidth": 0,
              "ticks": ""
             }
            },
            "type": "scattermapbox"
           }
          ],
          "scatterpolar": [
           {
            "marker": {
             "colorbar": {
              "outlinewidth": 0,
              "ticks": ""
             }
            },
            "type": "scatterpolar"
           }
          ],
          "scatterpolargl": [
           {
            "marker": {
             "colorbar": {
              "outlinewidth": 0,
              "ticks": ""
             }
            },
            "type": "scatterpolargl"
           }
          ],
          "scatterternary": [
           {
            "marker": {
             "colorbar": {
              "outlinewidth": 0,
              "ticks": ""
             }
            },
            "type": "scatterternary"
           }
          ],
          "surface": [
           {
            "colorbar": {
             "outlinewidth": 0,
             "ticks": ""
            },
            "colorscale": [
             [
              0,
              "#0d0887"
             ],
             [
              0.1111111111111111,
              "#46039f"
             ],
             [
              0.2222222222222222,
              "#7201a8"
             ],
             [
              0.3333333333333333,
              "#9c179e"
             ],
             [
              0.4444444444444444,
              "#bd3786"
             ],
             [
              0.5555555555555556,
              "#d8576b"
             ],
             [
              0.6666666666666666,
              "#ed7953"
             ],
             [
              0.7777777777777778,
              "#fb9f3a"
             ],
             [
              0.8888888888888888,
              "#fdca26"
             ],
             [
              1,
              "#f0f921"
             ]
            ],
            "type": "surface"
           }
          ],
          "table": [
           {
            "cells": {
             "fill": {
              "color": "#EBF0F8"
             },
             "line": {
              "color": "white"
             }
            },
            "header": {
             "fill": {
              "color": "#C8D4E3"
             },
             "line": {
              "color": "white"
             }
            },
            "type": "table"
           }
          ]
         },
         "layout": {
          "annotationdefaults": {
           "arrowcolor": "#2a3f5f",
           "arrowhead": 0,
           "arrowwidth": 1
          },
          "autotypenumbers": "strict",
          "coloraxis": {
           "colorbar": {
            "outlinewidth": 0,
            "ticks": ""
           }
          },
          "colorscale": {
           "diverging": [
            [
             0,
             "#8e0152"
            ],
            [
             0.1,
             "#c51b7d"
            ],
            [
             0.2,
             "#de77ae"
            ],
            [
             0.3,
             "#f1b6da"
            ],
            [
             0.4,
             "#fde0ef"
            ],
            [
             0.5,
             "#f7f7f7"
            ],
            [
             0.6,
             "#e6f5d0"
            ],
            [
             0.7,
             "#b8e186"
            ],
            [
             0.8,
             "#7fbc41"
            ],
            [
             0.9,
             "#4d9221"
            ],
            [
             1,
             "#276419"
            ]
           ],
           "sequential": [
            [
             0,
             "#0d0887"
            ],
            [
             0.1111111111111111,
             "#46039f"
            ],
            [
             0.2222222222222222,
             "#7201a8"
            ],
            [
             0.3333333333333333,
             "#9c179e"
            ],
            [
             0.4444444444444444,
             "#bd3786"
            ],
            [
             0.5555555555555556,
             "#d8576b"
            ],
            [
             0.6666666666666666,
             "#ed7953"
            ],
            [
             0.7777777777777778,
             "#fb9f3a"
            ],
            [
             0.8888888888888888,
             "#fdca26"
            ],
            [
             1,
             "#f0f921"
            ]
           ],
           "sequentialminus": [
            [
             0,
             "#0d0887"
            ],
            [
             0.1111111111111111,
             "#46039f"
            ],
            [
             0.2222222222222222,
             "#7201a8"
            ],
            [
             0.3333333333333333,
             "#9c179e"
            ],
            [
             0.4444444444444444,
             "#bd3786"
            ],
            [
             0.5555555555555556,
             "#d8576b"
            ],
            [
             0.6666666666666666,
             "#ed7953"
            ],
            [
             0.7777777777777778,
             "#fb9f3a"
            ],
            [
             0.8888888888888888,
             "#fdca26"
            ],
            [
             1,
             "#f0f921"
            ]
           ]
          },
          "colorway": [
           "#636efa",
           "#EF553B",
           "#00cc96",
           "#ab63fa",
           "#FFA15A",
           "#19d3f3",
           "#FF6692",
           "#B6E880",
           "#FF97FF",
           "#FECB52"
          ],
          "font": {
           "color": "#2a3f5f"
          },
          "geo": {
           "bgcolor": "white",
           "lakecolor": "white",
           "landcolor": "#E5ECF6",
           "showlakes": true,
           "showland": true,
           "subunitcolor": "white"
          },
          "hoverlabel": {
           "align": "left"
          },
          "hovermode": "closest",
          "mapbox": {
           "style": "light"
          },
          "paper_bgcolor": "white",
          "plot_bgcolor": "#E5ECF6",
          "polar": {
           "angularaxis": {
            "gridcolor": "white",
            "linecolor": "white",
            "ticks": ""
           },
           "bgcolor": "#E5ECF6",
           "radialaxis": {
            "gridcolor": "white",
            "linecolor": "white",
            "ticks": ""
           }
          },
          "scene": {
           "xaxis": {
            "backgroundcolor": "#E5ECF6",
            "gridcolor": "white",
            "gridwidth": 2,
            "linecolor": "white",
            "showbackground": true,
            "ticks": "",
            "zerolinecolor": "white"
           },
           "yaxis": {
            "backgroundcolor": "#E5ECF6",
            "gridcolor": "white",
            "gridwidth": 2,
            "linecolor": "white",
            "showbackground": true,
            "ticks": "",
            "zerolinecolor": "white"
           },
           "zaxis": {
            "backgroundcolor": "#E5ECF6",
            "gridcolor": "white",
            "gridwidth": 2,
            "linecolor": "white",
            "showbackground": true,
            "ticks": "",
            "zerolinecolor": "white"
           }
          },
          "shapedefaults": {
           "line": {
            "color": "#2a3f5f"
           }
          },
          "ternary": {
           "aaxis": {
            "gridcolor": "white",
            "linecolor": "white",
            "ticks": ""
           },
           "baxis": {
            "gridcolor": "white",
            "linecolor": "white",
            "ticks": ""
           },
           "bgcolor": "#E5ECF6",
           "caxis": {
            "gridcolor": "white",
            "linecolor": "white",
            "ticks": ""
           }
          },
          "title": {
           "x": 0.05
          },
          "xaxis": {
           "automargin": true,
           "gridcolor": "white",
           "linecolor": "white",
           "ticks": "",
           "title": {
            "standoff": 15
           },
           "zerolinecolor": "white",
           "zerolinewidth": 2
          },
          "yaxis": {
           "automargin": true,
           "gridcolor": "white",
           "linecolor": "white",
           "ticks": "",
           "title": {
            "standoff": 15
           },
           "zerolinecolor": "white",
           "zerolinewidth": 2
          }
         }
        },
        "title": {
         "font": {
          "size": 15
         },
         "text": "10 Locations With The Most Listings"
        },
        "xaxis": {
         "autorange": true,
         "gridcolor": "lightgray",
         "gridwidth": 1,
         "range": [
          -0.5597442944198828,
          9.559744294419882
         ],
         "showgrid": true,
         "tickangle": 45,
         "title": {
          "font": {
           "size": 10
          },
          "text": "Locations"
         },
         "type": "category"
        },
        "yaxis": {
         "autorange": true,
         "gridcolor": "lightgray",
         "gridwidth": 1,
         "range": [
          -107.43950177935943,
          3666.4395017793595
         ],
         "showgrid": true,
         "title": {
          "font": {
           "size": 10
          },
          "text": "Number of Occurrences"
         },
         "type": "linear"
        }
       }
      },
      "image/png": "[encoded data removed]",
      "text/html": [
       "<div>                            <div id=\"42be145b-24e9-47bc-98bc-f128b1f3a351\" class=\"plotly-graph-div\" style=\"height:525px; width:100%;\"></div>            <script type=\"text/javascript\">                require([\"plotly\"], function(Plotly) {                    window.PLOTLYENV=window.PLOTLYENV || {};                                    if (document.getElementById(\"42be145b-24e9-47bc-98bc-f128b1f3a351\")) {                    Plotly.newPlot(                        \"42be145b-24e9-47bc-98bc-f128b1f3a351\",                        [{\"line\":{\"color\":\"red\"},\"marker\":{\"color\":\"red\",\"size\":8},\"mode\":\"lines+markers\",\"x\":[\"Remote\",\"Austin, TX\",\"Seattle, WA\",\"New York, NY\",\"San Francisco, CA\",\"Chicago, IL\",\"Atlanta, GA\",\"Boston, MA\",\"Denver, CO\",\"Dallas, TX\"],\"y\":[3339,806,401,375,290,272,269,253,224,220],\"type\":\"scatter\"}],                        {\"template\":{\"data\":{\"histogram2dcontour\":[{\"type\":\"histogram2dcontour\",\"colorbar\":{\"outlinewidth\":0,\"ticks\":\"\"},\"colorscale\":[[0.0,\"#0d0887\"],[0.1111111111111111,\"#46039f\"],[0.2222222222222222,\"#7201a8\"],[0.3333333333333333,\"#9c179e\"],[0.4444444444444444,\"#bd3786\"],[0.5555555555555556,\"#d8576b\"],[0.6666666666666666,\"#ed7953\"],[0.7777777777777778,\"#fb9f3a\"],[0.8888888888888888,\"#fdca26\"],[1.0,\"#f0f921\"]]}],\"choropleth\":[{\"type\":\"choropleth\",\"colorbar\":{\"outlinewidth\":0,\"ticks\":\"\"}}],\"histogram2d\":[{\"type\":\"histogram2d\",\"colorbar\":{\"outlinewidth\":0,\"ticks\":\"\"},\"colorscale\":[[0.0,\"#0d0887\"],[0.1111111111111111,\"#46039f\"],[0.2222222222222222,\"#7201a8\"],[0.3333333333333333,\"#9c179e\"],[0.4444444444444444,\"#bd3786\"],[0.5555555555555556,\"#d8576b\"],[0.6666666666666666,\"#ed7953\"],[0.7777777777777778,\"#fb9f3a\"],[0.8888888888888888,\"#fdca26\"],[1.0,\"#f0f921\"]]}],\"heatmap\":[{\"type\":\"heatmap\",\"colorbar\":{\"outlinewidth\":0,\"ticks\":\"\"},\"colorscale\":[[0.0,\"#0d0887\"],[0.1111111111111111,\"#46039f\"],[0.2222222222222222,\"#7201a8\"],[0.3333333333333333,\"#9c179e\"],[0.4444444444444444,\"#bd3786\"],[0.5555555555555556,\"#d8576b\"],[0.6666666666666666,\"#ed7953\"],[0.7777777777777778,\"#fb9f3a\"],[0.8888888888888888,\"#fdca26\"],[1.0,\"#f0f921\"]]}],\"heatmapgl\":[{\"type\":\"heatmapgl\",\"colorbar\":{\"outlinewidth\":0,\"ticks\":\"\"},\"colorscale\":[[0.0,\"#0d0887\"],[0.1111111111111111,\"#46039f\"],[0.2222222222222222,\"#7201a8\"],[0.3333333333333333,\"#9c179e\"],[0.4444444444444444,\"#bd3786\"],[0.5555555555555556,\"#d8576b\"],[0.6666666666666666,\"#ed7953\"],[0.7777777777777778,\"#fb9f3a\"],[0.8888888888888888,\"#fdca26\"],[1.0,\"#f0f921\"]]}],\"contourcarpet\":[{\"type\":\"contourcarpet\",\"colorbar\":{\"outlinewidth\":0,\"ticks\":\"\"}}],\"contour\":[{\"type\":\"contour\",\"colorbar\":{\"outlinewidth\":0,\"ticks\":\"\"},\"colorscale\":[[0.0,\"#0d0887\"],[0.1111111111111111,\"#46039f\"],[0.2222222222222222,\"#7201a8\"],[0.3333333333333333,\"#9c179e\"],[0.4444444444444444,\"#bd3786\"],[0.5555555555555556,\"#d8576b\"],[0.6666666666666666,\"#ed7953\"],[0.7777777777777778,\"#fb9f3a\"],[0.8888888888888888,\"#fdca26\"],[1.0,\"#f0f921\"]]}],\"surface\":[{\"type\":\"surface\",\"colorbar\":{\"outlinewidth\":0,\"ticks\":\"\"},\"colorscale\":[[0.0,\"#0d0887\"],[0.1111111111111111,\"#46039f\"],[0.2222222222222222,\"#7201a8\"],[0.3333333333333333,\"#9c179e\"],[0.4444444444444444,\"#bd3786\"],[0.5555555555555556,\"#d8576b\"],[0.6666666666666666,\"#ed7953\"],[0.7777777777777778,\"#fb9f3a\"],[0.8888888888888888,\"#fdca26\"],[1.0,\"#f0f921\"]]}],\"mesh3d\":[{\"type\":\"mesh3d\",\"colorbar\":{\"outlinewidth\":0,\"ticks\":\"\"}}],\"scatter\":[{\"fillpattern\":{\"fillmode\":\"overlay\",\"size\":10,\"solidity\":0.2},\"type\":\"scatter\"}],\"parcoords\":[{\"type\":\"parcoords\",\"line\":{\"colorbar\":{\"outlinewidth\":0,\"ticks\":\"\"}}}],\"scatterpolargl\":[{\"type\":\"scatterpolargl\",\"marker\":{\"colorbar\":{\"outlinewidth\":0,\"ticks\":\"\"}}}],\"bar\":[{\"error_x\":{\"color\":\"#2a3f5f\"},\"error_y\":{\"color\":\"#2a3f5f\"},\"marker\":{\"line\":{\"color\":\"#E5ECF6\",\"width\":0.5},\"pattern\":{\"fillmode\":\"overlay\",\"size\":10,\"solidity\":0.2}},\"type\":\"bar\"}],\"scattergeo\":[{\"type\":\"scattergeo\",\"marker\":{\"colorbar\":{\"outlinewidth\":0,\"ticks\":\"\"}}}],\"scatterpolar\":[{\"type\":\"scatterpolar\",\"marker\":{\"colorbar\":{\"outlinewidth\":0,\"ticks\":\"\"}}}],\"histogram\":[{\"marker\":{\"pattern\":{\"fillmode\":\"overlay\",\"size\":10,\"solidity\":0.2}},\"type\":\"histogram\"}],\"scattergl\":[{\"type\":\"scattergl\",\"marker\":{\"colorbar\":{\"outlinewidth\":0,\"ticks\":\"\"}}}],\"scatter3d\":[{\"type\":\"scatter3d\",\"line\":{\"colorbar\":{\"outlinewidth\":0,\"ticks\":\"\"}},\"marker\":{\"colorbar\":{\"outlinewidth\":0,\"ticks\":\"\"}}}],\"scattermapbox\":[{\"type\":\"scattermapbox\",\"marker\":{\"colorbar\":{\"outlinewidth\":0,\"ticks\":\"\"}}}],\"scatterternary\":[{\"type\":\"scatterternary\",\"marker\":{\"colorbar\":{\"outlinewidth\":0,\"ticks\":\"\"}}}],\"scattercarpet\":[{\"type\":\"scattercarpet\",\"marker\":{\"colorbar\":{\"outlinewidth\":0,\"ticks\":\"\"}}}],\"carpet\":[{\"aaxis\":{\"endlinecolor\":\"#2a3f5f\",\"gridcolor\":\"white\",\"linecolor\":\"white\",\"minorgridcolor\":\"white\",\"startlinecolor\":\"#2a3f5f\"},\"baxis\":{\"endlinecolor\":\"#2a3f5f\",\"gridcolor\":\"white\",\"linecolor\":\"white\",\"minorgridcolor\":\"white\",\"startlinecolor\":\"#2a3f5f\"},\"type\":\"carpet\"}],\"table\":[{\"cells\":{\"fill\":{\"color\":\"#EBF0F8\"},\"line\":{\"color\":\"white\"}},\"header\":{\"fill\":{\"color\":\"#C8D4E3\"},\"line\":{\"color\":\"white\"}},\"type\":\"table\"}],\"barpolar\":[{\"marker\":{\"line\":{\"color\":\"#E5ECF6\",\"width\":0.5},\"pattern\":{\"fillmode\":\"overlay\",\"size\":10,\"solidity\":0.2}},\"type\":\"barpolar\"}],\"pie\":[{\"automargin\":true,\"type\":\"pie\"}]},\"layout\":{\"autotypenumbers\":\"strict\",\"colorway\":[\"#636efa\",\"#EF553B\",\"#00cc96\",\"#ab63fa\",\"#FFA15A\",\"#19d3f3\",\"#FF6692\",\"#B6E880\",\"#FF97FF\",\"#FECB52\"],\"font\":{\"color\":\"#2a3f5f\"},\"hovermode\":\"closest\",\"hoverlabel\":{\"align\":\"left\"},\"paper_bgcolor\":\"white\",\"plot_bgcolor\":\"#E5ECF6\",\"polar\":{\"bgcolor\":\"#E5ECF6\",\"angularaxis\":{\"gridcolor\":\"white\",\"linecolor\":\"white\",\"ticks\":\"\"},\"radialaxis\":{\"gridcolor\":\"white\",\"linecolor\":\"white\",\"ticks\":\"\"}},\"ternary\":{\"bgcolor\":\"#E5ECF6\",\"aaxis\":{\"gridcolor\":\"white\",\"linecolor\":\"white\",\"ticks\":\"\"},\"baxis\":{\"gridcolor\":\"white\",\"linecolor\":\"white\",\"ticks\":\"\"},\"caxis\":{\"gridcolor\":\"white\",\"linecolor\":\"white\",\"ticks\":\"\"}},\"coloraxis\":{\"colorbar\":{\"outlinewidth\":0,\"ticks\":\"\"}},\"colorscale\":{\"sequential\":[[0.0,\"#0d0887\"],[0.1111111111111111,\"#46039f\"],[0.2222222222222222,\"#7201a8\"],[0.3333333333333333,\"#9c179e\"],[0.4444444444444444,\"#bd3786\"],[0.5555555555555556,\"#d8576b\"],[0.6666666666666666,\"#ed7953\"],[0.7777777777777778,\"#fb9f3a\"],[0.8888888888888888,\"#fdca26\"],[1.0,\"#f0f921\"]],\"sequentialminus\":[[0.0,\"#0d0887\"],[0.1111111111111111,\"#46039f\"],[0.2222222222222222,\"#7201a8\"],[0.3333333333333333,\"#9c179e\"],[0.4444444444444444,\"#bd3786\"],[0.5555555555555556,\"#d8576b\"],[0.6666666666666666,\"#ed7953\"],[0.7777777777777778,\"#fb9f3a\"],[0.8888888888888888,\"#fdca26\"],[1.0,\"#f0f921\"]],\"diverging\":[[0,\"#8e0152\"],[0.1,\"#c51b7d\"],[0.2,\"#de77ae\"],[0.3,\"#f1b6da\"],[0.4,\"#fde0ef\"],[0.5,\"#f7f7f7\"],[0.6,\"#e6f5d0\"],[0.7,\"#b8e186\"],[0.8,\"#7fbc41\"],[0.9,\"#4d9221\"],[1,\"#276419\"]]},\"xaxis\":{\"gridcolor\":\"white\",\"linecolor\":\"white\",\"ticks\":\"\",\"title\":{\"standoff\":15},\"zerolinecolor\":\"white\",\"automargin\":true,\"zerolinewidth\":2},\"yaxis\":{\"gridcolor\":\"white\",\"linecolor\":\"white\",\"ticks\":\"\",\"title\":{\"standoff\":15},\"zerolinecolor\":\"white\",\"automargin\":true,\"zerolinewidth\":2},\"scene\":{\"xaxis\":{\"backgroundcolor\":\"#E5ECF6\",\"gridcolor\":\"white\",\"linecolor\":\"white\",\"showbackground\":true,\"ticks\":\"\",\"zerolinecolor\":\"white\",\"gridwidth\":2},\"yaxis\":{\"backgroundcolor\":\"#E5ECF6\",\"gridcolor\":\"white\",\"linecolor\":\"white\",\"showbackground\":true,\"ticks\":\"\",\"zerolinecolor\":\"white\",\"gridwidth\":2},\"zaxis\":{\"backgroundcolor\":\"#E5ECF6\",\"gridcolor\":\"white\",\"linecolor\":\"white\",\"showbackground\":true,\"ticks\":\"\",\"zerolinecolor\":\"white\",\"gridwidth\":2}},\"shapedefaults\":{\"line\":{\"color\":\"#2a3f5f\"}},\"annotationdefaults\":{\"arrowcolor\":\"#2a3f5f\",\"arrowhead\":0,\"arrowwidth\":1},\"geo\":{\"bgcolor\":\"white\",\"landcolor\":\"#E5ECF6\",\"subunitcolor\":\"white\",\"showland\":true,\"showlakes\":true,\"lakecolor\":\"white\"},\"title\":{\"x\":0.05},\"mapbox\":{\"style\":\"light\"}}},\"title\":{\"text\":\"10 Locations With The Most Listings\",\"font\":{\"size\":15}},\"xaxis\":{\"title\":{\"text\":\"Locations\",\"font\":{\"size\":10}},\"tickangle\":45,\"showgrid\":true,\"gridwidth\":1,\"gridcolor\":\"lightgray\"},\"yaxis\":{\"title\":{\"text\":\"Number of Occurrences\",\"font\":{\"size\":10}},\"showgrid\":true,\"gridwidth\":1,\"gridcolor\":\"lightgray\"},\"showlegend\":false,\"plot_bgcolor\":\"white\"},                        {\"responsive\": true}                    ).then(function(){\n",
       "                            \n",
       "var gd = document.getElementById('42be145b-24e9-47bc-98bc-f128b1f3a351');\n",
       "var x = new MutationObserver(function (mutations, observer) {{\n",
       "        var display = window.getComputedStyle(gd).display;\n",
       "        if (!display || display === 'none') {{\n",
       "            console.log([gd, 'removed!']);\n",
       "            Plotly.purge(gd);\n",
       "            observer.disconnect();\n",
       "        }}\n",
       "}});\n",
       "\n",
       "// Listen for the removal of the full notebook cells\n",
       "var notebookContainer = gd.closest('#notebook-container');\n",
       "if (notebookContainer) {{\n",
       "    x.observe(notebookContainer, {childList: true});\n",
       "}}\n",
       "\n",
       "// Listen for the clearing of the current output cell\n",
       "var outputEl = gd.closest('.output');\n",
       "if (outputEl) {{\n",
       "    x.observe(outputEl, {childList: true});\n",
       "}}\n",
       "\n",
       "                        })                };                });            </script>        </div>"
      ]
     },
     "metadata": {},
     "output_type": "display_data"
    }
   ],
   "source": [
    "import plotly.graph_objects as go\n",
    "\n",
    "# Assuming location_job_count is a pandas Series with the locations as the index and their occurrences as the values\n",
    "\n",
    "fig = go.Figure()\n",
    "\n",
    "# Plotting the line chart\n",
    "fig.add_trace(go.Scatter(\n",
    "    x=location_job_count.index,\n",
    "    y=location_job_count.values,\n",
    "    mode='lines+markers',\n",
    "    line=dict(color='red'),\n",
    "    marker=dict(color='red', size=8),\n",
    "))\n",
    "\n",
    "# Adding titles and labels\n",
    "fig.update_layout(\n",
    "    title='10 Locations With The Most Listings',\n",
    "    xaxis_title='Locations',\n",
    "    yaxis_title='Number of Occurrences',\n",
    "    title_font_size=15,\n",
    "    xaxis_title_font=dict(size=10),\n",
    "    yaxis_title_font=dict(size=10),\n",
    "    xaxis=dict(tickangle=45),\n",
    "    showlegend=False,\n",
    "    plot_bgcolor='white'\n",
    ")\n",
    "\n",
    "# Adding gridlines\n",
    "fig.update_xaxes(showgrid=True, gridwidth=1, gridcolor='lightgray')\n",
    "fig.update_yaxes(showgrid=True, gridwidth=1, gridcolor='lightgray')\n",
    "\n",
    "fig.show()\n"
   ]
  },
  {
   "cell_type": "code",
   "execution_count": 113,
   "id": "2cabfd2e-aaf6-4cf2-a624-512d67c896ee",
   "metadata": {},
   "outputs": [
    {
     "data": {
      "text/html": [
       "<div>\n",
       "<style scoped>\n",
       "    .dataframe tbody tr th:only-of-type {\n",
       "        vertical-align: middle;\n",
       "    }\n",
       "\n",
       "    .dataframe tbody tr th {\n",
       "        vertical-align: top;\n",
       "    }\n",
       "\n",
       "    .dataframe thead th {\n",
       "        text-align: right;\n",
       "    }\n",
       "</style>\n",
       "<table border=\"1\" class=\"dataframe\">\n",
       "  <thead>\n",
       "    <tr style=\"text-align: right;\">\n",
       "      <th></th>\n",
       "      <th>location</th>\n",
       "      <th>title</th>\n",
       "      <th>count</th>\n",
       "    </tr>\n",
       "  </thead>\n",
       "  <tbody>\n",
       "    <tr>\n",
       "      <th>3518</th>\n",
       "      <td>Remote</td>\n",
       "      <td>Senior Software Engineer</td>\n",
       "      <td>271</td>\n",
       "    </tr>\n",
       "    <tr>\n",
       "      <th>369</th>\n",
       "      <td>Austin, TX</td>\n",
       "      <td>Software Engineer</td>\n",
       "      <td>87</td>\n",
       "    </tr>\n",
       "    <tr>\n",
       "      <th>4266</th>\n",
       "      <td>Seattle, WA</td>\n",
       "      <td>Software Engineer</td>\n",
       "      <td>79</td>\n",
       "    </tr>\n",
       "    <tr>\n",
       "      <th>896</th>\n",
       "      <td>Chicago, IL</td>\n",
       "      <td>Senior Software Engineer</td>\n",
       "      <td>66</td>\n",
       "    </tr>\n",
       "    <tr>\n",
       "      <th>2487</th>\n",
       "      <td>New York, NY</td>\n",
       "      <td>Senior Software Engineer</td>\n",
       "      <td>53</td>\n",
       "    </tr>\n",
       "  </tbody>\n",
       "</table>\n",
       "</div>"
      ],
      "text/plain": [
       "          location                     title  count\n",
       "3518        Remote  Senior Software Engineer    271\n",
       "369     Austin, TX         Software Engineer     87\n",
       "4266   Seattle, WA         Software Engineer     79\n",
       "896    Chicago, IL  Senior Software Engineer     66\n",
       "2487  New York, NY  Senior Software Engineer     53"
      ]
     },
     "execution_count": 113,
     "metadata": {},
     "output_type": "execute_result"
    }
   ],
   "source": [
    "location_title_counts = cleaned_jobs_df.groupby(['location', 'title']).size().reset_index(name='count')\n",
    "location_title_counts\n",
    "\n",
    "most_popular_jobs = location_title_counts.loc[location_title_counts.groupby('location')['count'].idxmax()]\n",
    "\n",
    "sorted_most_popular_jobs = most_popular_jobs.sort_values(by='count', ascending=False).head(5)\n",
    "\n",
    "sorted_most_popular_jobs"
   ]
  },
  {
   "cell_type": "code",
   "execution_count": 145,
   "id": "54abdc4f-3172-4da8-bb8d-a6e7bcbabacc",
   "metadata": {},
   "outputs": [
    {
     "data": {
      "image/png": "[encoded data removed]",
      "text/plain": [
       "<Figure size 640x480 with 1 Axes>"
      ]
     },
     "metadata": {},
     "output_type": "display_data"
    }
   ],
   "source": [
    "# Plotting\n",
    "# plt.figure(figsize=(10, 6))\n",
    "bars = plt.barh(sorted_most_popular_jobs['title'] + ' (' + sorted_most_popular_jobs['location'] + ')', \n",
    "                sorted_most_popular_jobs['count'], \n",
    "                color='skyblue')\n",
    "\n",
    "# Adding labels and title\n",
    "plt.xlabel('Count')\n",
    "plt.ylabel('Job Title (Location)')\n",
    "plt.title('Most Popular Jobs by Location')\n",
    "plt.gca().invert_yaxis()  # To display the highest counts at the top\n",
    "\n",
    "# Adding value labels on bars\n",
    "for bar in bars:\n",
    "    width = bar.get_width()\n",
    "    plt.text(width, bar.get_y() + bar.get_height() / 2, \n",
    "             f'{int(width)}', \n",
    "             va='center')\n",
    "\n",
    "plt.tight_layout()\n",
    "plt.show()\n"
   ]
  },
  {
   "cell_type": "code",
   "execution_count": 146,
   "id": "aaec4ae4-5017-4bcb-b0b8-4e6f72b06b7b",
   "metadata": {},
   "outputs": [
    {
     "data": {
      "application/vnd.plotly.v1+json": {
       "config": {
        "plotlyServerURL": "https://plot.ly"
       },
       "data": [
        {
         "marker": {
          "color": "skyblue"
         },
         "orientation": "h",
         "text": [
          271,
          87,
          79,
          66,
          53
         ],
         "textposition": "auto",
         "type": "bar",
         "x": [
          271,
          87,
          79,
          66,
          53
         ],
         "y": [
          "Senior Software Engineer (Remote)",
          "Software Engineer (Austin, TX)",
          "Software Engineer (Seattle, WA)",
          "Senior Software Engineer (Chicago, IL)",
          "Senior Software Engineer (New York, NY)"
         ]
        }
       ],
       "layout": {
        "autosize": true,
        "plot_bgcolor": "white",
        "showlegend": false,
        "template": {
         "data": {
          "bar": [
           {
            "error_x": {
             "color": "#2a3f5f"
            },
            "error_y": {
             "color": "#2a3f5f"
            },
            "marker": {
             "line": {
              "color": "#E5ECF6",
              "width": 0.5
             },
             "pattern": {
              "fillmode": "overlay",
              "size": 10,
              "solidity": 0.2
             }
            },
            "type": "bar"
           }
          ],
          "barpolar": [
           {
            "marker": {
             "line": {
              "color": "#E5ECF6",
              "width": 0.5
             },
             "pattern": {
              "fillmode": "overlay",
              "size": 10,
              "solidity": 0.2
             }
            },
            "type": "barpolar"
           }
          ],
          "carpet": [
           {
            "aaxis": {
             "endlinecolor": "#2a3f5f",
             "gridcolor": "white",
             "linecolor": "white",
             "minorgridcolor": "white",
             "startlinecolor": "#2a3f5f"
            },
            "baxis": {
             "endlinecolor": "#2a3f5f",
             "gridcolor": "white",
             "linecolor": "white",
             "minorgridcolor": "white",
             "startlinecolor": "#2a3f5f"
            },
            "type": "carpet"
           }
          ],
          "choropleth": [
           {
            "colorbar": {
             "outlinewidth": 0,
             "ticks": ""
            },
            "type": "choropleth"
           }
          ],
          "contour": [
           {
            "colorbar": {
             "outlinewidth": 0,
             "ticks": ""
            },
            "colorscale": [
             [
              0,
              "#0d0887"
             ],
             [
              0.1111111111111111,
              "#46039f"
             ],
             [
              0.2222222222222222,
              "#7201a8"
             ],
             [
              0.3333333333333333,
              "#9c179e"
             ],
             [
              0.4444444444444444,
              "#bd3786"
             ],
             [
              0.5555555555555556,
              "#d8576b"
             ],
             [
              0.6666666666666666,
              "#ed7953"
             ],
             [
              0.7777777777777778,
              "#fb9f3a"
             ],
             [
              0.8888888888888888,
              "#fdca26"
             ],
             [
              1,
              "#f0f921"
             ]
            ],
            "type": "contour"
           }
          ],
          "contourcarpet": [
           {
            "colorbar": {
             "outlinewidth": 0,
             "ticks": ""
            },
            "type": "contourcarpet"
           }
          ],
          "heatmap": [
           {
            "colorbar": {
             "outlinewidth": 0,
             "ticks": ""
            },
            "colorscale": [
             [
              0,
              "#0d0887"
             ],
             [
              0.1111111111111111,
              "#46039f"
             ],
             [
              0.2222222222222222,
              "#7201a8"
             ],
             [
              0.3333333333333333,
              "#9c179e"
             ],
             [
              0.4444444444444444,
              "#bd3786"
             ],
             [
              0.5555555555555556,
              "#d8576b"
             ],
             [
              0.6666666666666666,
              "#ed7953"
             ],
             [
              0.7777777777777778,
              "#fb9f3a"
             ],
             [
              0.8888888888888888,
              "#fdca26"
             ],
             [
              1,
              "#f0f921"
             ]
            ],
            "type": "heatmap"
           }
          ],
          "heatmapgl": [
           {
            "colorbar": {
             "outlinewidth": 0,
             "ticks": ""
            },
            "colorscale": [
             [
              0,
              "#0d0887"
             ],
             [
              0.1111111111111111,
              "#46039f"
             ],
             [
              0.2222222222222222,
              "#7201a8"
             ],
             [
              0.3333333333333333,
              "#9c179e"
             ],
             [
              0.4444444444444444,
              "#bd3786"
             ],
             [
              0.5555555555555556,
              "#d8576b"
             ],
             [
              0.6666666666666666,
              "#ed7953"
             ],
             [
              0.7777777777777778,
              "#fb9f3a"
             ],
             [
              0.8888888888888888,
              "#fdca26"
             ],
             [
              1,
              "#f0f921"
             ]
            ],
            "type": "heatmapgl"
           }
          ],
          "histogram": [
           {
            "marker": {
             "pattern": {
              "fillmode": "overlay",
              "size": 10,
              "solidity": 0.2
             }
            },
            "type": "histogram"
           }
          ],
          "histogram2d": [
           {
            "colorbar": {
             "outlinewidth": 0,
             "ticks": ""
            },
            "colorscale": [
             [
              0,
              "#0d0887"
             ],
             [
              0.1111111111111111,
              "#46039f"
             ],
             [
              0.2222222222222222,
              "#7201a8"
             ],
             [
              0.3333333333333333,
              "#9c179e"
             ],
             [
              0.4444444444444444,
              "#bd3786"
             ],
             [
              0.5555555555555556,
              "#d8576b"
             ],
             [
              0.6666666666666666,
              "#ed7953"
             ],
             [
              0.7777777777777778,
              "#fb9f3a"
             ],
             [
              0.8888888888888888,
              "#fdca26"
             ],
             [
              1,
              "#f0f921"
             ]
            ],
            "type": "histogram2d"
           }
          ],
          "histogram2dcontour": [
           {
            "colorbar": {
             "outlinewidth": 0,
             "ticks": ""
            },
            "colorscale": [
             [
              0,
              "#0d0887"
             ],
             [
              0.1111111111111111,
              "#46039f"
             ],
             [
              0.2222222222222222,
              "#7201a8"
             ],
             [
              0.3333333333333333,
              "#9c179e"
             ],
             [
              0.4444444444444444,
              "#bd3786"
             ],
             [
              0.5555555555555556,
              "#d8576b"
             ],
             [
              0.6666666666666666,
              "#ed7953"
             ],
             [
              0.7777777777777778,
              "#fb9f3a"
             ],
             [
              0.8888888888888888,
              "#fdca26"
             ],
             [
              1,
              "#f0f921"
             ]
            ],
            "type": "histogram2dcontour"
           }
          ],
          "mesh3d": [
           {
            "colorbar": {
             "outlinewidth": 0,
             "ticks": ""
            },
            "type": "mesh3d"
           }
          ],
          "parcoords": [
           {
            "line": {
             "colorbar": {
              "outlinewidth": 0,
              "ticks": ""
             }
            },
            "type": "parcoords"
           }
          ],
          "pie": [
           {
            "automargin": true,
            "type": "pie"
           }
          ],
          "scatter": [
           {
            "fillpattern": {
             "fillmode": "overlay",
             "size": 10,
             "solidity": 0.2
            },
            "type": "scatter"
           }
          ],
          "scatter3d": [
           {
            "line": {
             "colorbar": {
              "outlinewidth": 0,
              "ticks": ""
             }
            },
            "marker": {
             "colorbar": {
              "outlinewidth": 0,
              "ticks": ""
             }
            },
            "type": "scatter3d"
           }
          ],
          "scattercarpet": [
           {
            "marker": {
             "colorbar": {
              "outlinewidth": 0,
              "ticks": ""
             }
            },
            "type": "scattercarpet"
           }
          ],
          "scattergeo": [
           {
            "marker": {
             "colorbar": {
              "outlinewidth": 0,
              "ticks": ""
             }
            },
            "type": "scattergeo"
           }
          ],
          "scattergl": [
           {
            "marker": {
             "colorbar": {
              "outlinewidth": 0,
              "ticks": ""
             }
            },
            "type": "scattergl"
           }
          ],
          "scattermapbox": [
           {
            "marker": {
             "colorbar": {
              "outlinewidth": 0,
              "ticks": ""
             }
            },
            "type": "scattermapbox"
           }
          ],
          "scatterpolar": [
           {
            "marker": {
             "colorbar": {
              "outlinewidth": 0,
              "ticks": ""
             }
            },
            "type": "scatterpolar"
           }
          ],
          "scatterpolargl": [
           {
            "marker": {
             "colorbar": {
              "outlinewidth": 0,
              "ticks": ""
             }
            },
            "type": "scatterpolargl"
           }
          ],
          "scatterternary": [
           {
            "marker": {
             "colorbar": {
              "outlinewidth": 0,
              "ticks": ""
             }
            },
            "type": "scatterternary"
           }
          ],
          "surface": [
           {
            "colorbar": {
             "outlinewidth": 0,
             "ticks": ""
            },
            "colorscale": [
             [
              0,
              "#0d0887"
             ],
             [
              0.1111111111111111,
              "#46039f"
             ],
             [
              0.2222222222222222,
              "#7201a8"
             ],
             [
              0.3333333333333333,
              "#9c179e"
             ],
             [
              0.4444444444444444,
              "#bd3786"
             ],
             [
              0.5555555555555556,
              "#d8576b"
             ],
             [
              0.6666666666666666,
              "#ed7953"
             ],
             [
              0.7777777777777778,
              "#fb9f3a"
             ],
             [
              0.8888888888888888,
              "#fdca26"
             ],
             [
              1,
              "#f0f921"
             ]
            ],
            "type": "surface"
           }
          ],
          "table": [
           {
            "cells": {
             "fill": {
              "color": "#EBF0F8"
             },
             "line": {
              "color": "white"
             }
            },
            "header": {
             "fill": {
              "color": "#C8D4E3"
             },
             "line": {
              "color": "white"
             }
            },
            "type": "table"
           }
          ]
         },
         "layout": {
          "annotationdefaults": {
           "arrowcolor": "#2a3f5f",
           "arrowhead": 0,
           "arrowwidth": 1
          },
          "autotypenumbers": "strict",
          "coloraxis": {
           "colorbar": {
            "outlinewidth": 0,
            "ticks": ""
           }
          },
          "colorscale": {
           "diverging": [
            [
             0,
             "#8e0152"
            ],
            [
             0.1,
             "#c51b7d"
            ],
            [
             0.2,
             "#de77ae"
            ],
            [
             0.3,
             "#f1b6da"
            ],
            [
             0.4,
             "#fde0ef"
            ],
            [
             0.5,
             "#f7f7f7"
            ],
            [
             0.6,
             "#e6f5d0"
            ],
            [
             0.7,
             "#b8e186"
            ],
            [
             0.8,
             "#7fbc41"
            ],
            [
             0.9,
             "#4d9221"
            ],
            [
             1,
             "#276419"
            ]
           ],
           "sequential": [
            [
             0,
             "#0d0887"
            ],
            [
             0.1111111111111111,
             "#46039f"
            ],
            [
             0.2222222222222222,
             "#7201a8"
            ],
            [
             0.3333333333333333,
             "#9c179e"
            ],
            [
             0.4444444444444444,
             "#bd3786"
            ],
            [
             0.5555555555555556,
             "#d8576b"
            ],
            [
             0.6666666666666666,
             "#ed7953"
            ],
            [
             0.7777777777777778,
             "#fb9f3a"
            ],
            [
             0.8888888888888888,
             "#fdca26"
            ],
            [
             1,
             "#f0f921"
            ]
           ],
           "sequentialminus": [
            [
             0,
             "#0d0887"
            ],
            [
             0.1111111111111111,
             "#46039f"
            ],
            [
             0.2222222222222222,
             "#7201a8"
            ],
            [
             0.3333333333333333,
             "#9c179e"
            ],
            [
             0.4444444444444444,
             "#bd3786"
            ],
            [
             0.5555555555555556,
             "#d8576b"
            ],
            [
             0.6666666666666666,
             "#ed7953"
            ],
            [
             0.7777777777777778,
             "#fb9f3a"
            ],
            [
             0.8888888888888888,
             "#fdca26"
            ],
            [
             1,
             "#f0f921"
            ]
           ]
          },
          "colorway": [
           "#636efa",
           "#EF553B",
           "#00cc96",
           "#ab63fa",
           "#FFA15A",
           "#19d3f3",
           "#FF6692",
           "#B6E880",
           "#FF97FF",
           "#FECB52"
          ],
          "font": {
           "color": "#2a3f5f"
          },
          "geo": {
           "bgcolor": "white",
           "lakecolor": "white",
           "landcolor": "#E5ECF6",
           "showlakes": true,
           "showland": true,
           "subunitcolor": "white"
          },
          "hoverlabel": {
           "align": "left"
          },
          "hovermode": "closest",
          "mapbox": {
           "style": "light"
          },
          "paper_bgcolor": "white",
          "plot_bgcolor": "#E5ECF6",
          "polar": {
           "angularaxis": {
            "gridcolor": "white",
            "linecolor": "white",
            "ticks": ""
           },
           "bgcolor": "#E5ECF6",
           "radialaxis": {
            "gridcolor": "white",
            "linecolor": "white",
            "ticks": ""
           }
          },
          "scene": {
           "xaxis": {
            "backgroundcolor": "#E5ECF6",
            "gridcolor": "white",
            "gridwidth": 2,
            "linecolor": "white",
            "showbackground": true,
            "ticks": "",
            "zerolinecolor": "white"
           },
           "yaxis": {
            "backgroundcolor": "#E5ECF6",
            "gridcolor": "white",
            "gridwidth": 2,
            "linecolor": "white",
            "showbackground": true,
            "ticks": "",
            "zerolinecolor": "white"
           },
           "zaxis": {
            "backgroundcolor": "#E5ECF6",
            "gridcolor": "white",
            "gridwidth": 2,
            "linecolor": "white",
            "showbackground": true,
            "ticks": "",
            "zerolinecolor": "white"
           }
          },
          "shapedefaults": {
           "line": {
            "color": "#2a3f5f"
           }
          },
          "ternary": {
           "aaxis": {
            "gridcolor": "white",
            "linecolor": "white",
            "ticks": ""
           },
           "baxis": {
            "gridcolor": "white",
            "linecolor": "white",
            "ticks": ""
           },
           "bgcolor": "#E5ECF6",
           "caxis": {
            "gridcolor": "white",
            "linecolor": "white",
            "ticks": ""
           }
          },
          "title": {
           "x": 0.05
          },
          "xaxis": {
           "automargin": true,
           "gridcolor": "white",
           "linecolor": "white",
           "ticks": "",
           "title": {
            "standoff": 15
           },
           "zerolinecolor": "white",
           "zerolinewidth": 2
          },
          "yaxis": {
           "automargin": true,
           "gridcolor": "white",
           "linecolor": "white",
           "ticks": "",
           "title": {
            "standoff": 15
           },
           "zerolinecolor": "white",
           "zerolinewidth": 2
          }
         }
        },
        "title": {
         "text": "Most Popular Jobs by Location"
        },
        "xaxis": {
         "autorange": true,
         "range": [
          0,
          285.2631578947368
         ],
         "title": {
          "text": "Count"
         },
         "type": "linear"
        },
        "yaxis": {
         "autorange": true,
         "range": [
          4.5,
          -0.5
         ],
         "title": {
          "text": "Job Title (Location)"
         },
         "type": "category"
        }
       }
      },
      "image/png": "[encoded data removed]",
      "text/html": [
       "<div>                            <div id=\"bbe68209-cb02-403c-8463-15dedd6b7261\" class=\"plotly-graph-div\" style=\"height:525px; width:100%;\"></div>            <script type=\"text/javascript\">                require([\"plotly\"], function(Plotly) {                    window.PLOTLYENV=window.PLOTLYENV || {};                                    if (document.getElementById(\"bbe68209-cb02-403c-8463-15dedd6b7261\")) {                    Plotly.newPlot(                        \"bbe68209-cb02-403c-8463-15dedd6b7261\",                        [{\"marker\":{\"color\":\"skyblue\"},\"orientation\":\"h\",\"x\":[271,87,79,66,53],\"y\":[\"Senior Software Engineer (Remote)\",\"Software Engineer (Austin, TX)\",\"Software Engineer (Seattle, WA)\",\"Senior Software Engineer (Chicago, IL)\",\"Senior Software Engineer (New York, NY)\"],\"type\":\"bar\",\"text\":[271.0,87.0,79.0,66.0,53.0],\"textposition\":\"auto\"}],                        {\"template\":{\"data\":{\"histogram2dcontour\":[{\"type\":\"histogram2dcontour\",\"colorbar\":{\"outlinewidth\":0,\"ticks\":\"\"},\"colorscale\":[[0.0,\"#0d0887\"],[0.1111111111111111,\"#46039f\"],[0.2222222222222222,\"#7201a8\"],[0.3333333333333333,\"#9c179e\"],[0.4444444444444444,\"#bd3786\"],[0.5555555555555556,\"#d8576b\"],[0.6666666666666666,\"#ed7953\"],[0.7777777777777778,\"#fb9f3a\"],[0.8888888888888888,\"#fdca26\"],[1.0,\"#f0f921\"]]}],\"choropleth\":[{\"type\":\"choropleth\",\"colorbar\":{\"outlinewidth\":0,\"ticks\":\"\"}}],\"histogram2d\":[{\"type\":\"histogram2d\",\"colorbar\":{\"outlinewidth\":0,\"ticks\":\"\"},\"colorscale\":[[0.0,\"#0d0887\"],[0.1111111111111111,\"#46039f\"],[0.2222222222222222,\"#7201a8\"],[0.3333333333333333,\"#9c179e\"],[0.4444444444444444,\"#bd3786\"],[0.5555555555555556,\"#d8576b\"],[0.6666666666666666,\"#ed7953\"],[0.7777777777777778,\"#fb9f3a\"],[0.8888888888888888,\"#fdca26\"],[1.0,\"#f0f921\"]]}],\"heatmap\":[{\"type\":\"heatmap\",\"colorbar\":{\"outlinewidth\":0,\"ticks\":\"\"},\"colorscale\":[[0.0,\"#0d0887\"],[0.1111111111111111,\"#46039f\"],[0.2222222222222222,\"#7201a8\"],[0.3333333333333333,\"#9c179e\"],[0.4444444444444444,\"#bd3786\"],[0.5555555555555556,\"#d8576b\"],[0.6666666666666666,\"#ed7953\"],[0.7777777777777778,\"#fb9f3a\"],[0.8888888888888888,\"#fdca26\"],[1.0,\"#f0f921\"]]}],\"heatmapgl\":[{\"type\":\"heatmapgl\",\"colorbar\":{\"outlinewidth\":0,\"ticks\":\"\"},\"colorscale\":[[0.0,\"#0d0887\"],[0.1111111111111111,\"#46039f\"],[0.2222222222222222,\"#7201a8\"],[0.3333333333333333,\"#9c179e\"],[0.4444444444444444,\"#bd3786\"],[0.5555555555555556,\"#d8576b\"],[0.6666666666666666,\"#ed7953\"],[0.7777777777777778,\"#fb9f3a\"],[0.8888888888888888,\"#fdca26\"],[1.0,\"#f0f921\"]]}],\"contourcarpet\":[{\"type\":\"contourcarpet\",\"colorbar\":{\"outlinewidth\":0,\"ticks\":\"\"}}],\"contour\":[{\"type\":\"contour\",\"colorbar\":{\"outlinewidth\":0,\"ticks\":\"\"},\"colorscale\":[[0.0,\"#0d0887\"],[0.1111111111111111,\"#46039f\"],[0.2222222222222222,\"#7201a8\"],[0.3333333333333333,\"#9c179e\"],[0.4444444444444444,\"#bd3786\"],[0.5555555555555556,\"#d8576b\"],[0.6666666666666666,\"#ed7953\"],[0.7777777777777778,\"#fb9f3a\"],[0.8888888888888888,\"#fdca26\"],[1.0,\"#f0f921\"]]}],\"surface\":[{\"type\":\"surface\",\"colorbar\":{\"outlinewidth\":0,\"ticks\":\"\"},\"colorscale\":[[0.0,\"#0d0887\"],[0.1111111111111111,\"#46039f\"],[0.2222222222222222,\"#7201a8\"],[0.3333333333333333,\"#9c179e\"],[0.4444444444444444,\"#bd3786\"],[0.5555555555555556,\"#d8576b\"],[0.6666666666666666,\"#ed7953\"],[0.7777777777777778,\"#fb9f3a\"],[0.8888888888888888,\"#fdca26\"],[1.0,\"#f0f921\"]]}],\"mesh3d\":[{\"type\":\"mesh3d\",\"colorbar\":{\"outlinewidth\":0,\"ticks\":\"\"}}],\"scatter\":[{\"fillpattern\":{\"fillmode\":\"overlay\",\"size\":10,\"solidity\":0.2},\"type\":\"scatter\"}],\"parcoords\":[{\"type\":\"parcoords\",\"line\":{\"colorbar\":{\"outlinewidth\":0,\"ticks\":\"\"}}}],\"scatterpolargl\":[{\"type\":\"scatterpolargl\",\"marker\":{\"colorbar\":{\"outlinewidth\":0,\"ticks\":\"\"}}}],\"bar\":[{\"error_x\":{\"color\":\"#2a3f5f\"},\"error_y\":{\"color\":\"#2a3f5f\"},\"marker\":{\"line\":{\"color\":\"#E5ECF6\",\"width\":0.5},\"pattern\":{\"fillmode\":\"overlay\",\"size\":10,\"solidity\":0.2}},\"type\":\"bar\"}],\"scattergeo\":[{\"type\":\"scattergeo\",\"marker\":{\"colorbar\":{\"outlinewidth\":0,\"ticks\":\"\"}}}],\"scatterpolar\":[{\"type\":\"scatterpolar\",\"marker\":{\"colorbar\":{\"outlinewidth\":0,\"ticks\":\"\"}}}],\"histogram\":[{\"marker\":{\"pattern\":{\"fillmode\":\"overlay\",\"size\":10,\"solidity\":0.2}},\"type\":\"histogram\"}],\"scattergl\":[{\"type\":\"scattergl\",\"marker\":{\"colorbar\":{\"outlinewidth\":0,\"ticks\":\"\"}}}],\"scatter3d\":[{\"type\":\"scatter3d\",\"line\":{\"colorbar\":{\"outlinewidth\":0,\"ticks\":\"\"}},\"marker\":{\"colorbar\":{\"outlinewidth\":0,\"ticks\":\"\"}}}],\"scattermapbox\":[{\"type\":\"scattermapbox\",\"marker\":{\"colorbar\":{\"outlinewidth\":0,\"ticks\":\"\"}}}],\"scatterternary\":[{\"type\":\"scatterternary\",\"marker\":{\"colorbar\":{\"outlinewidth\":0,\"ticks\":\"\"}}}],\"scattercarpet\":[{\"type\":\"scattercarpet\",\"marker\":{\"colorbar\":{\"outlinewidth\":0,\"ticks\":\"\"}}}],\"carpet\":[{\"aaxis\":{\"endlinecolor\":\"#2a3f5f\",\"gridcolor\":\"white\",\"linecolor\":\"white\",\"minorgridcolor\":\"white\",\"startlinecolor\":\"#2a3f5f\"},\"baxis\":{\"endlinecolor\":\"#2a3f5f\",\"gridcolor\":\"white\",\"linecolor\":\"white\",\"minorgridcolor\":\"white\",\"startlinecolor\":\"#2a3f5f\"},\"type\":\"carpet\"}],\"table\":[{\"cells\":{\"fill\":{\"color\":\"#EBF0F8\"},\"line\":{\"color\":\"white\"}},\"header\":{\"fill\":{\"color\":\"#C8D4E3\"},\"line\":{\"color\":\"white\"}},\"type\":\"table\"}],\"barpolar\":[{\"marker\":{\"line\":{\"color\":\"#E5ECF6\",\"width\":0.5},\"pattern\":{\"fillmode\":\"overlay\",\"size\":10,\"solidity\":0.2}},\"type\":\"barpolar\"}],\"pie\":[{\"automargin\":true,\"type\":\"pie\"}]},\"layout\":{\"autotypenumbers\":\"strict\",\"colorway\":[\"#636efa\",\"#EF553B\",\"#00cc96\",\"#ab63fa\",\"#FFA15A\",\"#19d3f3\",\"#FF6692\",\"#B6E880\",\"#FF97FF\",\"#FECB52\"],\"font\":{\"color\":\"#2a3f5f\"},\"hovermode\":\"closest\",\"hoverlabel\":{\"align\":\"left\"},\"paper_bgcolor\":\"white\",\"plot_bgcolor\":\"#E5ECF6\",\"polar\":{\"bgcolor\":\"#E5ECF6\",\"angularaxis\":{\"gridcolor\":\"white\",\"linecolor\":\"white\",\"ticks\":\"\"},\"radialaxis\":{\"gridcolor\":\"white\",\"linecolor\":\"white\",\"ticks\":\"\"}},\"ternary\":{\"bgcolor\":\"#E5ECF6\",\"aaxis\":{\"gridcolor\":\"white\",\"linecolor\":\"white\",\"ticks\":\"\"},\"baxis\":{\"gridcolor\":\"white\",\"linecolor\":\"white\",\"ticks\":\"\"},\"caxis\":{\"gridcolor\":\"white\",\"linecolor\":\"white\",\"ticks\":\"\"}},\"coloraxis\":{\"colorbar\":{\"outlinewidth\":0,\"ticks\":\"\"}},\"colorscale\":{\"sequential\":[[0.0,\"#0d0887\"],[0.1111111111111111,\"#46039f\"],[0.2222222222222222,\"#7201a8\"],[0.3333333333333333,\"#9c179e\"],[0.4444444444444444,\"#bd3786\"],[0.5555555555555556,\"#d8576b\"],[0.6666666666666666,\"#ed7953\"],[0.7777777777777778,\"#fb9f3a\"],[0.8888888888888888,\"#fdca26\"],[1.0,\"#f0f921\"]],\"sequentialminus\":[[0.0,\"#0d0887\"],[0.1111111111111111,\"#46039f\"],[0.2222222222222222,\"#7201a8\"],[0.3333333333333333,\"#9c179e\"],[0.4444444444444444,\"#bd3786\"],[0.5555555555555556,\"#d8576b\"],[0.6666666666666666,\"#ed7953\"],[0.7777777777777778,\"#fb9f3a\"],[0.8888888888888888,\"#fdca26\"],[1.0,\"#f0f921\"]],\"diverging\":[[0,\"#8e0152\"],[0.1,\"#c51b7d\"],[0.2,\"#de77ae\"],[0.3,\"#f1b6da\"],[0.4,\"#fde0ef\"],[0.5,\"#f7f7f7\"],[0.6,\"#e6f5d0\"],[0.7,\"#b8e186\"],[0.8,\"#7fbc41\"],[0.9,\"#4d9221\"],[1,\"#276419\"]]},\"xaxis\":{\"gridcolor\":\"white\",\"linecolor\":\"white\",\"ticks\":\"\",\"title\":{\"standoff\":15},\"zerolinecolor\":\"white\",\"automargin\":true,\"zerolinewidth\":2},\"yaxis\":{\"gridcolor\":\"white\",\"linecolor\":\"white\",\"ticks\":\"\",\"title\":{\"standoff\":15},\"zerolinecolor\":\"white\",\"automargin\":true,\"zerolinewidth\":2},\"scene\":{\"xaxis\":{\"backgroundcolor\":\"#E5ECF6\",\"gridcolor\":\"white\",\"linecolor\":\"white\",\"showbackground\":true,\"ticks\":\"\",\"zerolinecolor\":\"white\",\"gridwidth\":2},\"yaxis\":{\"backgroundcolor\":\"#E5ECF6\",\"gridcolor\":\"white\",\"linecolor\":\"white\",\"showbackground\":true,\"ticks\":\"\",\"zerolinecolor\":\"white\",\"gridwidth\":2},\"zaxis\":{\"backgroundcolor\":\"#E5ECF6\",\"gridcolor\":\"white\",\"linecolor\":\"white\",\"showbackground\":true,\"ticks\":\"\",\"zerolinecolor\":\"white\",\"gridwidth\":2}},\"shapedefaults\":{\"line\":{\"color\":\"#2a3f5f\"}},\"annotationdefaults\":{\"arrowcolor\":\"#2a3f5f\",\"arrowhead\":0,\"arrowwidth\":1},\"geo\":{\"bgcolor\":\"white\",\"landcolor\":\"#E5ECF6\",\"subunitcolor\":\"white\",\"showland\":true,\"showlakes\":true,\"lakecolor\":\"white\"},\"title\":{\"x\":0.05},\"mapbox\":{\"style\":\"light\"}}},\"yaxis\":{\"title\":{\"text\":\"Job Title (Location)\"},\"autorange\":\"reversed\"},\"title\":{\"text\":\"Most Popular Jobs by Location\"},\"xaxis\":{\"title\":{\"text\":\"Count\"}},\"plot_bgcolor\":\"white\",\"showlegend\":false},                        {\"responsive\": true}                    ).then(function(){\n",
       "                            \n",
       "var gd = document.getElementById('bbe68209-cb02-403c-8463-15dedd6b7261');\n",
       "var x = new MutationObserver(function (mutations, observer) {{\n",
       "        var display = window.getComputedStyle(gd).display;\n",
       "        if (!display || display === 'none') {{\n",
       "            console.log([gd, 'removed!']);\n",
       "            Plotly.purge(gd);\n",
       "            observer.disconnect();\n",
       "        }}\n",
       "}});\n",
       "\n",
       "// Listen for the removal of the full notebook cells\n",
       "var notebookContainer = gd.closest('#notebook-container');\n",
       "if (notebookContainer) {{\n",
       "    x.observe(notebookContainer, {childList: true});\n",
       "}}\n",
       "\n",
       "// Listen for the clearing of the current output cell\n",
       "var outputEl = gd.closest('.output');\n",
       "if (outputEl) {{\n",
       "    x.observe(outputEl, {childList: true});\n",
       "}}\n",
       "\n",
       "                        })                };                });            </script>        </div>"
      ]
     },
     "metadata": {},
     "output_type": "display_data"
    }
   ],
   "source": [
    "import plotly.graph_objects as go\n",
    "\n",
    "# Assuming sorted_most_popular_jobs is a DataFrame with 'title', 'location', and 'count' columns\n",
    "\n",
    "# Create job title with location\n",
    "job_titles = sorted_most_popular_jobs['title'] + ' (' + sorted_most_popular_jobs['location'] + ')'\n",
    "\n",
    "# Create the figure\n",
    "fig = go.Figure()\n",
    "\n",
    "# Plotting the horizontal bar chart\n",
    "fig.add_trace(go.Bar(\n",
    "    y=job_titles,\n",
    "    x=sorted_most_popular_jobs['count'],\n",
    "    orientation='h',\n",
    "    marker_color='skyblue',\n",
    "))\n",
    "\n",
    "# Inverting y-axis to display the highest counts at the top\n",
    "fig.update_layout(\n",
    "    title='Most Popular Jobs by Location',\n",
    "    xaxis_title='Count',\n",
    "    yaxis_title='Job Title (Location)',\n",
    "    yaxis=dict(autorange=\"reversed\"),\n",
    "    plot_bgcolor='white',\n",
    "    showlegend=False,\n",
    ")\n",
    "\n",
    "# Adding value labels on the bars\n",
    "fig.update_traces(text=sorted_most_popular_jobs['count'], textposition='auto')\n",
    "\n",
    "# Show the plot\n",
    "fig.show()\n"
   ]
  },
  {
   "cell_type": "markdown",
   "id": "e58b9dec-7277-4db5-87b1-6c31681a8ed1",
   "metadata": {},
   "source": [
    "## **Locations with the most listings**\n",
    "\n",
    "- Remote\n",
    "- Austin, TX\n",
    "- Seattle, WA\n",
    "- \n",
    "New York, NY        5- \r\n",
    "San Francisco, CA"
   ]
  },
  {
   "cell_type": "markdown",
   "id": "70a14dbd-b0a0-44e7-bf72-31c23e057ff6",
   "metadata": {},
   "source": [
    "## What is the distribution of salaries across different software engineering roles?"
   ]
  },
  {
   "cell_type": "code",
   "execution_count": 115,
   "id": "d89e4964-3c17-4b29-893c-752b19634b18",
   "metadata": {
    "scrolled": true
   },
   "outputs": [
    {
     "data": {
      "text/plain": [
       "['$1,000 - $2,500 a month',\n",
       " '$1,000 - $3,000 a month',\n",
       " '$1,000 - $6,000 a month',\n",
       " '$1,200 a month',\n",
       " '$10 - $12 an hour',\n",
       " '$10 - $13 an hour',\n",
       " '$10 - $20 an hour',\n",
       " '$10 - $22 an hour',\n",
       " '$10 - $50 an hour',\n",
       " '$10 an hour',\n",
       " '$10,000 - $20,000 a year',\n",
       " '$100 - $110 an hour',\n",
       " '$100 - $115 an hour',\n",
       " '$100 - $118 an hour',\n",
       " '$100 - $120 an hour',\n",
       " '$100 - $125 an hour',\n",
       " '$100 - $150 an hour',\n",
       " '$100 an hour',\n",
       " '$100,000 - $105,000 a year',\n",
       " '$100,000 - $110,000 a year',\n",
       " '$100,000 - $115,000 a year',\n",
       " '$100,000 - $117,000 a year',\n",
       " '$100,000 - $119,000 a year',\n",
       " '$100,000 - $120,000 a year',\n",
       " '$100,000 - $125,000 a year',\n",
       " '$100,000 - $130,000 a year',\n",
       " '$100,000 - $135,000 a year',\n",
       " '$100,000 - $136,500 a year',\n",
       " '$100,000 - $139,000 a year',\n",
       " '$100,000 - $140,000 a year',\n",
       " '$100,000 - $145,000 a year',\n",
       " '$100,000 - $150,000 a year',\n",
       " '$100,000 - $155,000 a year',\n",
       " '$100,000 - $160,000 a year',\n",
       " '$100,000 - $170,000 a year',\n",
       " '$100,000 - $175,000 a year',\n",
       " '$100,000 - $180,000 a year',\n",
       " '$100,000 - $185,379 a year',\n",
       " '$100,000 - $190,000 a year',\n",
       " '$100,000 - $200,000 a year',\n",
       " '$100,000 - $205,000 a year',\n",
       " '$100,000 - $210,000 a year',\n",
       " '$100,000 a year',\n",
       " '$100,001 - $125,000 a year',\n",
       " '$100,100 a year',\n",
       " '$100,119 - $150,000 a year',\n",
       " '$100,324 - $122,619 a year',\n",
       " '$100,617 - $165,680 a year',\n",
       " '$100,708 - $153,977 a year',\n",
       " '$101,247 - $191,930 a year',\n",
       " '$101,280 - $216,647 a year',\n",
       " '$101,646 - $185,795 a year',\n",
       " '$101,754 a year',\n",
       " '$101,775 - $139,940 a year',\n",
       " '$101,794 - $190,000 a year',\n",
       " '$101,912 - $188,000 a year',\n",
       " '$102,373 - $175,289 a year',\n",
       " '$102,454 - $188,075 a year',\n",
       " '$102,700 - $154,800 a year',\n",
       " '$102,773 - $165,990 a year',\n",
       " '$103,008 a year',\n",
       " '$103,059 - $186,105 a year',\n",
       " '$103,690 - $172,500 a year',\n",
       " '$103,990 - $170,287 a year',\n",
       " '$104,000 - $114,000 a year',\n",
       " '$104,000 - $150,000 a year',\n",
       " '$104,242 - $193,155 a year',\n",
       " '$104,310 - $170,835 a year',\n",
       " '$104,832 a year',\n",
       " '$104,986 - $192,996 a year',\n",
       " '$105,000 - $115,000 a year',\n",
       " '$105,000 - $117,500 a year',\n",
       " '$105,000 - $120,000 a year',\n",
       " '$105,000 - $125,000 a year',\n",
       " '$105,000 - $130,000 a year',\n",
       " '$105,000 - $135,000 a year',\n",
       " '$105,000 - $140,000 a year',\n",
       " '$105,000 - $150,949 a year',\n",
       " '$105,000 - $160,000 a year',\n",
       " '$105,000 - $170,000 a year',\n",
       " '$105,000 - $180,000 a year',\n",
       " '$105,000 - $198,000 a year',\n",
       " '$105,000 a year',\n",
       " '$105,014 - $213,626 a year',\n",
       " '$105,224 - $172,500 a year',\n",
       " '$105,271 - $126,000 a year',\n",
       " '$105,300 - $179,000 a year',\n",
       " '$105,400 - $124,000 a year',\n",
       " '$105,448 - $204,578 a year',\n",
       " '$106,000 - $126,000 a year',\n",
       " '$106,041 - $127,975 a year',\n",
       " '$106,086 - $145,000 a year',\n",
       " '$106,086 - $168,601 a year',\n",
       " '$106,240 - $146,080 a year',\n",
       " '$106,500 - $177,500 a year',\n",
       " '$106,621 - $169,821 a year',\n",
       " '$107,000 - $145,000 a year',\n",
       " '$107,797 - $131,752 a year',\n",
       " '$108,000 - $112,000 a year',\n",
       " '$108,000 - $135,600 a year',\n",
       " '$108,000 - $160,000 a year',\n",
       " '$108,000 - $180,000 a year',\n",
       " '$108,211 - $175,578 a year',\n",
       " '$108,422 - $184,953 a year',\n",
       " '$109,000 - $114,000 a year',\n",
       " '$109,000 - $125,000 a year',\n",
       " '$109,000 - $126,000 a year',\n",
       " '$109,000 - $159,000 a year',\n",
       " '$109,842 - $160,000 a year',\n",
       " '$11 - $14 an hour',\n",
       " '$11 - $16 an hour',\n",
       " '$11 an hour',\n",
       " '$110 - $125 an hour',\n",
       " '$110 - $140 an hour',\n",
       " '$110 an hour',\n",
       " '$110,000 - $113,300 a year',\n",
       " '$110,000 - $115,000 a year',\n",
       " '$110,000 - $120,000 a year',\n",
       " '$110,000 - $125,000 a year',\n",
       " '$110,000 - $130,000 a year',\n",
       " '$110,000 - $135,000 a year',\n",
       " '$110,000 - $136,000 a year',\n",
       " '$110,000 - $140,000 a year',\n",
       " '$110,000 - $145,000 a year',\n",
       " '$110,000 - $150,000 a year',\n",
       " '$110,000 - $155,000 a year',\n",
       " '$110,000 - $160,000 a year',\n",
       " '$110,000 - $165,000 a year',\n",
       " '$110,000 - $170,000 a year',\n",
       " '$110,000 - $180,000 a year',\n",
       " '$110,000 a year',\n",
       " '$110,344 a year',\n",
       " '$110,500 - $170,000 a year',\n",
       " '$110,700 - $160,000 a year',\n",
       " '$110,762 - $143,043 a year',\n",
       " '$110,879 - $140,582 a year',\n",
       " '$110,900 - $134,500 a year',\n",
       " '$111,000 - $125,000 a year',\n",
       " '$111,000 - $161,000 a year',\n",
       " '$111,000 a year',\n",
       " '$111,093 a year',\n",
       " '$111,575 - $240,369 a year',\n",
       " '$112,000 - $135,000 a year',\n",
       " '$112,000 - $142,000 a year',\n",
       " '$112,000 - $152,000 a year',\n",
       " '$112,000 - $175,000 a year',\n",
       " '$113,000 - $174,000 a year',\n",
       " '$113,518 a year',\n",
       " '$113,582 - $152,219 a year',\n",
       " '$113,600 - $142,000 a year',\n",
       " '$114,000 - $129,000 a year',\n",
       " '$114,000 - $156,750 a year',\n",
       " '$114,152 - $139,519 a year',\n",
       " '$114,400 - $124,800 a year',\n",
       " '$114,841 - $167,366 a year',\n",
       " '$115 - $120 an hour',\n",
       " '$115,000 - $120,000 a year',\n",
       " '$115,000 - $125,000 a year',\n",
       " '$115,000 - $130,000 a year',\n",
       " '$115,000 - $135,000 a year',\n",
       " '$115,000 - $138,421 a year',\n",
       " '$115,000 - $140,000 a year',\n",
       " '$115,000 - $145,000 a year',\n",
       " '$115,000 - $150,000 a year',\n",
       " '$115,000 - $160,000 a year',\n",
       " '$115,000 - $165,000 a year',\n",
       " '$115,000 - $500,000 a year',\n",
       " '$115,000 a year',\n",
       " '$115,270 - $191,430 a year',\n",
       " '$115,378 a year',\n",
       " '$115,700 - $191,000 a year',\n",
       " '$116,000 - $165,000 a year',\n",
       " '$116,018 - $150,000 a year',\n",
       " '$116,691 - $182,668 a year',\n",
       " '$116,869 - $219,457 a year',\n",
       " '$116,900 a year',\n",
       " '$117 - $121 an hour',\n",
       " '$117,000 - $217,000 a year',\n",
       " '$117,000 a year',\n",
       " '$117,021 a year',\n",
       " '$117,041 - $160,931 a year',\n",
       " '$118,000 - $177,000 a year',\n",
       " '$118,228 - $139,000 a year',\n",
       " '$119,000 a year',\n",
       " '$119,400 - $127,897 a year',\n",
       " '$119,487 - $143,838 a year',\n",
       " '$12 - $14 an hour',\n",
       " '$12 - $15 an hour',\n",
       " '$12 - $17 an hour',\n",
       " '$12 - $24 an hour',\n",
       " '$12 - $25 an hour',\n",
       " '$12 an hour',\n",
       " '$12,000 - $18,000 a month',\n",
       " '$120 - $125 an hour',\n",
       " '$120 - $130 an hour',\n",
       " '$120 - $150 an hour',\n",
       " '$120 an hour',\n",
       " '$120,000 - $128,000 a year',\n",
       " '$120,000 - $130,000 a year',\n",
       " '$120,000 - $131,000 a year',\n",
       " '$120,000 - $135,000 a year',\n",
       " '$120,000 - $140,000 a year',\n",
       " '$120,000 - $145,000 a year',\n",
       " '$120,000 - $148,000 a year',\n",
       " '$120,000 - $150,000 a year',\n",
       " '$120,000 - $155,000 a year',\n",
       " '$120,000 - $160,000 a year',\n",
       " '$120,000 - $165,000 a year',\n",
       " '$120,000 - $170,000 a year',\n",
       " '$120,000 - $175,000 a year',\n",
       " '$120,000 - $177,000 a year',\n",
       " '$120,000 - $180,000 a year',\n",
       " '$120,000 - $185,000 a year',\n",
       " '$120,000 - $190,000 a year',\n",
       " '$120,000 - $200,000 a year',\n",
       " '$120,000 a year',\n",
       " '$120,700 - $160,000 a year',\n",
       " '$120,700 a year',\n",
       " '$120,960 - $181,440 a year',\n",
       " '$121,000 - $218,000 a year',\n",
       " '$121,243 - $157,614 a year',\n",
       " '$121,800 a year',\n",
       " '$121,827 a year',\n",
       " '$122,000 - $160,000 a year',\n",
       " '$122,000 - $200,000 a year',\n",
       " '$122,068 - $148,380 a year',\n",
       " '$122,151 - $184,629 a year',\n",
       " '$122,200 - $160,000 a year',\n",
       " '$122,200 a year',\n",
       " '$122,292 - $148,000 a year',\n",
       " '$122,300 a year',\n",
       " '$122,361 a year',\n",
       " '$123,000 - $143,000 a year',\n",
       " '$123,000 - $165,000 a year',\n",
       " '$123,000 - $205,000 a year',\n",
       " '$124,000 - $180,000 a year',\n",
       " '$124,160 - $145,000 a year',\n",
       " '$124,526 - $134,952 a year',\n",
       " '$124,618 - $133,544 a year',\n",
       " '$124,758 a year',\n",
       " '$124,800 - $156,000 a year',\n",
       " '$125 - $145 an hour',\n",
       " '$125 an hour',\n",
       " '$125,000 - $130,000 a year',\n",
       " '$125,000 - $135,000 a year',\n",
       " '$125,000 - $140,000 a year',\n",
       " '$125,000 - $145,000 a year',\n",
       " '$125,000 - $150,000 a year',\n",
       " '$125,000 - $155,000 a year',\n",
       " '$125,000 - $165,000 a year',\n",
       " '$125,000 - $170,000 a year',\n",
       " '$125,000 - $175,000 a year',\n",
       " '$125,000 - $177,000 a year',\n",
       " '$125,000 - $180,000 a year',\n",
       " '$125,000 - $190,000 a year',\n",
       " '$125,000 - $195,000 a year',\n",
       " '$125,000 - $200,000 a year',\n",
       " '$125,000 - $210,000 a year',\n",
       " '$125,000 - $220,000 a year',\n",
       " '$125,000 - $225,000 a year',\n",
       " '$125,000 - $250,000 a year',\n",
       " '$125,000 a year',\n",
       " '$125,001 - $150,000 a year',\n",
       " '$125,325 - $227,222 a year',\n",
       " '$125,400 - $158,800 a year',\n",
       " '$125,750 - $195,500 a year',\n",
       " '$125,953 - $200,000 a year',\n",
       " '$126,000 - $140,000 a year',\n",
       " '$127,000 - $180,995 a year',\n",
       " '$127,000 - $185,000 a year',\n",
       " '$127,452 - $160,316 a year',\n",
       " '$127,466 - $248,048 a year',\n",
       " '$129,000 - $240,000 a year',\n",
       " '$13 an hour',\n",
       " '$13,000 - $14,000 a year',\n",
       " '$13.50 - $15.00 an hour',\n",
       " '$13.84 an hour',\n",
       " '$130,000 - $140,000 a year',\n",
       " '$130,000 - $145,000 a year',\n",
       " '$130,000 - $150,000 a year',\n",
       " '$130,000 - $154,000 a year',\n",
       " '$130,000 - $160,000 a year',\n",
       " '$130,000 - $165,000 a year',\n",
       " '$130,000 - $170,000 a year',\n",
       " '$130,000 - $175,000 a year',\n",
       " '$130,000 - $180,000 a year',\n",
       " '$130,000 - $185,000 a year',\n",
       " '$130,000 - $190,000 a year',\n",
       " '$130,000 - $200,000 a year',\n",
       " '$130,000 - $210,000 a year',\n",
       " '$130,000 a year',\n",
       " '$131,000 - $151,000 a year',\n",
       " '$131,000 - $172,000 a year',\n",
       " '$132,000 - $160,000 a year',\n",
       " '$132,000 - $192,000 a year',\n",
       " '$132,174 a year',\n",
       " '$132,704 - $208,952 a year',\n",
       " '$132,796 - $212,208 a year',\n",
       " '$133,085 - $140,000 a year',\n",
       " '$133,200 a year',\n",
       " '$133,354 - $217,631 a year',\n",
       " '$134,000 - $159,000 a year',\n",
       " '$134,000 - $170,000 a year',\n",
       " '$134,000 - $203,000 a year',\n",
       " '$135 - $160 a day',\n",
       " '$135,000 - $140,000 a year',\n",
       " '$135,000 - $145,000 a year',\n",
       " '$135,000 - $150,000 a year',\n",
       " '$135,000 - $155,000 a year',\n",
       " '$135,000 - $158,909 a year',\n",
       " '$135,000 - $160,000 a year',\n",
       " '$135,000 - $162,000 a year',\n",
       " '$135,000 - $165,000 a year',\n",
       " '$135,000 - $190,000 a year',\n",
       " '$135,000 a year',\n",
       " '$135,429 a year',\n",
       " '$136,000 - $160,000 a year',\n",
       " '$136,500 - $204,700 a year',\n",
       " '$136,500 - $210,000 a year',\n",
       " '$136,595 - $160,700 a year',\n",
       " '$137,000 - $173,129 a year',\n",
       " '$137,500 - $233,700 a year',\n",
       " '$138,000 - $168,000 a year',\n",
       " '$138,000 - $190,000 a year',\n",
       " '$138,000 a year',\n",
       " '$139,300 - $176,400 a year',\n",
       " '$14 - $16 an hour',\n",
       " '$14 - $18 an hour',\n",
       " '$14 - $20 an hour',\n",
       " '$14 an hour',\n",
       " '$14.50 an hour',\n",
       " '$140,000 - $145,000 a year',\n",
       " '$140,000 - $150,000 a year',\n",
       " '$140,000 - $154,000 a year',\n",
       " '$140,000 - $155,000 a year',\n",
       " '$140,000 - $160,000 a year',\n",
       " '$140,000 - $165,000 a year',\n",
       " '$140,000 - $170,000 a year',\n",
       " '$140,000 - $175,000 a year',\n",
       " '$140,000 - $180,000 a year',\n",
       " '$140,000 - $190,000 a year',\n",
       " '$140,000 - $200,000 a year',\n",
       " '$140,000 - $204,000 a year',\n",
       " '$140,000 - $220,000 a year',\n",
       " '$140,000 - $225,000 a year',\n",
       " '$140,000 a year',\n",
       " '$140,700 a year',\n",
       " '$142,000 a year',\n",
       " '$143 - $165 an hour',\n",
       " '$143,250 - $238,750 a year',\n",
       " '$145 an hour',\n",
       " '$145,000 - $150,000 a year',\n",
       " '$145,000 - $155,000 a year',\n",
       " '$145,000 - $160,000 a year',\n",
       " '$145,000 - $165,000 a year',\n",
       " '$145,000 - $170,000 a year',\n",
       " '$145,000 - $171,250 a year',\n",
       " '$145,000 - $175,000 a year',\n",
       " '$145,000 - $178,000 a year',\n",
       " '$145,000 - $180,000 a year',\n",
       " '$145,000 - $190,000 a year',\n",
       " '$145,000 - $203,000 a year',\n",
       " '$145,000 - $205,000 a year',\n",
       " '$145,000 - $215,000 a year',\n",
       " '$145,000 a year',\n",
       " '$145,001 - $155,000 a year',\n",
       " '$147,000 - $213,000 a year',\n",
       " '$148,000 - $153,000 a year',\n",
       " '$149,000 - $175,000 a year',\n",
       " '$15 - $16 an hour',\n",
       " '$15 - $17 an hour',\n",
       " '$15 - $18 an hour',\n",
       " '$15 - $20 an hour',\n",
       " '$15 - $22 an hour',\n",
       " '$15 - $23 an hour',\n",
       " '$15 - $25 an hour',\n",
       " '$15 - $26 an hour',\n",
       " '$15 - $35 an hour',\n",
       " '$15 - $40 an hour',\n",
       " '$15 - $50 an hour',\n",
       " '$15 an hour',\n",
       " '$15,000 a month',\n",
       " '$15.00 - $23.12 an hour',\n",
       " '$150,000 - $155,000 a year',\n",
       " '$150,000 - $160,000 a year',\n",
       " '$150,000 - $165,000 a year',\n",
       " '$150,000 - $170,000 a year',\n",
       " '$150,000 - $175,000 a year',\n",
       " '$150,000 - $180,000 a year',\n",
       " '$150,000 - $185,000 a year',\n",
       " '$150,000 - $190,000 a year',\n",
       " '$150,000 - $193,645 a year',\n",
       " '$150,000 - $200,000 a year',\n",
       " '$150,000 - $210,000 a year',\n",
       " '$150,000 - $225,000 a year',\n",
       " '$150,000 - $240,000 a year',\n",
       " '$150,000 - $245,000 a year',\n",
       " '$150,000 - $250,000 a year',\n",
       " '$150,000 - $300,000 a year',\n",
       " '$150,000 a year',\n",
       " '$150,001 - $175,000 a year',\n",
       " '$150,700 a year',\n",
       " '$152,000 - $229,100 a year',\n",
       " '$153,500 a year',\n",
       " '$153,900 - $241,500 a year',\n",
       " '$153,900 a year',\n",
       " '$155,000 - $230,000 a year',\n",
       " '$155,000 a year',\n",
       " '$158,000 a year',\n",
       " '$159,000 - $231,000 a year',\n",
       " '$16 - $17 an hour',\n",
       " '$16 - $18 an hour',\n",
       " '$16 - $20 an hour',\n",
       " '$16 - $25 an hour',\n",
       " '$16 - $27 an hour',\n",
       " '$16 - $28 an hour',\n",
       " '$16 - $29 an hour',\n",
       " '$160,000 - $170,000 a year',\n",
       " '$160,000 - $175,000 a year',\n",
       " '$160,000 - $180,000 a year',\n",
       " '$160,000 - $185,000 a year',\n",
       " '$160,000 - $200,000 a year',\n",
       " '$160,000 - $210,000 a year',\n",
       " '$160,000 - $230,000 a year',\n",
       " '$160,000 a year',\n",
       " '$164,000 - $239,000 a year',\n",
       " '$165,000 - $166,000 a year',\n",
       " '$165,000 - $170,000 a year',\n",
       " '$165,000 - $175,000 a year',\n",
       " '$165,000 - $180,000 a year',\n",
       " '$165,000 - $220,000 a year',\n",
       " '$165,000 a year',\n",
       " '$17 - $20 an hour',\n",
       " '$17 - $22 an hour',\n",
       " '$17 - $25 an hour',\n",
       " '$17 - $42 an hour',\n",
       " '$17 - $45 an hour',\n",
       " '$17 - $51 an hour',\n",
       " '$17 an hour',\n",
       " '$17.50 - $30.00 an hour',\n",
       " '$17.50 an hour',\n",
       " '$17.93 an hour',\n",
       " '$170,000 - $185,000 a year',\n",
       " '$170,000 - $190,000 a year',\n",
       " '$170,000 - $200,000 a year',\n",
       " '$170,000 - $210,000 a year',\n",
       " '$170,000 a year',\n",
       " '$171,000 a year',\n",
       " '$175,000 - $185,000 a year',\n",
       " '$175,000 - $190,000 a year',\n",
       " '$175,000 - $195,000 a year',\n",
       " '$175,000 - $200,000 a year',\n",
       " '$175,000 - $210,000 a year',\n",
       " '$175,000 - $225,000 a year',\n",
       " '$175,000 - $240,000 a year',\n",
       " '$175,001 - $200,000 a year',\n",
       " '$175,500 - $227,000 a year',\n",
       " '$178,005 - $244,756 a year',\n",
       " '$18 - $20 an hour',\n",
       " '$18 - $21 an hour',\n",
       " '$18 - $22 an hour',\n",
       " '$18 - $24 an hour',\n",
       " '$18 - $25 an hour',\n",
       " '$18 - $26 an hour',\n",
       " '$18 - $27 an hour',\n",
       " '$18 - $28 an hour',\n",
       " '$18 - $30 an hour',\n",
       " '$18 - $35 an hour',\n",
       " '$180,000 - $184,000 a year',\n",
       " '$180,000 - $190,000 a year',\n",
       " '$180,000 - $200,000 a year',\n",
       " '$180,000 - $205,787 a year',\n",
       " '$180,000 - $210,000 a year',\n",
       " '$180,000 - $220,000 a year',\n",
       " '$180,000 - $250,000 a year',\n",
       " '$180,000 - $260,000 a year',\n",
       " '$180,000 - $350,000 a year',\n",
       " '$180,000 a year',\n",
       " '$180,250 a year',\n",
       " '$183,000 a year',\n",
       " '$185,000 - $195,500 a year',\n",
       " '$185,000 - $200,000 a year',\n",
       " '$187,107 a year',\n",
       " '$188,000 - $272,000 a year',\n",
       " '$19 - $25 an hour',\n",
       " '$19 - $68 an hour',\n",
       " '$19.11 an hour',\n",
       " '$19.93 - $27.32 an hour',\n",
       " '$190,000 - $197,600 a year',\n",
       " '$190,000 - $210,000 a year',\n",
       " '$190,000 - $230,000 a year',\n",
       " '$2,000 - $2,500 a month',\n",
       " '$2,000 - $2,800 a month',\n",
       " '$2,000 - $3,000 a week',\n",
       " '$2,500 - $5,000 a week',\n",
       " '$2,500 a month',\n",
       " '$2,978 - $6,127 a month',\n",
       " '$20 - $23 an hour',\n",
       " '$20 - $25 an hour',\n",
       " '$20 - $29 an hour',\n",
       " '$20 - $30 an hour',\n",
       " '$20 - $35 an hour',\n",
       " '$20 - $40 an hour',\n",
       " '$20 - $50 an hour',\n",
       " '$20 - $57 an hour',\n",
       " '$20 - $70 an hour',\n",
       " '$20 - $80 an hour',\n",
       " '$20 an hour',\n",
       " '$20,022 a month',\n",
       " '$20.12 - $21.25 an hour',\n",
       " '$200,000 - $215,000 a year',\n",
       " '$200,000 - $232,055 a year',\n",
       " '$200,000 - $240,000 a year',\n",
       " '$200,000 a year',\n",
       " '$205,000 a year',\n",
       " '$207,000 - $301,000 a year',\n",
       " '$21 - $25 an hour',\n",
       " '$21 - $26 an hour',\n",
       " '$21 - $50 an hour',\n",
       " '$21 - $60 an hour',\n",
       " '$21.63 an hour',\n",
       " '$215,000 - $250,000 a year',\n",
       " '$22 - $24 an hour',\n",
       " '$22 - $25 an hour',\n",
       " '$22 - $26 an hour',\n",
       " '$22 - $27 an hour',\n",
       " '$22 - $28 an hour',\n",
       " '$22 - $29 an hour',\n",
       " '$22 - $32 an hour',\n",
       " '$22 - $50 an hour',\n",
       " '$22,000 - $42,000 a year',\n",
       " '$22.50 an hour',\n",
       " '$22.63 an hour',\n",
       " '$220,000 a year',\n",
       " '$23 - $26 an hour',\n",
       " '$23 - $28 an hour',\n",
       " '$23 - $29 an hour',\n",
       " '$23 - $61 an hour',\n",
       " '$23 - $85 an hour',\n",
       " '$23 - $90 an hour',\n",
       " '$23.13 - $44.00 an hour',\n",
       " '$23.97 - $38.98 an hour',\n",
       " '$230,000 - $250,000 a year',\n",
       " '$236,000 - $342,000 a year',\n",
       " '$24 - $26 an hour',\n",
       " '$24 - $27 an hour',\n",
       " '$24 - $29 an hour',\n",
       " '$24 - $32 an hour',\n",
       " '$24 - $34 an hour',\n",
       " '$24 - $45 an hour',\n",
       " '$24.95 - $32.05 an hour',\n",
       " '$25 - $28 an hour',\n",
       " '$25 - $30 an hour',\n",
       " '$25 - $32 an hour',\n",
       " '$25 - $40 an hour',\n",
       " '$25 - $50 an hour',\n",
       " '$25 - $65 an hour',\n",
       " '$25 - $82 an hour',\n",
       " '$25,000 - $150,000 a year',\n",
       " '$25,000 - $27,000 a year',\n",
       " '$25,001 - $50,000 a year',\n",
       " '$25.74 - $28.42 an hour',\n",
       " '$250,000 a year',\n",
       " '$26 - $31 an hour',\n",
       " '$26 - $32 an hour',\n",
       " '$26 - $50 an hour',\n",
       " '$26 - $66 an hour',\n",
       " '$26 an hour',\n",
       " '$26.29 an hour',\n",
       " '$27 - $31 an hour',\n",
       " '$27 - $35 an hour',\n",
       " '$27 - $41 an hour',\n",
       " '$27 - $60 an hour',\n",
       " '$27 - $66 an hour',\n",
       " '$27 - $75 an hour',\n",
       " '$27 an hour',\n",
       " '$28 - $30 an hour',\n",
       " '$28 - $33 an hour',\n",
       " '$28 - $34 an hour',\n",
       " '$28 - $38 an hour',\n",
       " '$28,737 - $93,576 a year',\n",
       " '$28,761 - $93,562 a year',\n",
       " '$28,917 - $93,578 a year',\n",
       " '$28.39 - $46.66 an hour',\n",
       " '$28.92 an hour',\n",
       " '$29 - $36 an hour',\n",
       " '$29 - $61 an hour',\n",
       " '$29 - $65 an hour',\n",
       " '$29 - $69 an hour',\n",
       " '$29 - $71 an hour',\n",
       " '$29 - $77 an hour',\n",
       " '$29 an hour',\n",
       " '$29,135 - $120,000 a year',\n",
       " '$29,166 - $93,700 a year',\n",
       " '$29,194 - $93,724 a year',\n",
       " '$29,972 - $136,388 a year',\n",
       " '$29.00 - $46.90 an hour',\n",
       " '$3,000 a month',\n",
       " '$3,434 - $5,151 a month',\n",
       " '$3,827 - $9,283 a month',\n",
       " '$30 - $100 an hour',\n",
       " '$30 - $32 an hour',\n",
       " '$30 - $35 an hour',\n",
       " '$30 - $38 an hour',\n",
       " '$30 - $40 an hour',\n",
       " '$30 - $44 an hour',\n",
       " '$30 - $45 an hour',\n",
       " '$30 - $50 an hour',\n",
       " '$30 - $55 an hour',\n",
       " '$30 - $60 an hour',\n",
       " '$30 - $70 an hour',\n",
       " '$30 - $75 an hour',\n",
       " '$30 an hour',\n",
       " '$30,000 - $124,833 a year',\n",
       " '$30,000 - $35,000 a year',\n",
       " '$30,000 - $40,000 a year',\n",
       " '$30,000 - $45,000 a year',\n",
       " '$30,000 - $50,000 a year',\n",
       " '$30,000 - $60,000 a year',\n",
       " '$30,000 a year',\n",
       " '$30.58 - $51.98 an hour',\n",
       " '$30.78 an hour',\n",
       " '$31 - $65 an hour',\n",
       " '$31 - $69 an hour',\n",
       " '$31 - $90 an hour',\n",
       " '$31,415 - $70,481 a year',\n",
       " '$31.47 - $38.55 an hour',\n",
       " '$31.47 an hour',\n",
       " '$313 - $599 a day',\n",
       " '$319 - $560 a day',\n",
       " '$32 - $39 an hour',\n",
       " '$32 - $45 an hour',\n",
       " '$32 - $53 an hour',\n",
       " '$32,000 - $45,000 a year',\n",
       " '$33 - $65 an hour',\n",
       " '$33 - $68 an hour',\n",
       " '$33 - $70 an hour',\n",
       " '$33 - $80 an hour',\n",
       " '$33,000 a year',\n",
       " '$33,105 - $153,969 a year',\n",
       " '$34 - $35 an hour',\n",
       " '$34 - $60 an hour',\n",
       " '$34 - $78 an hour',\n",
       " '$34,000 - $55,000 a year',\n",
       " '$34,180 - $95,105 a year',\n",
       " '$34,693 - $72,601 a year',\n",
       " '$34.86 an hour',\n",
       " '$35 - $40 an hour',\n",
       " '$35 - $43 an hour',\n",
       " '$35 - $45 an hour',\n",
       " '$35 - $50 an hour',\n",
       " '$35 - $55 an hour',\n",
       " '$35 - $60 an hour',\n",
       " '$35 - $65 an hour',\n",
       " '$35,000 - $35,001 a year',\n",
       " '$35,000 - $45,000 a year',\n",
       " '$35,000 - $45,057 a year',\n",
       " '$35,000 - $50,000 a year',\n",
       " '$35,000 - $55,000 a year',\n",
       " '$35,000 - $65,000 a year',\n",
       " '$35,000 - $70,000 a year',\n",
       " '$35,180 - $50,241 a year',\n",
       " '$35,308 a year',\n",
       " '$35,470 - $94,581 a year',\n",
       " '$36 - $40 an hour',\n",
       " '$36 - $42 an hour',\n",
       " '$36 - $44 an hour',\n",
       " '$36 - $45 an hour',\n",
       " '$36 - $52 an hour',\n",
       " '$36 - $60 an hour',\n",
       " '$36 - $62 an hour',\n",
       " '$36 - $71 an hour',\n",
       " '$36 - $74 an hour',\n",
       " '$36 - $75 an hour',\n",
       " '$36 - $80 an hour',\n",
       " '$36,000 - $38,000 a year',\n",
       " '$36,000 - $39,000 a year',\n",
       " '$36,000 - $50,000 a year',\n",
       " '$36,361 - $84,012 a year',\n",
       " '$36,779 - $68,041 a year',\n",
       " '$36.25 - $61.61 an hour',\n",
       " '$37 - $230 an hour',\n",
       " '$37 - $39 an hour',\n",
       " '$37 - $40 an hour',\n",
       " '$37 - $45 an hour',\n",
       " '$37 - $60 an hour',\n",
       " '$37 - $65 an hour',\n",
       " '$37 - $68 an hour',\n",
       " '$37 - $80 an hour',\n",
       " '$37,000 - $40,000 a year',\n",
       " '$37,633 - $79,621 a year',\n",
       " '$38 - $47 an hour',\n",
       " '$38 - $64 an hour',\n",
       " '$38 - $84 an hour',\n",
       " '$38 - $94 an hour',\n",
       " '$38,000 - $45,000 a year',\n",
       " '$38,000 - $50,000 a year',\n",
       " '$39 - $40 an hour',\n",
       " '$39 - $66 an hour',\n",
       " '$39 - $70 an hour',\n",
       " '$39 - $74 an hour',\n",
       " '$39 - $93 an hour',\n",
       " '$39,000 - $42,500 a year',\n",
       " '$39,519 - $82,505 a year',\n",
       " '$4,000 - $5,000 a month',\n",
       " '$4,000 - $6,500 a month',\n",
       " '$4,186 a month',\n",
       " '$4,311 a month',\n",
       " '$4,417 - $6,187 a month',\n",
       " '$4,917 - $8,060 a month',\n",
       " '$40 - $100 an hour',\n",
       " '$40 - $127 an hour',\n",
       " '$40 - $42 an hour',\n",
       " '$40 - $45 an hour',\n",
       " '$40 - $46 an hour',\n",
       " '$40 - $47 an hour',\n",
       " '$40 - $48 an hour',\n",
       " '$40 - $49 an hour',\n",
       " '$40 - $50 an hour',\n",
       " '$40 - $55 an hour',\n",
       " '$40 - $60 an hour',\n",
       " '$40 - $62 an hour',\n",
       " '$40 - $65 an hour',\n",
       " '$40 - $70 an hour',\n",
       " '$40 - $74 an hour',\n",
       " '$40 - $75 an hour',\n",
       " '$40 - $82 an hour',\n",
       " '$40 - $83 an hour',\n",
       " '$40 an hour',\n",
       " '$40,000 - $45,000 a year',\n",
       " '$40,000 - $46,000 a year',\n",
       " '$40,000 - $48,000 a year',\n",
       " '$40,000 - $50,000 a year',\n",
       " '$40,000 - $55,000 a year',\n",
       " '$40,000 - $60,000 a year',\n",
       " '$40,000 - $65,000 a year',\n",
       " '$40,000 - $70,000 a year',\n",
       " '$40,000 - $80,000 a year',\n",
       " '$40,000 - $90,000 a year',\n",
       " '$40,000 - $95,000 a year',\n",
       " '$40,085 - $42,536 a year',\n",
       " '$41 - $60 an hour',\n",
       " '$41 - $80 an hour',\n",
       " '$41,000 - $43,000 a year',\n",
       " '$41,000 - $60,000 a year',\n",
       " '$41,000 a year',\n",
       " '$41,968 - $106,576 a year',\n",
       " '$42 - $46 an hour',\n",
       " '$42 - $62 an hour',\n",
       " '$42 - $84 an hour',\n",
       " '$42 - $98 an hour',\n",
       " '$42,000 - $52,000 a year',\n",
       " '$42,000 - $52,500 a year',\n",
       " '$42,256 - $95,005 a year',\n",
       " '$42,399 a year',\n",
       " '$42,667 - $85,000 a year',\n",
       " '$43 - $50 an hour',\n",
       " '$43 - $52 an hour',\n",
       " '$43 - $60 an hour',\n",
       " '$43 - $71 an hour',\n",
       " '$43 - $72 an hour',\n",
       " '$43 - $75 an hour',\n",
       " '$43 - $82 an hour',\n",
       " '$43 - $88 an hour',\n",
       " '$43,921 - $138,171 a year',\n",
       " '$44 - $50 an hour',\n",
       " '$44 - $72 an hour',\n",
       " '$44 - $76 an hour',\n",
       " '$44 - $80 an hour',\n",
       " '$44 - $82 an hour',\n",
       " '$44,000 - $50,000 a year',\n",
       " '$44,031 - $70,890 a year',\n",
       " '$44,154 - $70,211 a year',\n",
       " '$45 - $50 an hour',\n",
       " '$45 - $52 an hour',\n",
       " '$45 - $54 an hour',\n",
       " '$45 - $55 an hour',\n",
       " '$45 - $60 an hour',\n",
       " '$45 - $64 an hour',\n",
       " '$45 - $65 an hour',\n",
       " '$45 - $70 an hour',\n",
       " '$45 - $75 an hour',\n",
       " '$45 - $89 an hour',\n",
       " '$45 an hour',\n",
       " '$45,000 - $159,874 a year',\n",
       " '$45,000 - $50,000 a year',\n",
       " '$45,000 - $53,000 a year',\n",
       " '$45,000 - $55,000 a year',\n",
       " '$45,000 - $60,000 a year',\n",
       " '$45,000 - $65,000 a year',\n",
       " '$45,000 - $70,000 a year',\n",
       " '$45,000 - $75,000 a year',\n",
       " '$45,000 - $85,000 a year',\n",
       " '$45,000 a year',\n",
       " '$45,800 - $75,900 a year',\n",
       " '$46 - $55 an hour',\n",
       " '$46 - $80 an hour',\n",
       " '$46,000 - $60,000 a year',\n",
       " '$46,000 - $65,000 a year',\n",
       " '$46,329 - $69,493 a year',\n",
       " '$46.88 an hour',\n",
       " '$47 - $58 an hour',\n",
       " '$47 - $64 an hour',\n",
       " '$47 - $76 an hour',\n",
       " '$47 - $97 an hour',\n",
       " '$47,049 - $98,750 a year',\n",
       " '$47,192 - $73,133 a year',\n",
       " '$47,519 - $118,321 a year',\n",
       " '$47,599 - $93,600 a year',\n",
       " '$48 - $50 an hour',\n",
       " '$48 - $58 an hour',\n",
       " '$48 - $66 an hour',\n",
       " '$48 - $70 an hour',\n",
       " '$48 - $75 an hour',\n",
       " '$48 - $90 an hour',\n",
       " '$48,000 - $50,000 a year',\n",
       " '$48,000 - $58,000 a year',\n",
       " '$48,000 - $60,000 a year',\n",
       " '$48,000 - $62,000 a year',\n",
       " '$48,000 a year',\n",
       " '$48,595 - $87,700 a year',\n",
       " '$48,600 a year',\n",
       " '$48,774 - $60,251 a year',\n",
       " '$48,800 a year',\n",
       " '$48.07 - $57.69 an hour',\n",
       " '$49 - $56 an hour',\n",
       " '$49 - $68 an hour',\n",
       " '$49 - $80 an hour',\n",
       " '$49,005 - $98,043 a year',\n",
       " '$49,610 - $64,489 a year',\n",
       " '$49,936 - $77,123 a year',\n",
       " '$5,000 - $5,300 a month',\n",
       " '$5,000 - $6,300 a month',\n",
       " '$5,029 - $7,617 a month',\n",
       " '$5,067 a month',\n",
       " '$5,259 - $8,624 a month',\n",
       " '$5,500 - $7,500 a month',\n",
       " '$5,700 - $6,250 a month',\n",
       " '$5,725 - $7,000 a month',\n",
       " '$5,859 - $7,323 a month',\n",
       " '$50 - $100 an hour',\n",
       " '$50 - $110 an hour',\n",
       " '$50 - $120 an hour',\n",
       " '$50 - $125 an hour',\n",
       " '$50 - $150 an hour',\n",
       " '$50 - $51 an hour',\n",
       " '$50 - $52 an hour',\n",
       " '$50 - $55 an hour',\n",
       " '$50 - $57 an hour',\n",
       " '$50 - $58 an hour',\n",
       " '$50 - $60 an hour',\n",
       " '$50 - $63 an hour',\n",
       " '$50 - $64 an hour',\n",
       " '$50 - $65 an hour',\n",
       " '$50 - $70 an hour',\n",
       " '$50 - $72 an hour',\n",
       " '$50 - $75 an hour',\n",
       " '$50 - $80 an hour',\n",
       " '$50 - $83 an hour',\n",
       " '$50 - $90 an hour',\n",
       " '$50 an hour',\n",
       " '$50,000 - $100,000 a year',\n",
       " '$50,000 - $108,843 a year',\n",
       " '$50,000 - $110,000 a year',\n",
       " '$50,000 - $120,000 a year',\n",
       " '$50,000 - $125,000 a year',\n",
       " '$50,000 - $150,000 a year',\n",
       " '$50,000 - $180,000 a year',\n",
       " '$50,000 - $300,000 a year',\n",
       " '$50,000 - $54,000 a year',\n",
       " '$50,000 - $55,000 a year',\n",
       " '$50,000 - $60,000 a year',\n",
       " '$50,000 - $65,000 a year',\n",
       " '$50,000 - $70,000 a year',\n",
       " '$50,000 - $72,000 a year',\n",
       " '$50,000 - $75,000 a year',\n",
       " '$50,000 - $80,000 a year',\n",
       " '$50,000 - $85,000 a year',\n",
       " '$50,000 - $90,000 a year',\n",
       " '$50,000 - $95,000 a year',\n",
       " '$50,000 a year',\n",
       " '$50,390 - $102,598 a year',\n",
       " '$50,400 - $63,000 a year',\n",
       " '$50,500 - $65,000 a year',\n",
       " '$50,602 - $83,228 a year',\n",
       " '$50,833 a year',\n",
       " '$51 - $63 an hour',\n",
       " '$51,000 - $78,000 a year',\n",
       " '$52 - $54 an hour',\n",
       " '$52 - $55 an hour',\n",
       " '$52 - $60 an hour',\n",
       " '$52 - $62 an hour',\n",
       " '$52 - $63 an hour',\n",
       " '$52 - $71 an hour',\n",
       " '$52 - $83 an hour',\n",
       " '$52 an hour',\n",
       " '$52,000 - $110,000 a year',\n",
       " '$52,000 - $57,000 a year',\n",
       " '$52,000 - $65,000 a year',\n",
       " '$52,000 a year',\n",
       " '$52,200 - $62,400 a year',\n",
       " '$52,200 - $94,800 a year',\n",
       " '$52,279 - $108,247 a year',\n",
       " '$52,701 - $73,205 a year',\n",
       " '$52.50 an hour',\n",
       " '$53 - $75 an hour',\n",
       " '$53 - $80 an hour',\n",
       " '$53,000 - $59,000 a year',\n",
       " '$53,000 - $80,000 a year',\n",
       " '$53,000 a year',\n",
       " '$53,268 - $87,732 a year',\n",
       " '$53,433 - $119,787 a year',\n",
       " '$53.00 - $66.25 an hour',\n",
       " '$53.57 an hour',\n",
       " '$53.75 an hour',\n",
       " '$54 - $56 an hour',\n",
       " '$54 - $60 an hour',\n",
       " '$54 - $66 an hour',\n",
       " '$54 - $67 an hour',\n",
       " '$54 - $70 an hour',\n",
       " '$54 - $80 an hour',\n",
       " '$54 an hour',\n",
       " '$54,000 - $58,000 a year',\n",
       " '$54,000 - $68,000 a year',\n",
       " '$54,000 - $75,000 a year',\n",
       " '$54,000 - $84,000 a year',\n",
       " '$54,300 - $75,900 a year',\n",
       " '$54,413 - $89,752 a year',\n",
       " '$54,600 - $84,000 a year',\n",
       " '$55 - $57 an hour',\n",
       " '$55 - $58 an hour',\n",
       " '$55 - $60 an hour',\n",
       " '$55 - $62 an hour',\n",
       " '$55 - $64 an hour',\n",
       " '$55 - $65 an hour',\n",
       " '$55 - $70 an hour',\n",
       " '$55 - $75 an hour',\n",
       " '$55 - $87 an hour',\n",
       " '$55 an hour',\n",
       " '$55,000 - $100,000 a year',\n",
       " '$55,000 - $60,000 a year',\n",
       " '$55,000 - $65,000 a year',\n",
       " '$55,000 - $75,000 a year',\n",
       " '$55,000 - $80,000 a year',\n",
       " '$55,000 - $85,000 a year',\n",
       " '$55,000 - $95,000 a year',\n",
       " '$55,000 a year',\n",
       " '$55,659 a year',\n",
       " '$55,677 - $173,963 a year',\n",
       " '$55,778 - $78,967 a year',\n",
       " '$55,900 - $97,118 a year',\n",
       " '$55.10 an hour',\n",
       " '$56 - $58 an hour',\n",
       " '$56 - $65 an hour',\n",
       " '$56 an hour',\n",
       " '$56,000 - $70,000 a year',\n",
       " '$56,000 - $72,000 a year',\n",
       " '$56,000 - $91,000 a year',\n",
       " '$56,209 - $80,304 a year',\n",
       " '$56,243 - $82,534 a year',\n",
       " '$56,265 - $109,445 a year',\n",
       " '$56,379 - $176,404 a year',\n",
       " '$56,439 - $108,286 a year',\n",
       " '$56,931 - $157,014 a year',\n",
       " '$57 - $70 an hour',\n",
       " '$57 - $80 an hour',\n",
       " '$57,000 - $150,000 a year',\n",
       " '$57,000 - $60,000 a year',\n",
       " '$57,000 - $90,000 a year',\n",
       " '$57,187 - $120,720 a year',\n",
       " '$57,397 - $130,895 a year',\n",
       " '$57,492 - $75,000 a year',\n",
       " '$57,582 - $119,750 a year',\n",
       " '$57,643 - $112,149 a year',\n",
       " '$57,658 - $146,396 a year',\n",
       " '$57,776 - $112,498 a year',\n",
       " '$58 - $59 an hour',\n",
       " '$58 - $60 an hour',\n",
       " '$58 - $95 an hour',\n",
       " '$58 an hour',\n",
       " '$58,000 - $63,000 a year',\n",
       " '$58,000 - $64,000 a year',\n",
       " '$58.75 an hour',\n",
       " '$59 - $60 an hour',\n",
       " '$59 - $85 an hour',\n",
       " '$59 - $90 an hour',\n",
       " '$59 - $91 an hour',\n",
       " '$59 an hour',\n",
       " '$59,244 - $156,612 a year',\n",
       " '$59,542 - $116,370 a year',\n",
       " '$59,987 a year',\n",
       " '$6,000 - $8,000 a month',\n",
       " '$6,250 - $8,000 a month',\n",
       " '$6,692 - $10,204 a month',\n",
       " '$60 - $100 an hour',\n",
       " '$60 - $110 an hour',\n",
       " '$60 - $120 an hour',\n",
       " '$60 - $61 an hour',\n",
       " '$60 - $62 an hour',\n",
       " '$60 - $64 an hour',\n",
       " ...]"
      ]
     },
     "execution_count": 115,
     "metadata": {},
     "output_type": "execute_result"
    }
   ],
   "source": [
    "salaries = [salary for salary in cleaned_jobs_df['salary'].unique()]\n",
    "sorted(salaries)"
   ]
  },
  {
   "cell_type": "code",
   "execution_count": 116,
   "id": "272955c7-1c88-4e9c-8882-6a32c26d30e2",
   "metadata": {},
   "outputs": [
    {
     "data": {
      "text/html": [
       "<div>\n",
       "<style scoped>\n",
       "    .dataframe tbody tr th:only-of-type {\n",
       "        vertical-align: middle;\n",
       "    }\n",
       "\n",
       "    .dataframe tbody tr th {\n",
       "        vertical-align: top;\n",
       "    }\n",
       "\n",
       "    .dataframe thead th {\n",
       "        text-align: right;\n",
       "    }\n",
       "</style>\n",
       "<table border=\"1\" class=\"dataframe\">\n",
       "  <thead>\n",
       "    <tr style=\"text-align: right;\">\n",
       "      <th></th>\n",
       "      <th>salary</th>\n",
       "      <th>title</th>\n",
       "      <th>frequency</th>\n",
       "    </tr>\n",
       "  </thead>\n",
       "  <tbody>\n",
       "    <tr>\n",
       "      <th>3</th>\n",
       "      <td>$1,000 - $6,000 a month</td>\n",
       "      <td>Sales Lead for Top-Rated Web Development Team ...</td>\n",
       "      <td>140</td>\n",
       "    </tr>\n",
       "    <tr>\n",
       "      <th>2</th>\n",
       "      <td>$1,000 - $6,000 a month</td>\n",
       "      <td>Sales Lead Generation for Web Development Busi...</td>\n",
       "      <td>91</td>\n",
       "    </tr>\n",
       "    <tr>\n",
       "      <th>684</th>\n",
       "      <td>$120,000 - $170,000 a year</td>\n",
       "      <td>Sr. Software Engineer</td>\n",
       "      <td>89</td>\n",
       "    </tr>\n",
       "    <tr>\n",
       "      <th>946</th>\n",
       "      <td>$134,000 - $203,000 a year</td>\n",
       "      <td>Senior Software Engineer</td>\n",
       "      <td>74</td>\n",
       "    </tr>\n",
       "    <tr>\n",
       "      <th>680</th>\n",
       "      <td>$120,000 - $170,000 a year</td>\n",
       "      <td>Senior Software Engineer</td>\n",
       "      <td>70</td>\n",
       "    </tr>\n",
       "    <tr>\n",
       "      <th>775</th>\n",
       "      <td>$125,000 - $150,000 a year</td>\n",
       "      <td>Senior Software Engineer</td>\n",
       "      <td>69</td>\n",
       "    </tr>\n",
       "    <tr>\n",
       "      <th>4043</th>\n",
       "      <td>From $30 an hour</td>\n",
       "      <td>Entry Level Java Developer</td>\n",
       "      <td>65</td>\n",
       "    </tr>\n",
       "    <tr>\n",
       "      <th>780</th>\n",
       "      <td>$125,000 - $150,000 a year</td>\n",
       "      <td>Sr. Software Engineer - Java Spring Boot</td>\n",
       "      <td>64</td>\n",
       "    </tr>\n",
       "    <tr>\n",
       "      <th>3680</th>\n",
       "      <td>$90,000 - $130,000 a year</td>\n",
       "      <td>Lead Software/Java Engineer</td>\n",
       "      <td>63</td>\n",
       "    </tr>\n",
       "    <tr>\n",
       "      <th>375</th>\n",
       "      <td>$109,000 - $159,000 a year</td>\n",
       "      <td>Software Engineer</td>\n",
       "      <td>62</td>\n",
       "    </tr>\n",
       "  </tbody>\n",
       "</table>\n",
       "</div>"
      ],
      "text/plain": [
       "                          salary  \\\n",
       "3        $1,000 - $6,000 a month   \n",
       "2        $1,000 - $6,000 a month   \n",
       "684   $120,000 - $170,000 a year   \n",
       "946   $134,000 - $203,000 a year   \n",
       "680   $120,000 - $170,000 a year   \n",
       "775   $125,000 - $150,000 a year   \n",
       "4043            From $30 an hour   \n",
       "780   $125,000 - $150,000 a year   \n",
       "3680   $90,000 - $130,000 a year   \n",
       "375   $109,000 - $159,000 a year   \n",
       "\n",
       "                                                  title  frequency  \n",
       "3     Sales Lead for Top-Rated Web Development Team ...        140  \n",
       "2     Sales Lead Generation for Web Development Busi...         91  \n",
       "684                               Sr. Software Engineer         89  \n",
       "946                            Senior Software Engineer         74  \n",
       "680                            Senior Software Engineer         70  \n",
       "775                            Senior Software Engineer         69  \n",
       "4043                         Entry Level Java Developer         65  \n",
       "780            Sr. Software Engineer - Java Spring Boot         64  \n",
       "3680                        Lead Software/Java Engineer         63  \n",
       "375                                   Software Engineer         62  "
      ]
     },
     "execution_count": 116,
     "metadata": {},
     "output_type": "execute_result"
    }
   ],
   "source": [
    "salaries_by_role = cleaned_jobs_df.groupby(['salary', 'title']).size().reset_index(name='frequency')\n",
    "salaries_by_role\n",
    "\n",
    "salaries_by_role_sorted = salaries_by_role.sort_values(by='frequency', ascending=False)\n",
    "salaries_by_role_sorted.head(10)"
   ]
  },
  {
   "cell_type": "code",
   "execution_count": 152,
   "id": "fcd1aa45-bd77-4da3-aa35-228d7c2f7a86",
   "metadata": {},
   "outputs": [
    {
     "data": {
      "image/png": "[encoded data removed]",
      "text/plain": [
       "<Figure size 1200x800 with 1 Axes>"
      ]
     },
     "metadata": {},
     "output_type": "display_data"
    }
   ],
   "source": [
    "# Plot the top 10 salary ranges by frequency\n",
    "top_10_salaries_by_role = salaries_by_role_sorted.head(5)\n",
    "\n",
    "plt.figure(figsize=(12, 8))\n",
    "plt.barh(top_10_salaries_by_role['salary'] + ' (' + top_10_salaries_by_role['title'] + ')', \n",
    "         top_10_salaries_by_role['frequency'], color='skyblue')\n",
    "plt.xlabel('Frequency')\n",
    "plt.ylabel('Salary Range and Title')\n",
    "plt.title('Top 5 Salary Ranges by job title')\n",
    "plt.gca().invert_yaxis()  # Highest frequencies on top\n",
    "plt.show()"
   ]
  },
  {
   "cell_type": "markdown",
   "id": "2ea5dc21-dcb7-42af-bba4-29b44f2c145d",
   "metadata": {},
   "source": [
    "## Salary by location"
   ]
  },
  {
   "cell_type": "code",
   "execution_count": 119,
   "id": "3377458d-fb4d-4f65-972a-76e4d70fde0e",
   "metadata": {},
   "outputs": [
    {
     "data": {
      "text/html": [
       "<div>\n",
       "<style scoped>\n",
       "    .dataframe tbody tr th:only-of-type {\n",
       "        vertical-align: middle;\n",
       "    }\n",
       "\n",
       "    .dataframe tbody tr th {\n",
       "        vertical-align: top;\n",
       "    }\n",
       "\n",
       "    .dataframe thead th {\n",
       "        text-align: right;\n",
       "    }\n",
       "</style>\n",
       "<table border=\"1\" class=\"dataframe\">\n",
       "  <thead>\n",
       "    <tr style=\"text-align: right;\">\n",
       "      <th></th>\n",
       "      <th>salary</th>\n",
       "      <th>location</th>\n",
       "      <th>frequency</th>\n",
       "    </tr>\n",
       "  </thead>\n",
       "  <tbody>\n",
       "    <tr>\n",
       "      <th>453</th>\n",
       "      <td>$109,000 - $159,000 a year</td>\n",
       "      <td>Austin, TX</td>\n",
       "      <td>232</td>\n",
       "    </tr>\n",
       "    <tr>\n",
       "      <th>951</th>\n",
       "      <td>$132,000 - $192,000 a year</td>\n",
       "      <td>Remote</td>\n",
       "      <td>171</td>\n",
       "    </tr>\n",
       "    <tr>\n",
       "      <th>950</th>\n",
       "      <td>$132,000 - $192,000 a year</td>\n",
       "      <td>Austin, TX</td>\n",
       "      <td>163</td>\n",
       "    </tr>\n",
       "    <tr>\n",
       "      <th>953</th>\n",
       "      <td>$132,000 - $192,000 a year</td>\n",
       "      <td>Seattle, WA</td>\n",
       "      <td>160</td>\n",
       "    </tr>\n",
       "    <tr>\n",
       "      <th>525</th>\n",
       "      <td>$110,000 - $150,000 a year</td>\n",
       "      <td>Remote</td>\n",
       "      <td>93</td>\n",
       "    </tr>\n",
       "    <tr>\n",
       "      <th>3555</th>\n",
       "      <td>$90,000 - $120,000 a year</td>\n",
       "      <td>Remote</td>\n",
       "      <td>93</td>\n",
       "    </tr>\n",
       "    <tr>\n",
       "      <th>455</th>\n",
       "      <td>$109,000 - $159,000 a year</td>\n",
       "      <td>Remote</td>\n",
       "      <td>82</td>\n",
       "    </tr>\n",
       "    <tr>\n",
       "      <th>690</th>\n",
       "      <td>$120,000 - $150,000 a year</td>\n",
       "      <td>Remote</td>\n",
       "      <td>82</td>\n",
       "    </tr>\n",
       "    <tr>\n",
       "      <th>3679</th>\n",
       "      <td>$94,901 - $192,951 a year</td>\n",
       "      <td>Mountain View, CA</td>\n",
       "      <td>64</td>\n",
       "    </tr>\n",
       "    <tr>\n",
       "      <th>709</th>\n",
       "      <td>$120,000 - $160,000 a year</td>\n",
       "      <td>Remote</td>\n",
       "      <td>57</td>\n",
       "    </tr>\n",
       "  </tbody>\n",
       "</table>\n",
       "</div>"
      ],
      "text/plain": [
       "                          salary           location  frequency\n",
       "453   $109,000 - $159,000 a year         Austin, TX        232\n",
       "951   $132,000 - $192,000 a year             Remote        171\n",
       "950   $132,000 - $192,000 a year         Austin, TX        163\n",
       "953   $132,000 - $192,000 a year        Seattle, WA        160\n",
       "525   $110,000 - $150,000 a year             Remote         93\n",
       "3555   $90,000 - $120,000 a year             Remote         93\n",
       "455   $109,000 - $159,000 a year             Remote         82\n",
       "690   $120,000 - $150,000 a year             Remote         82\n",
       "3679   $94,901 - $192,951 a year  Mountain View, CA         64\n",
       "709   $120,000 - $160,000 a year             Remote         57"
      ]
     },
     "execution_count": 119,
     "metadata": {},
     "output_type": "execute_result"
    }
   ],
   "source": [
    "salaries_by_location = cleaned_jobs_df.groupby(['salary', 'location']).size().reset_index(name='frequency')\n",
    "salaries_by_location\n",
    "\n",
    "salaries_by_location_sorted = salaries_by_location.sort_values(by='frequency', ascending=False)\n",
    "salaries_by_location_sorted.head(10)"
   ]
  },
  {
   "cell_type": "code",
   "execution_count": 153,
   "id": "53342e84-b021-4502-aad1-ec2b8ee96d4e",
   "metadata": {
    "scrolled": true
   },
   "outputs": [
    {
     "data": {
      "image/png": "[encoded data removed]",
      "text/plain": [
       "<Figure size 640x480 with 1 Axes>"
      ]
     },
     "metadata": {},
     "output_type": "display_data"
    }
   ],
   "source": [
    "# Plot the top 10 salary ranges by frequency\n",
    "top_10_salaries_by_location = salaries_by_location_sorted.head(5)\n",
    "\n",
    "plt.barh(top_10_salaries_by_location['salary'] + ' (' + top_10_salaries_by_location['location'] + ')', \n",
    "         top_10_salaries_by_location['frequency'], color='skyblue')\n",
    "plt.xlabel('Frequency')\n",
    "plt.ylabel('Salary Range and Title')\n",
    "plt.title('Top 5 Salary Ranges by location')\n",
    "plt.gca().invert_yaxis()  # Highest frequencies on top\n",
    "plt.show()"
   ]
  },
  {
   "cell_type": "markdown",
   "id": "35978510-5c64-4090-99fa-72285f4750e3",
   "metadata": {},
   "source": [
    "### Which companies are posting the most roles?"
   ]
  },
  {
   "cell_type": "code",
   "execution_count": 121,
   "id": "246620d3-736b-4558-9fb0-2e6e00191d29",
   "metadata": {},
   "outputs": [
    {
     "data": {
      "text/plain": [
       "['#StayHere - Experience Hosts',\n",
       " '#twiceasnice Recruiting',\n",
       " '17 Miles',\n",
       " '20/20 Search',\n",
       " '2020 Tech IQ',\n",
       " '22MILES INC',\n",
       " '360 Technology',\n",
       " '360Works',\n",
       " '3DEO',\n",
       " '3S Network, Inc.',\n",
       " '3form',\n",
       " '3insys',\n",
       " '71 lbs',\n",
       " '7SIGMA SYSTEMS, INC.',\n",
       " '9th networks Inc',\n",
       " 'A financial services company providing clearing and settlement services',\n",
       " 'A&A Search Staffing LLC',\n",
       " 'A. Newton Solutions',\n",
       " 'A.E USA',\n",
       " 'A2Z Sync',\n",
       " 'A4SAFE, Inc.',\n",
       " 'AAF Flanders',\n",
       " 'AANSEACORE INC.',\n",
       " 'ABACUS AUTOMATION INC',\n",
       " 'ABC Plumbing, Sewer, Heating, Cooling and Electric',\n",
       " 'ACES Corp',\n",
       " 'ACI Federal™',\n",
       " 'ACL Digital',\n",
       " 'ACRE',\n",
       " 'ACS',\n",
       " 'ACtalent',\n",
       " 'ADAPT Technology LLC.',\n",
       " 'ADG Tech Consulting',\n",
       " 'ADI Data International Inc',\n",
       " 'ADIFICE TECHNOLOGIES',\n",
       " 'ADMI',\n",
       " 'ADVFN',\n",
       " 'AG Financial Solutions',\n",
       " 'AGEX, Inc.',\n",
       " 'AGM Tech Solutions',\n",
       " 'AGM Tech Solutions, INC.',\n",
       " 'AHRC NASSAU',\n",
       " 'AID:Tech',\n",
       " 'AIDEA',\n",
       " 'AIDS Healthcare Foundation',\n",
       " 'AIM Technical Group, LLC',\n",
       " 'AIP Logistics',\n",
       " 'AITHERAS, LLC',\n",
       " 'AJ Technology Company',\n",
       " 'AJACE Inc',\n",
       " 'AK Enterprises',\n",
       " 'ALIS Software',\n",
       " 'AMAC, Inc.',\n",
       " 'AMADA WELD TECH INC.',\n",
       " 'AMCHES, INC',\n",
       " 'AMP Robotics',\n",
       " 'AMWARE FULFILLMENT SERV',\n",
       " 'ANB Sourcing LLC',\n",
       " 'ANDREWS CENTER',\n",
       " 'ANMsoft Technology Pvt Ltd',\n",
       " 'ANTUSH Solutions LLC',\n",
       " 'APLOMB Technologies',\n",
       " 'APLOMB Technologies Inc.',\n",
       " 'APPIC Solutions LLC',\n",
       " 'AR Val Services',\n",
       " 'ARI',\n",
       " 'ARIS Technology',\n",
       " 'ARM Group',\n",
       " 'ARTIZ',\n",
       " 'ASAP Solutions Group, LLC',\n",
       " 'AT&T',\n",
       " 'ATEC, LLC',\n",
       " 'ATI',\n",
       " 'ATTOM Data Solutions',\n",
       " 'Abacus Business Computer',\n",
       " 'Abiosciences Inc.',\n",
       " 'AbleTo, Inc.',\n",
       " 'AboutTime Technologies',\n",
       " 'Absolute Machine Tools, Inc.',\n",
       " 'Academic Impressions',\n",
       " 'Academy Mortgage',\n",
       " 'Academy of Art University',\n",
       " 'Accede llc',\n",
       " 'Accord Technologies Inc',\n",
       " 'Accord Technologies Inc.',\n",
       " 'Accrisoft Corporation',\n",
       " 'Aces Intl Inc.',\n",
       " 'Achieve Intelligent Technologies',\n",
       " 'Active/Balanced Healthcare Receivables',\n",
       " 'Active911',\n",
       " 'ActiveLogic Labs',\n",
       " 'ActivePure Technologies, LLC.',\n",
       " 'AdVon Commerce',\n",
       " 'Adalo',\n",
       " 'Adaptive Computing Enterprises, Inc.',\n",
       " 'Adashi Systems',\n",
       " 'Adept Consultants',\n",
       " 'Adifice Technologies',\n",
       " 'Adlistics (OnCampus Advertising)',\n",
       " 'Admediary',\n",
       " 'Adora',\n",
       " 'Adult Empire and TLA',\n",
       " 'Advance Your Reach',\n",
       " 'Advanced Automation Consulting',\n",
       " 'Advanced Circuits',\n",
       " 'Advanced Hires',\n",
       " 'Advanced Tech Placement',\n",
       " 'Advanced Technologies Central, LLC',\n",
       " 'Advanced Technologies Integration, Inc.',\n",
       " 'Advantage Design Group',\n",
       " 'Advent Analytics Inc.',\n",
       " 'AdvicePay',\n",
       " 'Advithri Technologies',\n",
       " 'Advithri Technologies Inc',\n",
       " 'Aeon Nexus Corporation',\n",
       " 'AeroPay',\n",
       " 'Aetheros',\n",
       " 'Affirm',\n",
       " 'Agama Solutions',\n",
       " 'Agate Software, Inc.',\n",
       " 'Agile N2N Inc',\n",
       " 'AgileMD',\n",
       " 'Aguilass llc',\n",
       " 'Airacer',\n",
       " 'Airacer Inc',\n",
       " 'Aiva Health',\n",
       " 'Akido Labs, Inc.',\n",
       " 'Akraya Inc.',\n",
       " 'Al-Furqaan Foundation',\n",
       " 'Alachua County Board of County Commissioners',\n",
       " 'Alachua County, FL',\n",
       " 'Alameda County Behavioral Health',\n",
       " 'Alamon Inc.',\n",
       " 'Alicat Scientific',\n",
       " 'Alipes, Inc',\n",
       " 'Alitek',\n",
       " 'Alium Search',\n",
       " 'Alkira, Inc.',\n",
       " 'All Pro Preparation, Inc.',\n",
       " 'AllSTEM Connections',\n",
       " 'Allegion',\n",
       " 'Alliance Benefit Group-Rocky Mountain',\n",
       " 'Alliance Pharma',\n",
       " 'Allied Universal',\n",
       " 'Allnessjobs',\n",
       " 'Allogy',\n",
       " 'Allstate',\n",
       " 'Allura Global Media',\n",
       " 'Almabase',\n",
       " 'Alpha II',\n",
       " 'Alpha.io',\n",
       " 'AlphaPoint',\n",
       " 'Alsaady Holding',\n",
       " 'Also Energy Inc',\n",
       " 'Altafin',\n",
       " 'Alten Calsoft Labs',\n",
       " 'Alterra Mountain Company (HQ)',\n",
       " 'Altia',\n",
       " 'Altriva Solutions',\n",
       " 'Always Software Systems, LLC',\n",
       " 'AlwaysAI',\n",
       " 'Amain.com, Inc.',\n",
       " 'Amalgamated Financial Group',\n",
       " 'Amazon',\n",
       " 'Amazon Data Services, Inc.',\n",
       " 'Amazon Web Services, Inc.',\n",
       " 'Amazon.com Services LLC',\n",
       " 'Amentum',\n",
       " 'Amer Technology In',\n",
       " 'Amer Technology, Inc',\n",
       " 'AmericaHealth',\n",
       " 'American Barcode & RFID',\n",
       " 'American Family Insurance',\n",
       " 'American Nexus Trading Inc',\n",
       " 'American Technical Services, Inc.',\n",
       " 'American Unit',\n",
       " 'Amgenium LLC',\n",
       " 'Amiga Informatics',\n",
       " 'Amiga Informatics Pvt. Ltd',\n",
       " 'Ampcus Tech Pvt Ltd',\n",
       " 'Ampnext',\n",
       " 'Amusement Connect LLC',\n",
       " 'Analogiks',\n",
       " 'Analytical Flavor Systems, Inc',\n",
       " 'Anchor Glass Container Corporation',\n",
       " 'Andersen Lab',\n",
       " 'Anett Group',\n",
       " 'Anka',\n",
       " 'Ann Enterprises, Inc. (dba AnnSolutions.com)',\n",
       " 'Anonos',\n",
       " 'Ant Group',\n",
       " 'Antra, Inc',\n",
       " 'Any Lab Test Now - Corporate',\n",
       " 'Apar Technologies',\n",
       " 'Apex Consulting Services',\n",
       " 'Apexon',\n",
       " 'Apkudo, Inc.',\n",
       " 'Apogee Engineering',\n",
       " 'Apollo 350',\n",
       " 'Append Media, LLC',\n",
       " 'Appian Infotech Inc',\n",
       " 'Appinfinity Solution',\n",
       " 'AppleOne',\n",
       " 'ApplicantPro',\n",
       " 'Applied Business Software',\n",
       " 'Applied Research Laboratories',\n",
       " 'Applus DatapointLabs and Matereality',\n",
       " 'ApproveShield, LLC',\n",
       " 'Approved Mortgage',\n",
       " 'Apptrics LLC',\n",
       " 'Apricity Code',\n",
       " 'Apruve',\n",
       " 'Apto Payments',\n",
       " 'Aptonet Inc',\n",
       " 'Aptys Solutions',\n",
       " 'Aquifer',\n",
       " 'Arayna Tech',\n",
       " 'ArcLight Wireless, Inc.',\n",
       " 'ArcSine Engineering',\n",
       " 'Archents Inc',\n",
       " 'Archetype SC, Inc',\n",
       " 'Ardagh Group',\n",
       " 'Ardor Global',\n",
       " 'Ardor Global Solutions',\n",
       " 'Arecibo Observatory',\n",
       " 'Arizona Control Specialists, Inc.',\n",
       " 'Arkos Health',\n",
       " 'Armament Research Company',\n",
       " 'Armstrong Transport Group, LLC',\n",
       " 'Arnold Gauge Company, Inc',\n",
       " 'Around',\n",
       " 'Array',\n",
       " 'Artel',\n",
       " 'Arthur Grand Technologies Inc',\n",
       " 'Artyst.ai',\n",
       " 'Ascent HR Solutions',\n",
       " 'Ascent Software Group',\n",
       " 'Ashore App, LLC',\n",
       " 'Asoft consulting',\n",
       " 'Aspect Automation',\n",
       " 'Aspic Group',\n",
       " 'Aspire General Insurance Services',\n",
       " 'Aspire Systems',\n",
       " 'AssemblyAI',\n",
       " 'Asset Health',\n",
       " 'Assigncorp',\n",
       " 'AssistRx',\n",
       " 'Associated Business Management',\n",
       " 'Astreya Partners',\n",
       " 'AtWork',\n",
       " 'Atalent Services, LLC',\n",
       " 'Ateeca Inc',\n",
       " 'Atek Solution Inc',\n",
       " 'Athenium Analytics',\n",
       " 'Atlantisitgroup',\n",
       " 'Atlas Consultants Group, Inc.',\n",
       " 'Atomic Data',\n",
       " 'Atruz Solutions',\n",
       " 'Attain',\n",
       " 'Attain LLC',\n",
       " 'Attratusit',\n",
       " 'Attunely',\n",
       " 'Auburn Community Hospital',\n",
       " 'Audere',\n",
       " 'Audio Pariah Entertainment',\n",
       " 'Aurora Insight',\n",
       " 'Auto Europe',\n",
       " 'Auto-Chlor System',\n",
       " 'Autobooks',\n",
       " 'Automaxx of the Carolinas',\n",
       " 'Avidity Solutions',\n",
       " 'Avion Technology, Inc',\n",
       " 'Avionté Staffing Software',\n",
       " 'Avior Data',\n",
       " 'Axero Holdings LLC',\n",
       " 'Axis Technology, LLC',\n",
       " 'Aylstock, Witkin, Kreis and Overholtz Law Firm',\n",
       " 'Aymira Healthcare Technologies -OnTarget',\n",
       " 'Azusa Pacific University',\n",
       " 'B2b Solution 24',\n",
       " 'B9Creations, LLC',\n",
       " 'BAE Systems',\n",
       " 'BALDWIN WALLACE UNIVERSITY',\n",
       " 'BB Imaging & Consulting',\n",
       " 'BCDB Inc',\n",
       " 'BCS Automotive Interface Solutions',\n",
       " 'BELSHAW ADAMATIC BAKERY GROUP',\n",
       " 'BI Incorporated (A GEO Company)',\n",
       " 'BIA (Business Intelligence Association, Inc.)',\n",
       " 'BIOHORIZONS IMPLANT SYSTEMS',\n",
       " 'BIZCOR',\n",
       " 'BM Innovations',\n",
       " 'BMC Software',\n",
       " 'BNL Consulting',\n",
       " 'BOTG LLC',\n",
       " 'BOTG Solutions Pvt. Ltd',\n",
       " 'BP3',\n",
       " 'BTI360',\n",
       " 'BVM Technology Associates Inc',\n",
       " 'Babel Street',\n",
       " 'Ball Corporation',\n",
       " 'Baltu Technologies',\n",
       " 'Bamboo Consulting',\n",
       " 'Bank of America',\n",
       " 'Banter',\n",
       " 'Bartlett Interactive',\n",
       " 'Bausch Advanced Technoloiges Inc.',\n",
       " 'Bay Bridge Administrators, LLC',\n",
       " 'Baylor Genetics',\n",
       " 'Beacon Technologies, Inc.',\n",
       " 'BeaconFire Solution',\n",
       " 'Beamlink',\n",
       " 'Becker & Poliakoff',\n",
       " 'Bectran',\n",
       " 'Beechwoods Software',\n",
       " 'Beedata',\n",
       " 'Bellco Credit Union',\n",
       " 'Belvedere Trading',\n",
       " 'Benefit Harbor',\n",
       " \"Beola Le'Shaun Consulting\",\n",
       " 'Berkshire Grey',\n",
       " 'Best-Hire',\n",
       " 'Beta Breakers',\n",
       " 'BetterUp',\n",
       " 'Big Daddy Unlimited Inc',\n",
       " 'Big Fat Designs LLC',\n",
       " 'Big Fish App Development Studio',\n",
       " 'Big Red Jelly',\n",
       " 'Big Squid AI',\n",
       " 'BigBear.ai',\n",
       " 'BigData Tek',\n",
       " 'BigFix - HCL Software Ltd.',\n",
       " 'BigR.io',\n",
       " 'Biog Solutions',\n",
       " 'Bioinfo Systems LLC',\n",
       " 'Bionaut Labs',\n",
       " 'Biproxi',\n",
       " 'Biswas Information Technology Solutions, Inc.',\n",
       " 'Bitflow Innovative Group',\n",
       " 'Bitly',\n",
       " 'Bizquad Technologies',\n",
       " 'Black Knight',\n",
       " 'Blackhawk Network',\n",
       " 'Blast Motion',\n",
       " 'Blink Voice',\n",
       " 'Blockchain',\n",
       " 'Bloom Medicinals',\n",
       " 'Blue Canyon Technologies',\n",
       " 'Blue Ink Tech',\n",
       " 'Blue Ocean Technologies, LLC',\n",
       " 'Blue Squad',\n",
       " 'BlueInGreen Digital',\n",
       " 'BlueScope Buildings North America',\n",
       " 'Bluefox Technologies',\n",
       " 'Bluestaq,',\n",
       " 'Bluestream Health',\n",
       " 'Bluewave Security',\n",
       " 'Boku, Inc.',\n",
       " 'BombBomb',\n",
       " 'Bombilla',\n",
       " 'Bomnin Chevrolet',\n",
       " 'BonaDent Dental Laboratories',\n",
       " 'Boom Sports',\n",
       " 'Boombah Inc.',\n",
       " 'Border International',\n",
       " 'Border Tire-CA',\n",
       " 'Boston College',\n",
       " 'Boston IT Services Inc',\n",
       " 'Boulder Engineering Studio-',\n",
       " 'Boys & Girls Clubs of Kentuckiana',\n",
       " 'Brac Consulting Group',\n",
       " 'BrainTrust',\n",
       " 'Braintrust',\n",
       " 'Branched Roots',\n",
       " 'Brandt Information Services, LLC',\n",
       " 'Brandzooka',\n",
       " 'BreachRx',\n",
       " 'Breadware',\n",
       " 'Breakout EDU',\n",
       " 'Breakthrough Technologies, LLC',\n",
       " 'Brevard County Board of County Commissioners',\n",
       " 'Bridge',\n",
       " 'Bridgewater Consulting Group',\n",
       " 'Briebug',\n",
       " 'Brielle Technologies',\n",
       " 'Bright Bridge Web',\n",
       " 'Brightside Health',\n",
       " 'Brightup',\n",
       " 'Brilliant Infotech',\n",
       " 'Broadband Antenna Tracking Systems',\n",
       " 'Broadcom',\n",
       " 'Broadfeet Motorsport Equipment',\n",
       " 'Brokerage Management Solutions, Inc',\n",
       " 'Brooksource',\n",
       " 'Bryan Creative Group',\n",
       " 'Bryant Staffing Solutions',\n",
       " 'Bryt Designs',\n",
       " 'Buddy Web Design & Development',\n",
       " 'BunBao.com',\n",
       " 'Burke E. Porter Machinery',\n",
       " 'Burstorm',\n",
       " 'Business Integra Inc',\n",
       " 'Busy Human',\n",
       " 'Butler Aerospace & Defense',\n",
       " 'BuzzClan LLC',\n",
       " 'Bynn',\n",
       " 'Byrne Software Technologies',\n",
       " 'Byte Technology',\n",
       " 'ByteStratum',\n",
       " 'C2FO',\n",
       " 'CA-One Tech Cloud Inc',\n",
       " 'CAREier, Inc.',\n",
       " 'CAST.ERA',\n",
       " 'CBL SOLUTIONS INC',\n",
       " 'CCRi',\n",
       " 'CCS Global Tech',\n",
       " 'CEDENT',\n",
       " 'CEF Solutions Inc.',\n",
       " 'CFF',\n",
       " 'CG-VAK',\n",
       " 'CHOCHENG',\n",
       " 'CI Software',\n",
       " 'CIBR',\n",
       " 'CIBR Warriors LLC',\n",
       " 'CIMA Consulting Group LLC',\n",
       " 'CIRCADIAN RISK INC.',\n",
       " 'CIS Secure Computing, Inc/CIS Mobile',\n",
       " 'CLS Bank International',\n",
       " 'CMS Nextech',\n",
       " 'CO',\n",
       " 'COMPTROLLER OF PUBLIC ACCOUNTS',\n",
       " 'COMTEC INFORMATION SYSTEMS',\n",
       " 'CORE Higher Education Group',\n",
       " 'COREITS Technologies (P) Ltd',\n",
       " 'COX IT Global',\n",
       " 'CPS CARDS',\n",
       " 'CPT Group, Inc.',\n",
       " 'CPaT Global',\n",
       " 'CQENS Technologies Inc.',\n",
       " 'CRD Recruitment',\n",
       " 'CS Marketing Digital',\n",
       " 'CSAA Insurance Group, a AAA Insurer',\n",
       " 'CSG',\n",
       " 'CSI',\n",
       " 'CSZ Net Inc',\n",
       " 'CT&T TECHNOLOGIES Ltd',\n",
       " 'CTG',\n",
       " 'CTI Consulting',\n",
       " 'CTS',\n",
       " 'CU*Answers',\n",
       " 'CY9',\n",
       " 'Cadent Sourcing',\n",
       " 'CadmiumCD',\n",
       " 'Cal Poly Pomona Foundation, Inc.',\n",
       " 'CalArk International',\n",
       " 'Calculated Industries',\n",
       " 'California Lutheran University',\n",
       " 'California State University',\n",
       " 'Californians Together',\n",
       " 'Calypso Way',\n",
       " 'CalypsoWay',\n",
       " 'Cambridge Innovation Institute',\n",
       " 'Cambridge Mobile Telematics',\n",
       " 'Cambridge Technology Enterprises Limited',\n",
       " 'Camera Radd',\n",
       " 'Cameron Craig Group',\n",
       " 'Camillogic',\n",
       " 'Cancer Care, Inc.',\n",
       " 'Candor Group Inc',\n",
       " 'Cann-ID',\n",
       " 'Cantor Fitzgerald',\n",
       " 'Canvas Credit Union',\n",
       " 'Capability Analysis & Measurement Org (CAMO)',\n",
       " 'Capgemini',\n",
       " 'Capitol Design Studio',\n",
       " 'CaptionCall',\n",
       " 'Capture2, Inc.',\n",
       " 'CarParts.com',\n",
       " 'CarSaver',\n",
       " 'Carat Space Inc',\n",
       " 'Cardinal Financial Company, Limited Partnership',\n",
       " 'CareAdvisors',\n",
       " 'CareHubs',\n",
       " 'CarePredict',\n",
       " 'Career Developers',\n",
       " 'Career TEAM',\n",
       " 'Career.Training',\n",
       " 'CareerPlug',\n",
       " 'CareerTu',\n",
       " 'Caresoft Global Inc.',\n",
       " 'CargoTel, Inc.',\n",
       " 'Caring People Home Healthcare',\n",
       " 'Carl Zeiss Meditec, Inc.',\n",
       " 'Carnegie Mellon University',\n",
       " 'Carrier',\n",
       " 'Cartesian Systems Inc',\n",
       " 'Cascade Engineering Services',\n",
       " 'Cascade Health Services',\n",
       " 'Cascadia Capital Corporation',\n",
       " 'Case Western Reserve University',\n",
       " 'Case Works, LLC',\n",
       " 'Caseproof',\n",
       " 'Cash Man Services',\n",
       " 'Catalog Solutions Inc.',\n",
       " 'Catalyte',\n",
       " 'Cazador Consulting Group',\n",
       " 'Cedar Falls Utilities',\n",
       " 'Cedarcide',\n",
       " 'Cedarware, Corp.',\n",
       " 'Celebal Technologies',\n",
       " 'Cellencor, Inc.',\n",
       " 'CelticQA Solutions',\n",
       " 'Cenergy International Services',\n",
       " 'Centage Corporation',\n",
       " 'Centennial Arts',\n",
       " 'Centercode',\n",
       " 'Centeva',\n",
       " 'CentralSquare Technologies',\n",
       " 'Cerberus Interactive, Inc.',\n",
       " 'Cerebral Staffing, LLC',\n",
       " 'Certain Lending',\n",
       " 'Certec Consulting, inc',\n",
       " 'Certificate Hero',\n",
       " 'Chabeztech',\n",
       " 'ChalkTalk SPORTS, Inc.',\n",
       " 'Champion Lender INC',\n",
       " 'ChampionX',\n",
       " 'Chargezoom',\n",
       " 'Charleston MSP',\n",
       " 'CharterUP',\n",
       " 'Checkmate Partners',\n",
       " 'Cheeky Scientist',\n",
       " 'Chewy',\n",
       " \"Children's Bureau\",\n",
       " 'Chipton-Ross',\n",
       " 'Chronograph',\n",
       " 'Chuwaamerica',\n",
       " 'Ciao Wireless, Inc.',\n",
       " 'Cimetrix',\n",
       " 'Cincinnati Area Geographic Information System (CAGIS) - City of Cincinnati',\n",
       " 'Cipherome, Inc',\n",
       " 'Cisco',\n",
       " 'City and County of San Francisco',\n",
       " 'City of Charlottesville',\n",
       " 'City of Cheyenne Board of Public Utilities',\n",
       " 'City of Cincinnati',\n",
       " 'City of Dallas, TX',\n",
       " 'City of San Jose',\n",
       " 'CivicActions',\n",
       " 'Clairvoyant',\n",
       " 'Clarip',\n",
       " 'Clarity Search and Select Inc',\n",
       " 'Clarity Ventures',\n",
       " 'Cleaning Technologies Group',\n",
       " 'ClearEdge3D, Inc.',\n",
       " 'Clerysys Inc',\n",
       " 'ClickIPO',\n",
       " 'ClientServer Technology Solutions LLC',\n",
       " 'ClientSolv Technologies',\n",
       " 'Clipcentric Inc.',\n",
       " 'Clockshark',\n",
       " 'Closet Factory',\n",
       " 'Cloud Software INC',\n",
       " 'Cloud Solutions - Financial',\n",
       " 'CloudPareto',\n",
       " 'Clover Imaging Group',\n",
       " 'Club Wealth',\n",
       " 'Coalesce Management Consulting',\n",
       " 'Cobalt',\n",
       " 'Cobalt Communications',\n",
       " 'Code Koalas',\n",
       " 'CodeBroker',\n",
       " 'CodeLogic',\n",
       " 'Codeless, Interactive LLC',\n",
       " 'Codetru',\n",
       " 'Coforma',\n",
       " 'Cognetic Technologies',\n",
       " 'Cognizance Technologies',\n",
       " 'Cohesion IB',\n",
       " 'Coin Club',\n",
       " 'Collective Sports Data',\n",
       " 'College Auto Sales of Florida',\n",
       " 'College Kids, LLP',\n",
       " 'Colorado Judicial Branch',\n",
       " 'Colorado State University',\n",
       " 'ComResource',\n",
       " 'Cometly',\n",
       " 'Comfort Sytems USA Strategic Accounts',\n",
       " 'CommandLink',\n",
       " 'Community',\n",
       " 'Community College of Baltimore County',\n",
       " 'Commvault',\n",
       " 'Complete Structural Consulting, Inc.',\n",
       " 'Compliable',\n",
       " 'Compology',\n",
       " 'Compose AI',\n",
       " 'Composite Apps Inc.',\n",
       " 'Compugra Systems Inc',\n",
       " 'Computer Data Concepts',\n",
       " 'Computer Enterprises Inc.',\n",
       " 'Computer Enterprises, Inc. (CEI)',\n",
       " 'Computer Staff',\n",
       " 'Comtech Global, Inc',\n",
       " 'ConServe',\n",
       " 'Concepts Beyond',\n",
       " 'Conduitcs',\n",
       " 'Confidential',\n",
       " 'Conga',\n",
       " 'Connect Staffing Professional, LLC',\n",
       " 'Connect Staffing and Consulting',\n",
       " 'ConnectiveRx',\n",
       " 'Connecttel Inc.',\n",
       " 'Conquest Consulting',\n",
       " 'Conquest Staffing System',\n",
       " 'Consumers Energy',\n",
       " 'Content Bloom',\n",
       " 'ContextWest',\n",
       " 'Continental Finance Company, LLC',\n",
       " 'Contour Mortgage Corporation',\n",
       " 'Convercent',\n",
       " 'Converge Technology Solutions',\n",
       " 'Cool Minds LLC',\n",
       " 'Coquina Systems',\n",
       " 'CorTech',\n",
       " 'Core Techs Inc.',\n",
       " 'Cork Distributors',\n",
       " 'Cornerstone Building Brands',\n",
       " 'Cornerstone Information Systems',\n",
       " 'Corporate Systems Associates, Inc.',\n",
       " 'Cortechs.ai',\n",
       " 'Cortex Consulting Services Inc',\n",
       " 'Corvus Technology Resources',\n",
       " 'Cosmic Advanced Engineered Solutions Inc',\n",
       " 'Counter Threat Solutions',\n",
       " 'Counterpointe Solutions, Inc.',\n",
       " 'County of Sonoma',\n",
       " 'Court Appearance Professionals',\n",
       " 'Cove Smart',\n",
       " 'Cox Automotive',\n",
       " 'Cox Communications Inc',\n",
       " 'Cquest',\n",
       " 'Crackajack Solutions',\n",
       " 'Craft Designs, Inc',\n",
       " 'Craftner INC',\n",
       " 'Crawford & Company',\n",
       " 'Creating Digital',\n",
       " 'Creative Information Technology, Inc',\n",
       " 'Creative Marketing Agency',\n",
       " 'Credit Union of Colorado',\n",
       " 'Criterion Automation, Inc',\n",
       " 'Critical Design Associates Inc.',\n",
       " 'Critical Hub Networks',\n",
       " 'CrossFit',\n",
       " 'Cru',\n",
       " 'Crunchsoft',\n",
       " 'Crytivo',\n",
       " 'Cultivate Geospatial Solutions',\n",
       " 'Curematch',\n",
       " 'Curis IT',\n",
       " 'Current Ways, Inc',\n",
       " 'Cushman & Wakefield',\n",
       " 'Custom Software Systems, Inc.',\n",
       " 'Cutting Edge Solutions',\n",
       " 'Cyber Chasse Inc',\n",
       " 'CyberCoders',\n",
       " 'CyberMinds, Inc',\n",
       " 'Cygnet Infotech LLC',\n",
       " 'Cymetrix Software',\n",
       " 'D&K Engineering',\n",
       " 'D.P.Placement Power,Inc.',\n",
       " 'D2 Pharma Consulting',\n",
       " 'DARI Motion, Inc.',\n",
       " 'DB Services',\n",
       " 'DBAce Tech LLC',\n",
       " 'DCI Solutions',\n",
       " 'DIGON Systems LLC',\n",
       " 'DKMRBH INc',\n",
       " 'DMA Sales LLC',\n",
       " 'DNI',\n",
       " 'DORLE CONTROLS, LLC',\n",
       " 'DP Solutions Inc',\n",
       " 'DSMH LLC',\n",
       " 'DSN Worldwide',\n",
       " 'DST Systems',\n",
       " 'DTCC',\n",
       " 'DXC Technology',\n",
       " 'Dalinghaus Construction, Inc',\n",
       " 'Daman, Inc.',\n",
       " 'Dancor Solutions',\n",
       " 'Danomics',\n",
       " 'DarkMatter2bd',\n",
       " 'Dartmouth College',\n",
       " 'Das Services',\n",
       " 'DatChat, Inc.',\n",
       " 'Data Concepts',\n",
       " 'Data Patterns',\n",
       " 'Data Visualization Company',\n",
       " 'Data-Core Systems Inc',\n",
       " 'DataAxxis',\n",
       " 'DataLab USA',\n",
       " 'DataSeer, Inc.',\n",
       " 'Databento, Inc.',\n",
       " 'Dataclay',\n",
       " 'Datagrate, Inc.',\n",
       " 'Datasembly',\n",
       " 'Datasoft International LLC',\n",
       " 'Dataspace',\n",
       " 'Datica',\n",
       " 'Davidson Technologies Inc.',\n",
       " 'Davis Laine, LLC',\n",
       " 'Daytona State College',\n",
       " 'Deacom, Inc.',\n",
       " 'DealMachine',\n",
       " 'DealerPolicy',\n",
       " 'Decent Labs',\n",
       " 'Decide',\n",
       " 'Deck Nine Games',\n",
       " 'Deck Prism Sports',\n",
       " 'Deep48',\n",
       " 'Def Method',\n",
       " 'Defy Medical',\n",
       " 'Delacan',\n",
       " 'Deltacubes Technologies LLC.',\n",
       " 'Delve professionals LLC.',\n",
       " 'Denali Advanced Integration / 3MD',\n",
       " 'Denios, Inc.',\n",
       " 'Dental Insurance Company',\n",
       " 'DentalCMO',\n",
       " 'Denver Public Schools',\n",
       " 'Department of Computer Science, University of Arizona',\n",
       " 'Designzillas',\n",
       " 'Detail Mold and Manufacturing',\n",
       " 'Dev Technology',\n",
       " 'Devrabbit It Solutions INC',\n",
       " 'Dew Software',\n",
       " 'Dew software',\n",
       " 'Dextrous Robotics',\n",
       " 'Dexx Group',\n",
       " 'Dezign Concepts LLC',\n",
       " 'Dialight',\n",
       " 'Dice Corporation',\n",
       " 'DieselLaptops.com',\n",
       " 'DigiSphere Marketing',\n",
       " 'Digital Dhara',\n",
       " 'Digital Trenz',\n",
       " 'DigitalFish, Inc.',\n",
       " 'DigitalPlusSolutions LLC',\n",
       " 'DigitalScripts Inc',\n",
       " 'Digitalent',\n",
       " 'Digitalis Inc',\n",
       " 'Digitalogy Consulting',\n",
       " 'Direct Client',\n",
       " 'DirectDefense',\n",
       " 'Discovery Robotics Corporation',\n",
       " 'Dishcare',\n",
       " 'DispatchHealth',\n",
       " 'Dispel',\n",
       " 'Distinctive Ride',\n",
       " 'Diversified Transportation Services',\n",
       " 'DiversityX',\n",
       " 'Divi Technologies',\n",
       " 'Divish LLC',\n",
       " 'Divvy',\n",
       " 'Divvy, Inc',\n",
       " 'Dizzion Incorporated',\n",
       " 'DoMyOwn.com',\n",
       " 'Docbot',\n",
       " 'Doelsoft',\n",
       " 'Dogwood Services',\n",
       " 'Dojnia Staffing',\n",
       " 'Dojo Five',\n",
       " 'Donuts Inc.',\n",
       " 'Doozer Software',\n",
       " 'Dorabot Inc.',\n",
       " 'Double A Labs',\n",
       " 'Double Down Group LLC',\n",
       " 'Dovel Technologies',\n",
       " 'Dovel Technologies, LLC',\n",
       " 'Dow Chemical Employees’ Credit Union',\n",
       " 'Down Payment Resource',\n",
       " 'Drift Net Securities',\n",
       " 'Drupal Association',\n",
       " 'DuPont',\n",
       " 'Duma Works',\n",
       " 'Dumpa Consulting',\n",
       " 'Dunn Solutions Group',\n",
       " 'Dutech Systems Inc',\n",
       " 'Duval County Public Schools',\n",
       " 'Dynamic Placement Services, LLC',\n",
       " 'Dynamic Resource Solutions Ltd.',\n",
       " 'Dynata',\n",
       " 'Dynpro India Pvt ltd',\n",
       " 'E&M Technologies, Inc.',\n",
       " 'E-AIM',\n",
       " 'E-Business International Inc.',\n",
       " 'E-Logic, Inc.',\n",
       " 'E2open',\n",
       " 'EA Team',\n",
       " 'EASi Engineering',\n",
       " 'EATON',\n",
       " 'EBQ',\n",
       " 'EDCare',\n",
       " 'EDDA Technology, Inc.',\n",
       " 'EDF Renewables',\n",
       " 'EDR Technology',\n",
       " 'EPI-USE America, Inc',\n",
       " 'EPM, Inc',\n",
       " 'ETHANY Corporation',\n",
       " 'EagleForce Associates, Inc.',\n",
       " 'Easler Law, PLLC',\n",
       " 'East Coast Fabricators',\n",
       " 'Eastern Oklahoma State College -',\n",
       " 'Eastern Shore Regional Library',\n",
       " 'Echelon Industrial',\n",
       " 'EcomSolutions of NY Corp',\n",
       " 'Econtenti Inc',\n",
       " 'Edge-Sweets Co | ESCO',\n",
       " 'Edgetensor Technologies',\n",
       " 'Education Service Center, Region 20 [ESC-20]',\n",
       " 'Education Strategy Consulting',\n",
       " 'Edventure More',\n",
       " 'Effinxt Software Solutions LLC',\n",
       " 'Ehai Group',\n",
       " 'Electric Power Group, LLC',\n",
       " 'Electronics Renewal LLC',\n",
       " 'Electrotek Concepts Inc',\n",
       " 'Element6 Talent',\n",
       " 'Elexis Ventures',\n",
       " 'Elign Consulting',\n",
       " 'Elite Source, LLC',\n",
       " 'Elite Wheel and Tire',\n",
       " 'ElucidBio',\n",
       " 'Embedded Applications, Inc',\n",
       " 'Emerald',\n",
       " 'Emerald Resource Group',\n",
       " 'EmeraldAI Technologies LLC',\n",
       " 'Emerging Integrated Services',\n",
       " 'Emerson United Inc',\n",
       " 'Eminds',\n",
       " 'Eminence Consulting Services',\n",
       " 'Emjay',\n",
       " 'Emonics LLC',\n",
       " 'Emory Technologies',\n",
       " 'EmployerDirect Healthcare',\n",
       " 'Empower Retirement',\n",
       " 'EnScope IT,LLC',\n",
       " 'Encompass + Orchestra',\n",
       " 'Endurance IT',\n",
       " 'Energetics Technology Center',\n",
       " 'Energy Cognito',\n",
       " 'Energy Solutionss',\n",
       " 'Engine Room Technology',\n",
       " 'Engtal',\n",
       " 'Enormous Enterprise LLC',\n",
       " 'Enquire Solutions',\n",
       " 'Ensis Technologies',\n",
       " 'EnsoData',\n",
       " 'Entech Consulting LLC',\n",
       " 'Entelligence IT',\n",
       " 'Entertainment Technology Partners',\n",
       " 'Environmental Risk Management Inc',\n",
       " 'Envision Group',\n",
       " 'Envision LLC',\n",
       " 'Enzyme Corp',\n",
       " 'Epace technologies',\n",
       " 'Epathusa INC',\n",
       " 'EpiVax, Inc.',\n",
       " 'Epic Software',\n",
       " 'Epikso',\n",
       " 'Epiq Systems, Inc.',\n",
       " 'Epitec',\n",
       " 'Epsilon',\n",
       " 'Equal Opportunity Schools',\n",
       " 'Equature',\n",
       " 'Equinox IT Solutions LLC',\n",
       " 'Equipment Plus',\n",
       " 'Equitus Corporation',\n",
       " 'Erias Ventures LLC',\n",
       " 'Esha IT',\n",
       " 'Esolvit Inc.,',\n",
       " 'Essex County College',\n",
       " 'Estuary',\n",
       " 'Etech Hi, Inc.',\n",
       " 'Eton InfoComm Technology Inc',\n",
       " 'Evad Agency',\n",
       " 'Eventfinity',\n",
       " 'EverCommerce',\n",
       " 'Everest Global Solutions Inc',\n",
       " 'Everest Technologies',\n",
       " 'EveryAction',\n",
       " 'Evolutyz IT Services',\n",
       " 'Evurge Solutions',\n",
       " 'Exa Data Solutions Inc',\n",
       " 'Excelraise, LLC',\n",
       " 'Exemplar ITS',\n",
       " 'Exertis',\n",
       " 'Exiger',\n",
       " 'Exotanium Inc.',\n",
       " 'Expedien',\n",
       " 'Expedite',\n",
       " 'Expo Experts',\n",
       " 'Express Global Solutions LLC',\n",
       " 'Exsis - Digital Angels',\n",
       " 'Extreme Data Technologies',\n",
       " 'Ezandr, Inc.',\n",
       " 'FAAZ Consulting',\n",
       " 'FEDITC, LLC',\n",
       " 'FESCO Emergency Sales',\n",
       " 'FJA-US Inc.',\n",
       " 'FPT Software Philippines',\n",
       " 'FTL Labs Corp',\n",
       " 'FURE Technologies, Inc,',\n",
       " 'FWD',\n",
       " 'Fairway Management Services',\n",
       " 'Farm Credit Services of America',\n",
       " 'Fast',\n",
       " 'Fast Growing Medical Instrument Company',\n",
       " 'Fauna, Inc',\n",
       " 'Faxx',\n",
       " 'FedSME',\n",
       " 'Feedbyme',\n",
       " 'Fend Incorporated',\n",
       " 'Fermat Software',\n",
       " 'Ferrer & Poirot PC',\n",
       " 'FiSec Global, Inc',\n",
       " 'Fibersmith',\n",
       " 'Files.com',\n",
       " 'Filmed by frazier',\n",
       " 'Financial Network, Inc',\n",
       " 'Finity Communications Inc',\n",
       " 'Finlit Studios',\n",
       " 'Fion Technologies, Inc.',\n",
       " 'FireEye, Inc.',\n",
       " 'Firebolt',\n",
       " 'Firebrand Design & Business Solutions',\n",
       " 'Firefly Games',\n",
       " 'First Community Credit Union',\n",
       " 'First Soft Solutions [ Direct]',\n",
       " 'Firstservice Residential',\n",
       " 'Fisec Global',\n",
       " 'Fisec Gobal',\n",
       " 'Five Pack Creative',\n",
       " 'Flagstaff IT',\n",
       " 'Flairtech Solutions',\n",
       " 'Flash hire INC',\n",
       " 'Fleetworthy Solutions',\n",
       " 'Florida International University',\n",
       " 'FlowTrac',\n",
       " 'Flowe Technology',\n",
       " 'Flowium',\n",
       " 'Fluency Inc.',\n",
       " 'FluentStream',\n",
       " 'Flux Resources',\n",
       " 'Flyby Drone Delivery',\n",
       " 'Focus Talent Group',\n",
       " 'Fohr',\n",
       " 'Food Sciences Corporation',\n",
       " 'ForceMetrics',\n",
       " 'Forestry',\n",
       " 'Forestry.io Holdings Inc.',\n",
       " 'FormAssembly',\n",
       " 'Formac Inc',\n",
       " \"Forte's Client\",\n",
       " 'FortressIQ',\n",
       " 'Found Professionals',\n",
       " 'Foundation Source Philanthropic Services',\n",
       " 'FoundersCard',\n",
       " 'Four Squared Solutions',\n",
       " 'Four Winds Interactive',\n",
       " 'Foxconn',\n",
       " 'Foxconn Industrial Internet - FII',\n",
       " 'Foxhole QA',\n",
       " 'Framework Technical Media',\n",
       " 'Franklin Energy',\n",
       " 'FreeCast',\n",
       " 'FreeRateUpdate.com',\n",
       " 'FreeRateUpdate.com LLC',\n",
       " 'Freedom Forever',\n",
       " 'FreedomPay',\n",
       " 'Freeman',\n",
       " 'Freemind Solutions',\n",
       " 'FriendFinder Networks',\n",
       " 'Friesens Inc',\n",
       " 'Frio Controls',\n",
       " 'Frogslayer',\n",
       " 'From You Flowers',\n",
       " 'Full Circle Recruiting',\n",
       " 'Full Cycle Services',\n",
       " 'Full Potential Solutions',\n",
       " 'Fullstack Academy',\n",
       " 'Fults & Associates',\n",
       " 'Fusion Cell',\n",
       " 'Fusionware',\n",
       " 'Futan Solution',\n",
       " 'Fyusion',\n",
       " 'GEC INC',\n",
       " 'GETIDA',\n",
       " 'GHK',\n",
       " 'GOLFBALLS.COM',\n",
       " 'GRANTS PASS SD 7',\n",
       " ...]"
      ]
     },
     "execution_count": 121,
     "metadata": {},
     "output_type": "execute_result"
    }
   ],
   "source": [
    "company = [company for company in cleaned_jobs_df['company'].unique()]\n",
    "sorted(company)"
   ]
  },
  {
   "cell_type": "code",
   "execution_count": 122,
   "id": "ba9a8ed7-20cc-4025-ba2e-aab1aa423637",
   "metadata": {},
   "outputs": [
    {
     "data": {
      "text/plain": [
       "2918"
      ]
     },
     "execution_count": 122,
     "metadata": {},
     "output_type": "execute_result"
    }
   ],
   "source": [
    "len(company)"
   ]
  },
  {
   "cell_type": "code",
   "execution_count": 124,
   "id": "37ea6042-da9a-4a3f-b610-e60a791c9ac5",
   "metadata": {},
   "outputs": [
    {
     "data": {
      "text/html": [
       "<div>\n",
       "<style scoped>\n",
       "    .dataframe tbody tr th:only-of-type {\n",
       "        vertical-align: middle;\n",
       "    }\n",
       "\n",
       "    .dataframe tbody tr th {\n",
       "        vertical-align: top;\n",
       "    }\n",
       "\n",
       "    .dataframe thead th {\n",
       "        text-align: right;\n",
       "    }\n",
       "</style>\n",
       "<table border=\"1\" class=\"dataframe\">\n",
       "  <thead>\n",
       "    <tr style=\"text-align: right;\">\n",
       "      <th></th>\n",
       "      <th>company</th>\n",
       "      <th>frequency</th>\n",
       "    </tr>\n",
       "  </thead>\n",
       "  <tbody>\n",
       "    <tr>\n",
       "      <th>1214</th>\n",
       "      <td>Indeed</td>\n",
       "      <td>1166</td>\n",
       "    </tr>\n",
       "    <tr>\n",
       "      <th>397</th>\n",
       "      <td>Buddy Web Design &amp; Development</td>\n",
       "      <td>231</td>\n",
       "    </tr>\n",
       "    <tr>\n",
       "      <th>2109</th>\n",
       "      <td>Salesforce</td>\n",
       "      <td>165</td>\n",
       "    </tr>\n",
       "    <tr>\n",
       "      <th>2610</th>\n",
       "      <td>Underdog.io</td>\n",
       "      <td>106</td>\n",
       "    </tr>\n",
       "    <tr>\n",
       "      <th>2520</th>\n",
       "      <td>TikTok</td>\n",
       "      <td>101</td>\n",
       "    </tr>\n",
       "  </tbody>\n",
       "</table>\n",
       "</div>"
      ],
      "text/plain": [
       "                             company  frequency\n",
       "1214                          Indeed       1166\n",
       "397   Buddy Web Design & Development        231\n",
       "2109                      Salesforce        165\n",
       "2610                     Underdog.io        106\n",
       "2520                          TikTok        101"
      ]
     },
     "execution_count": 124,
     "metadata": {},
     "output_type": "execute_result"
    }
   ],
   "source": [
    "company_listing_frequency = cleaned_jobs_df.groupby(['company']).size().reset_index(name='frequency')\n",
    "sorted_company_listing_frequency = company_listing_frequency.sort_values(ascending=False, by='frequency')\n",
    "sorted_company_listing_frequency.head(5)"
   ]
  },
  {
   "cell_type": "markdown",
   "id": "a0ed2a65-849c-4ae5-8f94-a58c59fa722f",
   "metadata": {},
   "source": [
    "### What are the top companies offering remote positions?"
   ]
  },
  {
   "cell_type": "code",
   "execution_count": 125,
   "id": "779da012-0113-4b32-9b98-1e8fcc9ece27",
   "metadata": {
    "scrolled": true
   },
   "outputs": [
    {
     "data": {
      "text/html": [
       "<div>\n",
       "<style scoped>\n",
       "    .dataframe tbody tr th:only-of-type {\n",
       "        vertical-align: middle;\n",
       "    }\n",
       "\n",
       "    .dataframe tbody tr th {\n",
       "        vertical-align: top;\n",
       "    }\n",
       "\n",
       "    .dataframe thead th {\n",
       "        text-align: right;\n",
       "    }\n",
       "</style>\n",
       "<table border=\"1\" class=\"dataframe\">\n",
       "  <thead>\n",
       "    <tr style=\"text-align: right;\">\n",
       "      <th></th>\n",
       "      <th>company</th>\n",
       "      <th>location</th>\n",
       "      <th>frequency</th>\n",
       "    </tr>\n",
       "  </thead>\n",
       "  <tbody>\n",
       "    <tr>\n",
       "      <th>326</th>\n",
       "      <td>Indeed</td>\n",
       "      <td>Remote</td>\n",
       "      <td>407</td>\n",
       "    </tr>\n",
       "    <tr>\n",
       "      <th>37</th>\n",
       "      <td>AlphaPoint</td>\n",
       "      <td>Remote</td>\n",
       "      <td>60</td>\n",
       "    </tr>\n",
       "    <tr>\n",
       "      <th>514</th>\n",
       "      <td>Prime Trust, LLC</td>\n",
       "      <td>Remote</td>\n",
       "      <td>58</td>\n",
       "    </tr>\n",
       "    <tr>\n",
       "      <th>519</th>\n",
       "      <td>Project Admission</td>\n",
       "      <td>Remote</td>\n",
       "      <td>56</td>\n",
       "    </tr>\n",
       "    <tr>\n",
       "      <th>250</th>\n",
       "      <td>Five Pack Creative</td>\n",
       "      <td>Remote</td>\n",
       "      <td>45</td>\n",
       "    </tr>\n",
       "    <tr>\n",
       "      <th>77</th>\n",
       "      <td>BNL Consulting</td>\n",
       "      <td>Remote</td>\n",
       "      <td>39</td>\n",
       "    </tr>\n",
       "    <tr>\n",
       "      <th>52</th>\n",
       "      <td>Apruve</td>\n",
       "      <td>Remote</td>\n",
       "      <td>38</td>\n",
       "    </tr>\n",
       "    <tr>\n",
       "      <th>173</th>\n",
       "      <td>Curis IT</td>\n",
       "      <td>Remote</td>\n",
       "      <td>35</td>\n",
       "    </tr>\n",
       "    <tr>\n",
       "      <th>199</th>\n",
       "      <td>Dojnia Staffing</td>\n",
       "      <td>Remote</td>\n",
       "      <td>33</td>\n",
       "    </tr>\n",
       "    <tr>\n",
       "      <th>728</th>\n",
       "      <td>Veeva Systems</td>\n",
       "      <td>Remote</td>\n",
       "      <td>31</td>\n",
       "    </tr>\n",
       "  </tbody>\n",
       "</table>\n",
       "</div>"
      ],
      "text/plain": [
       "                company location  frequency\n",
       "326              Indeed   Remote        407\n",
       "37           AlphaPoint   Remote         60\n",
       "514    Prime Trust, LLC   Remote         58\n",
       "519   Project Admission   Remote         56\n",
       "250  Five Pack Creative   Remote         45\n",
       "77       BNL Consulting   Remote         39\n",
       "52               Apruve   Remote         38\n",
       "173            Curis IT   Remote         35\n",
       "199     Dojnia Staffing   Remote         33\n",
       "728       Veeva Systems   Remote         31"
      ]
     },
     "execution_count": 125,
     "metadata": {},
     "output_type": "execute_result"
    }
   ],
   "source": [
    "# Filter for remote locations\n",
    "remote_jobs_df = cleaned_jobs_df[cleaned_jobs_df['location'].str.contains(\"remote\", case=False)]\n",
    "\n",
    "# Group by company and location, then count the occurrences\n",
    "companies_offering_remote_roles = remote_jobs_df.groupby(['company', 'location']).size().reset_index(name='frequency')\n",
    "\n",
    "# Sort by frequency in descending order\n",
    "sorted_companies_offering_remote_roles = companies_offering_remote_roles.sort_values(ascending=False, by='frequency')\n",
    "\n",
    "sorted_companies_offering_remote_roles.head(10)"
   ]
  },
  {
   "cell_type": "code",
   "execution_count": 128,
   "id": "a4753923-60bc-492a-a704-43038859de1d",
   "metadata": {},
   "outputs": [
    {
     "data": {
      "image/png": "[encoded data removed]",
      "text/plain": [
       "<Figure size 640x480 with 1 Axes>"
      ]
     },
     "metadata": {},
     "output_type": "display_data"
    }
   ],
   "source": [
    "top_companies_offering_remote_roles = sorted_companies_offering_remote_roles.head()\n",
    "\n",
    "plt.barh(top_companies_offering_remote_roles['location'] + '(' + top_companies_offering_remote_roles['company'] + ')',\n",
    "         top_companies_offering_remote_roles['frequency'], color='skyblue')\n",
    "plt.xlabel('Frequency')\n",
    "plt.ylabel('Companies offering remote positions')\n",
    "plt.title('Top Companies offering remote positions')\n",
    "plt.gca().invert_yaxis()  # Highest frequencies on top\n",
    "plt.show()"
   ]
  },
  {
   "cell_type": "code",
   "execution_count": 160,
   "id": "a6b1e3a7-1c89-48e9-a3c6-5b3ad91734ae",
   "metadata": {},
   "outputs": [
    {
     "data": {
      "application/vnd.plotly.v1+json": {
       "config": {
        "plotlyServerURL": "https://plot.ly"
       },
       "data": [
        {
         "marker": {
          "color": "skyblue"
         },
         "orientation": "h",
         "type": "bar",
         "x": [
          407,
          60,
          58,
          56,
          45
         ],
         "y": [
          "Remote(Indeed)",
          "Remote(AlphaPoint)",
          "Remote(Prime Trust, LLC)",
          "Remote(Project Admission)",
          "Remote(Five Pack Creative)"
         ]
        }
       ],
       "layout": {
        "autosize": true,
        "template": {
         "data": {
          "bar": [
           {
            "error_x": {
             "color": "#2a3f5f"
            },
            "error_y": {
             "color": "#2a3f5f"
            },
            "marker": {
             "line": {
              "color": "#E5ECF6",
              "width": 0.5
             },
             "pattern": {
              "fillmode": "overlay",
              "size": 10,
              "solidity": 0.2
             }
            },
            "type": "bar"
           }
          ],
          "barpolar": [
           {
            "marker": {
             "line": {
              "color": "#E5ECF6",
              "width": 0.5
             },
             "pattern": {
              "fillmode": "overlay",
              "size": 10,
              "solidity": 0.2
             }
            },
            "type": "barpolar"
           }
          ],
          "carpet": [
           {
            "aaxis": {
             "endlinecolor": "#2a3f5f",
             "gridcolor": "white",
             "linecolor": "white",
             "minorgridcolor": "white",
             "startlinecolor": "#2a3f5f"
            },
            "baxis": {
             "endlinecolor": "#2a3f5f",
             "gridcolor": "white",
             "linecolor": "white",
             "minorgridcolor": "white",
             "startlinecolor": "#2a3f5f"
            },
            "type": "carpet"
           }
          ],
          "choropleth": [
           {
            "colorbar": {
             "outlinewidth": 0,
             "ticks": ""
            },
            "type": "choropleth"
           }
          ],
          "contour": [
           {
            "colorbar": {
             "outlinewidth": 0,
             "ticks": ""
            },
            "colorscale": [
             [
              0,
              "#0d0887"
             ],
             [
              0.1111111111111111,
              "#46039f"
             ],
             [
              0.2222222222222222,
              "#7201a8"
             ],
             [
              0.3333333333333333,
              "#9c179e"
             ],
             [
              0.4444444444444444,
              "#bd3786"
             ],
             [
              0.5555555555555556,
              "#d8576b"
             ],
             [
              0.6666666666666666,
              "#ed7953"
             ],
             [
              0.7777777777777778,
              "#fb9f3a"
             ],
             [
              0.8888888888888888,
              "#fdca26"
             ],
             [
              1,
              "#f0f921"
             ]
            ],
            "type": "contour"
           }
          ],
          "contourcarpet": [
           {
            "colorbar": {
             "outlinewidth": 0,
             "ticks": ""
            },
            "type": "contourcarpet"
           }
          ],
          "heatmap": [
           {
            "colorbar": {
             "outlinewidth": 0,
             "ticks": ""
            },
            "colorscale": [
             [
              0,
              "#0d0887"
             ],
             [
              0.1111111111111111,
              "#46039f"
             ],
             [
              0.2222222222222222,
              "#7201a8"
             ],
             [
              0.3333333333333333,
              "#9c179e"
             ],
             [
              0.4444444444444444,
              "#bd3786"
             ],
             [
              0.5555555555555556,
              "#d8576b"
             ],
             [
              0.6666666666666666,
              "#ed7953"
             ],
             [
              0.7777777777777778,
              "#fb9f3a"
             ],
             [
              0.8888888888888888,
              "#fdca26"
             ],
             [
              1,
              "#f0f921"
             ]
            ],
            "type": "heatmap"
           }
          ],
          "heatmapgl": [
           {
            "colorbar": {
             "outlinewidth": 0,
             "ticks": ""
            },
            "colorscale": [
             [
              0,
              "#0d0887"
             ],
             [
              0.1111111111111111,
              "#46039f"
             ],
             [
              0.2222222222222222,
              "#7201a8"
             ],
             [
              0.3333333333333333,
              "#9c179e"
             ],
             [
              0.4444444444444444,
              "#bd3786"
             ],
             [
              0.5555555555555556,
              "#d8576b"
             ],
             [
              0.6666666666666666,
              "#ed7953"
             ],
             [
              0.7777777777777778,
              "#fb9f3a"
             ],
             [
              0.8888888888888888,
              "#fdca26"
             ],
             [
              1,
              "#f0f921"
             ]
            ],
            "type": "heatmapgl"
           }
          ],
          "histogram": [
           {
            "marker": {
             "pattern": {
              "fillmode": "overlay",
              "size": 10,
              "solidity": 0.2
             }
            },
            "type": "histogram"
           }
          ],
          "histogram2d": [
           {
            "colorbar": {
             "outlinewidth": 0,
             "ticks": ""
            },
            "colorscale": [
             [
              0,
              "#0d0887"
             ],
             [
              0.1111111111111111,
              "#46039f"
             ],
             [
              0.2222222222222222,
              "#7201a8"
             ],
             [
              0.3333333333333333,
              "#9c179e"
             ],
             [
              0.4444444444444444,
              "#bd3786"
             ],
             [
              0.5555555555555556,
              "#d8576b"
             ],
             [
              0.6666666666666666,
              "#ed7953"
             ],
             [
              0.7777777777777778,
              "#fb9f3a"
             ],
             [
              0.8888888888888888,
              "#fdca26"
             ],
             [
              1,
              "#f0f921"
             ]
            ],
            "type": "histogram2d"
           }
          ],
          "histogram2dcontour": [
           {
            "colorbar": {
             "outlinewidth": 0,
             "ticks": ""
            },
            "colorscale": [
             [
              0,
              "#0d0887"
             ],
             [
              0.1111111111111111,
              "#46039f"
             ],
             [
              0.2222222222222222,
              "#7201a8"
             ],
             [
              0.3333333333333333,
              "#9c179e"
             ],
             [
              0.4444444444444444,
              "#bd3786"
             ],
             [
              0.5555555555555556,
              "#d8576b"
             ],
             [
              0.6666666666666666,
              "#ed7953"
             ],
             [
              0.7777777777777778,
              "#fb9f3a"
             ],
             [
              0.8888888888888888,
              "#fdca26"
             ],
             [
              1,
              "#f0f921"
             ]
            ],
            "type": "histogram2dcontour"
           }
          ],
          "mesh3d": [
           {
            "colorbar": {
             "outlinewidth": 0,
             "ticks": ""
            },
            "type": "mesh3d"
           }
          ],
          "parcoords": [
           {
            "line": {
             "colorbar": {
              "outlinewidth": 0,
              "ticks": ""
             }
            },
            "type": "parcoords"
           }
          ],
          "pie": [
           {
            "automargin": true,
            "type": "pie"
           }
          ],
          "scatter": [
           {
            "fillpattern": {
             "fillmode": "overlay",
             "size": 10,
             "solidity": 0.2
            },
            "type": "scatter"
           }
          ],
          "scatter3d": [
           {
            "line": {
             "colorbar": {
              "outlinewidth": 0,
              "ticks": ""
             }
            },
            "marker": {
             "colorbar": {
              "outlinewidth": 0,
              "ticks": ""
             }
            },
            "type": "scatter3d"
           }
          ],
          "scattercarpet": [
           {
            "marker": {
             "colorbar": {
              "outlinewidth": 0,
              "ticks": ""
             }
            },
            "type": "scattercarpet"
           }
          ],
          "scattergeo": [
           {
            "marker": {
             "colorbar": {
              "outlinewidth": 0,
              "ticks": ""
             }
            },
            "type": "scattergeo"
           }
          ],
          "scattergl": [
           {
            "marker": {
             "colorbar": {
              "outlinewidth": 0,
              "ticks": ""
             }
            },
            "type": "scattergl"
           }
          ],
          "scattermapbox": [
           {
            "marker": {
             "colorbar": {
              "outlinewidth": 0,
              "ticks": ""
             }
            },
            "type": "scattermapbox"
           }
          ],
          "scatterpolar": [
           {
            "marker": {
             "colorbar": {
              "outlinewidth": 0,
              "ticks": ""
             }
            },
            "type": "scatterpolar"
           }
          ],
          "scatterpolargl": [
           {
            "marker": {
             "colorbar": {
              "outlinewidth": 0,
              "ticks": ""
             }
            },
            "type": "scatterpolargl"
           }
          ],
          "scatterternary": [
           {
            "marker": {
             "colorbar": {
              "outlinewidth": 0,
              "ticks": ""
             }
            },
            "type": "scatterternary"
           }
          ],
          "surface": [
           {
            "colorbar": {
             "outlinewidth": 0,
             "ticks": ""
            },
            "colorscale": [
             [
              0,
              "#0d0887"
             ],
             [
              0.1111111111111111,
              "#46039f"
             ],
             [
              0.2222222222222222,
              "#7201a8"
             ],
             [
              0.3333333333333333,
              "#9c179e"
             ],
             [
              0.4444444444444444,
              "#bd3786"
             ],
             [
              0.5555555555555556,
              "#d8576b"
             ],
             [
              0.6666666666666666,
              "#ed7953"
             ],
             [
              0.7777777777777778,
              "#fb9f3a"
             ],
             [
              0.8888888888888888,
              "#fdca26"
             ],
             [
              1,
              "#f0f921"
             ]
            ],
            "type": "surface"
           }
          ],
          "table": [
           {
            "cells": {
             "fill": {
              "color": "#EBF0F8"
             },
             "line": {
              "color": "white"
             }
            },
            "header": {
             "fill": {
              "color": "#C8D4E3"
             },
             "line": {
              "color": "white"
             }
            },
            "type": "table"
           }
          ]
         },
         "layout": {
          "annotationdefaults": {
           "arrowcolor": "#2a3f5f",
           "arrowhead": 0,
           "arrowwidth": 1
          },
          "autotypenumbers": "strict",
          "coloraxis": {
           "colorbar": {
            "outlinewidth": 0,
            "ticks": ""
           }
          },
          "colorscale": {
           "diverging": [
            [
             0,
             "#8e0152"
            ],
            [
             0.1,
             "#c51b7d"
            ],
            [
             0.2,
             "#de77ae"
            ],
            [
             0.3,
             "#f1b6da"
            ],
            [
             0.4,
             "#fde0ef"
            ],
            [
             0.5,
             "#f7f7f7"
            ],
            [
             0.6,
             "#e6f5d0"
            ],
            [
             0.7,
             "#b8e186"
            ],
            [
             0.8,
             "#7fbc41"
            ],
            [
             0.9,
             "#4d9221"
            ],
            [
             1,
             "#276419"
            ]
           ],
           "sequential": [
            [
             0,
             "#0d0887"
            ],
            [
             0.1111111111111111,
             "#46039f"
            ],
            [
             0.2222222222222222,
             "#7201a8"
            ],
            [
             0.3333333333333333,
             "#9c179e"
            ],
            [
             0.4444444444444444,
             "#bd3786"
            ],
            [
             0.5555555555555556,
             "#d8576b"
            ],
            [
             0.6666666666666666,
             "#ed7953"
            ],
            [
             0.7777777777777778,
             "#fb9f3a"
            ],
            [
             0.8888888888888888,
             "#fdca26"
            ],
            [
             1,
             "#f0f921"
            ]
           ],
           "sequentialminus": [
            [
             0,
             "#0d0887"
            ],
            [
             0.1111111111111111,
             "#46039f"
            ],
            [
             0.2222222222222222,
             "#7201a8"
            ],
            [
             0.3333333333333333,
             "#9c179e"
            ],
            [
             0.4444444444444444,
             "#bd3786"
            ],
            [
             0.5555555555555556,
             "#d8576b"
            ],
            [
             0.6666666666666666,
             "#ed7953"
            ],
            [
             0.7777777777777778,
             "#fb9f3a"
            ],
            [
             0.8888888888888888,
             "#fdca26"
            ],
            [
             1,
             "#f0f921"
            ]
           ]
          },
          "colorway": [
           "#636efa",
           "#EF553B",
           "#00cc96",
           "#ab63fa",
           "#FFA15A",
           "#19d3f3",
           "#FF6692",
           "#B6E880",
           "#FF97FF",
           "#FECB52"
          ],
          "font": {
           "color": "#2a3f5f"
          },
          "geo": {
           "bgcolor": "white",
           "lakecolor": "white",
           "landcolor": "#E5ECF6",
           "showlakes": true,
           "showland": true,
           "subunitcolor": "white"
          },
          "hoverlabel": {
           "align": "left"
          },
          "hovermode": "closest",
          "mapbox": {
           "style": "light"
          },
          "paper_bgcolor": "white",
          "plot_bgcolor": "#E5ECF6",
          "polar": {
           "angularaxis": {
            "gridcolor": "white",
            "linecolor": "white",
            "ticks": ""
           },
           "bgcolor": "#E5ECF6",
           "radialaxis": {
            "gridcolor": "white",
            "linecolor": "white",
            "ticks": ""
           }
          },
          "scene": {
           "xaxis": {
            "backgroundcolor": "#E5ECF6",
            "gridcolor": "white",
            "gridwidth": 2,
            "linecolor": "white",
            "showbackground": true,
            "ticks": "",
            "zerolinecolor": "white"
           },
           "yaxis": {
            "backgroundcolor": "#E5ECF6",
            "gridcolor": "white",
            "gridwidth": 2,
            "linecolor": "white",
            "showbackground": true,
            "ticks": "",
            "zerolinecolor": "white"
           },
           "zaxis": {
            "backgroundcolor": "#E5ECF6",
            "gridcolor": "white",
            "gridwidth": 2,
            "linecolor": "white",
            "showbackground": true,
            "ticks": "",
            "zerolinecolor": "white"
           }
          },
          "shapedefaults": {
           "line": {
            "color": "#2a3f5f"
           }
          },
          "ternary": {
           "aaxis": {
            "gridcolor": "white",
            "linecolor": "white",
            "ticks": ""
           },
           "baxis": {
            "gridcolor": "white",
            "linecolor": "white",
            "ticks": ""
           },
           "bgcolor": "#E5ECF6",
           "caxis": {
            "gridcolor": "white",
            "linecolor": "white",
            "ticks": ""
           }
          },
          "title": {
           "x": 0.05
          },
          "xaxis": {
           "automargin": true,
           "gridcolor": "white",
           "linecolor": "white",
           "ticks": "",
           "title": {
            "standoff": 15
           },
           "zerolinecolor": "white",
           "zerolinewidth": 2
          },
          "yaxis": {
           "automargin": true,
           "gridcolor": "white",
           "linecolor": "white",
           "ticks": "",
           "title": {
            "standoff": 15
           },
           "zerolinecolor": "white",
           "zerolinewidth": 2
          }
         }
        },
        "title": {
         "text": "Top Companies Offering Remote Positions"
        },
        "xaxis": {
         "autorange": true,
         "range": [
          0,
          428.42105263157896
         ],
         "title": {
          "text": "Frequency"
         },
         "type": "linear"
        },
        "yaxis": {
         "autorange": true,
         "range": [
          4.5,
          -0.5
         ],
         "title": {
          "text": "Companies Offering Remote Positions"
         },
         "type": "category"
        }
       }
      },
      "image/png": "[encoded data removed]",
      "text/html": [
       "<div>                            <div id=\"a082cdf0-182d-4afc-8ac2-66c873211a0a\" class=\"plotly-graph-div\" style=\"height:525px; width:100%;\"></div>            <script type=\"text/javascript\">                require([\"plotly\"], function(Plotly) {                    window.PLOTLYENV=window.PLOTLYENV || {};                                    if (document.getElementById(\"a082cdf0-182d-4afc-8ac2-66c873211a0a\")) {                    Plotly.newPlot(                        \"a082cdf0-182d-4afc-8ac2-66c873211a0a\",                        [{\"marker\":{\"color\":\"skyblue\"},\"orientation\":\"h\",\"x\":[407,60,58,56,45],\"y\":[\"Remote(Indeed)\",\"Remote(AlphaPoint)\",\"Remote(Prime Trust, LLC)\",\"Remote(Project Admission)\",\"Remote(Five Pack Creative)\"],\"type\":\"bar\"}],                        {\"template\":{\"data\":{\"histogram2dcontour\":[{\"type\":\"histogram2dcontour\",\"colorbar\":{\"outlinewidth\":0,\"ticks\":\"\"},\"colorscale\":[[0.0,\"#0d0887\"],[0.1111111111111111,\"#46039f\"],[0.2222222222222222,\"#7201a8\"],[0.3333333333333333,\"#9c179e\"],[0.4444444444444444,\"#bd3786\"],[0.5555555555555556,\"#d8576b\"],[0.6666666666666666,\"#ed7953\"],[0.7777777777777778,\"#fb9f3a\"],[0.8888888888888888,\"#fdca26\"],[1.0,\"#f0f921\"]]}],\"choropleth\":[{\"type\":\"choropleth\",\"colorbar\":{\"outlinewidth\":0,\"ticks\":\"\"}}],\"histogram2d\":[{\"type\":\"histogram2d\",\"colorbar\":{\"outlinewidth\":0,\"ticks\":\"\"},\"colorscale\":[[0.0,\"#0d0887\"],[0.1111111111111111,\"#46039f\"],[0.2222222222222222,\"#7201a8\"],[0.3333333333333333,\"#9c179e\"],[0.4444444444444444,\"#bd3786\"],[0.5555555555555556,\"#d8576b\"],[0.6666666666666666,\"#ed7953\"],[0.7777777777777778,\"#fb9f3a\"],[0.8888888888888888,\"#fdca26\"],[1.0,\"#f0f921\"]]}],\"heatmap\":[{\"type\":\"heatmap\",\"colorbar\":{\"outlinewidth\":0,\"ticks\":\"\"},\"colorscale\":[[0.0,\"#0d0887\"],[0.1111111111111111,\"#46039f\"],[0.2222222222222222,\"#7201a8\"],[0.3333333333333333,\"#9c179e\"],[0.4444444444444444,\"#bd3786\"],[0.5555555555555556,\"#d8576b\"],[0.6666666666666666,\"#ed7953\"],[0.7777777777777778,\"#fb9f3a\"],[0.8888888888888888,\"#fdca26\"],[1.0,\"#f0f921\"]]}],\"heatmapgl\":[{\"type\":\"heatmapgl\",\"colorbar\":{\"outlinewidth\":0,\"ticks\":\"\"},\"colorscale\":[[0.0,\"#0d0887\"],[0.1111111111111111,\"#46039f\"],[0.2222222222222222,\"#7201a8\"],[0.3333333333333333,\"#9c179e\"],[0.4444444444444444,\"#bd3786\"],[0.5555555555555556,\"#d8576b\"],[0.6666666666666666,\"#ed7953\"],[0.7777777777777778,\"#fb9f3a\"],[0.8888888888888888,\"#fdca26\"],[1.0,\"#f0f921\"]]}],\"contourcarpet\":[{\"type\":\"contourcarpet\",\"colorbar\":{\"outlinewidth\":0,\"ticks\":\"\"}}],\"contour\":[{\"type\":\"contour\",\"colorbar\":{\"outlinewidth\":0,\"ticks\":\"\"},\"colorscale\":[[0.0,\"#0d0887\"],[0.1111111111111111,\"#46039f\"],[0.2222222222222222,\"#7201a8\"],[0.3333333333333333,\"#9c179e\"],[0.4444444444444444,\"#bd3786\"],[0.5555555555555556,\"#d8576b\"],[0.6666666666666666,\"#ed7953\"],[0.7777777777777778,\"#fb9f3a\"],[0.8888888888888888,\"#fdca26\"],[1.0,\"#f0f921\"]]}],\"surface\":[{\"type\":\"surface\",\"colorbar\":{\"outlinewidth\":0,\"ticks\":\"\"},\"colorscale\":[[0.0,\"#0d0887\"],[0.1111111111111111,\"#46039f\"],[0.2222222222222222,\"#7201a8\"],[0.3333333333333333,\"#9c179e\"],[0.4444444444444444,\"#bd3786\"],[0.5555555555555556,\"#d8576b\"],[0.6666666666666666,\"#ed7953\"],[0.7777777777777778,\"#fb9f3a\"],[0.8888888888888888,\"#fdca26\"],[1.0,\"#f0f921\"]]}],\"mesh3d\":[{\"type\":\"mesh3d\",\"colorbar\":{\"outlinewidth\":0,\"ticks\":\"\"}}],\"scatter\":[{\"fillpattern\":{\"fillmode\":\"overlay\",\"size\":10,\"solidity\":0.2},\"type\":\"scatter\"}],\"parcoords\":[{\"type\":\"parcoords\",\"line\":{\"colorbar\":{\"outlinewidth\":0,\"ticks\":\"\"}}}],\"scatterpolargl\":[{\"type\":\"scatterpolargl\",\"marker\":{\"colorbar\":{\"outlinewidth\":0,\"ticks\":\"\"}}}],\"bar\":[{\"error_x\":{\"color\":\"#2a3f5f\"},\"error_y\":{\"color\":\"#2a3f5f\"},\"marker\":{\"line\":{\"color\":\"#E5ECF6\",\"width\":0.5},\"pattern\":{\"fillmode\":\"overlay\",\"size\":10,\"solidity\":0.2}},\"type\":\"bar\"}],\"scattergeo\":[{\"type\":\"scattergeo\",\"marker\":{\"colorbar\":{\"outlinewidth\":0,\"ticks\":\"\"}}}],\"scatterpolar\":[{\"type\":\"scatterpolar\",\"marker\":{\"colorbar\":{\"outlinewidth\":0,\"ticks\":\"\"}}}],\"histogram\":[{\"marker\":{\"pattern\":{\"fillmode\":\"overlay\",\"size\":10,\"solidity\":0.2}},\"type\":\"histogram\"}],\"scattergl\":[{\"type\":\"scattergl\",\"marker\":{\"colorbar\":{\"outlinewidth\":0,\"ticks\":\"\"}}}],\"scatter3d\":[{\"type\":\"scatter3d\",\"line\":{\"colorbar\":{\"outlinewidth\":0,\"ticks\":\"\"}},\"marker\":{\"colorbar\":{\"outlinewidth\":0,\"ticks\":\"\"}}}],\"scattermapbox\":[{\"type\":\"scattermapbox\",\"marker\":{\"colorbar\":{\"outlinewidth\":0,\"ticks\":\"\"}}}],\"scatterternary\":[{\"type\":\"scatterternary\",\"marker\":{\"colorbar\":{\"outlinewidth\":0,\"ticks\":\"\"}}}],\"scattercarpet\":[{\"type\":\"scattercarpet\",\"marker\":{\"colorbar\":{\"outlinewidth\":0,\"ticks\":\"\"}}}],\"carpet\":[{\"aaxis\":{\"endlinecolor\":\"#2a3f5f\",\"gridcolor\":\"white\",\"linecolor\":\"white\",\"minorgridcolor\":\"white\",\"startlinecolor\":\"#2a3f5f\"},\"baxis\":{\"endlinecolor\":\"#2a3f5f\",\"gridcolor\":\"white\",\"linecolor\":\"white\",\"minorgridcolor\":\"white\",\"startlinecolor\":\"#2a3f5f\"},\"type\":\"carpet\"}],\"table\":[{\"cells\":{\"fill\":{\"color\":\"#EBF0F8\"},\"line\":{\"color\":\"white\"}},\"header\":{\"fill\":{\"color\":\"#C8D4E3\"},\"line\":{\"color\":\"white\"}},\"type\":\"table\"}],\"barpolar\":[{\"marker\":{\"line\":{\"color\":\"#E5ECF6\",\"width\":0.5},\"pattern\":{\"fillmode\":\"overlay\",\"size\":10,\"solidity\":0.2}},\"type\":\"barpolar\"}],\"pie\":[{\"automargin\":true,\"type\":\"pie\"}]},\"layout\":{\"autotypenumbers\":\"strict\",\"colorway\":[\"#636efa\",\"#EF553B\",\"#00cc96\",\"#ab63fa\",\"#FFA15A\",\"#19d3f3\",\"#FF6692\",\"#B6E880\",\"#FF97FF\",\"#FECB52\"],\"font\":{\"color\":\"#2a3f5f\"},\"hovermode\":\"closest\",\"hoverlabel\":{\"align\":\"left\"},\"paper_bgcolor\":\"white\",\"plot_bgcolor\":\"#E5ECF6\",\"polar\":{\"bgcolor\":\"#E5ECF6\",\"angularaxis\":{\"gridcolor\":\"white\",\"linecolor\":\"white\",\"ticks\":\"\"},\"radialaxis\":{\"gridcolor\":\"white\",\"linecolor\":\"white\",\"ticks\":\"\"}},\"ternary\":{\"bgcolor\":\"#E5ECF6\",\"aaxis\":{\"gridcolor\":\"white\",\"linecolor\":\"white\",\"ticks\":\"\"},\"baxis\":{\"gridcolor\":\"white\",\"linecolor\":\"white\",\"ticks\":\"\"},\"caxis\":{\"gridcolor\":\"white\",\"linecolor\":\"white\",\"ticks\":\"\"}},\"coloraxis\":{\"colorbar\":{\"outlinewidth\":0,\"ticks\":\"\"}},\"colorscale\":{\"sequential\":[[0.0,\"#0d0887\"],[0.1111111111111111,\"#46039f\"],[0.2222222222222222,\"#7201a8\"],[0.3333333333333333,\"#9c179e\"],[0.4444444444444444,\"#bd3786\"],[0.5555555555555556,\"#d8576b\"],[0.6666666666666666,\"#ed7953\"],[0.7777777777777778,\"#fb9f3a\"],[0.8888888888888888,\"#fdca26\"],[1.0,\"#f0f921\"]],\"sequentialminus\":[[0.0,\"#0d0887\"],[0.1111111111111111,\"#46039f\"],[0.2222222222222222,\"#7201a8\"],[0.3333333333333333,\"#9c179e\"],[0.4444444444444444,\"#bd3786\"],[0.5555555555555556,\"#d8576b\"],[0.6666666666666666,\"#ed7953\"],[0.7777777777777778,\"#fb9f3a\"],[0.8888888888888888,\"#fdca26\"],[1.0,\"#f0f921\"]],\"diverging\":[[0,\"#8e0152\"],[0.1,\"#c51b7d\"],[0.2,\"#de77ae\"],[0.3,\"#f1b6da\"],[0.4,\"#fde0ef\"],[0.5,\"#f7f7f7\"],[0.6,\"#e6f5d0\"],[0.7,\"#b8e186\"],[0.8,\"#7fbc41\"],[0.9,\"#4d9221\"],[1,\"#276419\"]]},\"xaxis\":{\"gridcolor\":\"white\",\"linecolor\":\"white\",\"ticks\":\"\",\"title\":{\"standoff\":15},\"zerolinecolor\":\"white\",\"automargin\":true,\"zerolinewidth\":2},\"yaxis\":{\"gridcolor\":\"white\",\"linecolor\":\"white\",\"ticks\":\"\",\"title\":{\"standoff\":15},\"zerolinecolor\":\"white\",\"automargin\":true,\"zerolinewidth\":2},\"scene\":{\"xaxis\":{\"backgroundcolor\":\"#E5ECF6\",\"gridcolor\":\"white\",\"linecolor\":\"white\",\"showbackground\":true,\"ticks\":\"\",\"zerolinecolor\":\"white\",\"gridwidth\":2},\"yaxis\":{\"backgroundcolor\":\"#E5ECF6\",\"gridcolor\":\"white\",\"linecolor\":\"white\",\"showbackground\":true,\"ticks\":\"\",\"zerolinecolor\":\"white\",\"gridwidth\":2},\"zaxis\":{\"backgroundcolor\":\"#E5ECF6\",\"gridcolor\":\"white\",\"linecolor\":\"white\",\"showbackground\":true,\"ticks\":\"\",\"zerolinecolor\":\"white\",\"gridwidth\":2}},\"shapedefaults\":{\"line\":{\"color\":\"#2a3f5f\"}},\"annotationdefaults\":{\"arrowcolor\":\"#2a3f5f\",\"arrowhead\":0,\"arrowwidth\":1},\"geo\":{\"bgcolor\":\"white\",\"landcolor\":\"#E5ECF6\",\"subunitcolor\":\"white\",\"showland\":true,\"showlakes\":true,\"lakecolor\":\"white\"},\"title\":{\"x\":0.05},\"mapbox\":{\"style\":\"light\"}}},\"yaxis\":{\"title\":{\"text\":\"Companies Offering Remote Positions\"},\"autorange\":\"reversed\"},\"title\":{\"text\":\"Top Companies Offering Remote Positions\"},\"xaxis\":{\"title\":{\"text\":\"Frequency\"}}},                        {\"responsive\": true}                    ).then(function(){\n",
       "                            \n",
       "var gd = document.getElementById('a082cdf0-182d-4afc-8ac2-66c873211a0a');\n",
       "var x = new MutationObserver(function (mutations, observer) {{\n",
       "        var display = window.getComputedStyle(gd).display;\n",
       "        if (!display || display === 'none') {{\n",
       "            console.log([gd, 'removed!']);\n",
       "            Plotly.purge(gd);\n",
       "            observer.disconnect();\n",
       "        }}\n",
       "}});\n",
       "\n",
       "// Listen for the removal of the full notebook cells\n",
       "var notebookContainer = gd.closest('#notebook-container');\n",
       "if (notebookContainer) {{\n",
       "    x.observe(notebookContainer, {childList: true});\n",
       "}}\n",
       "\n",
       "// Listen for the clearing of the current output cell\n",
       "var outputEl = gd.closest('.output');\n",
       "if (outputEl) {{\n",
       "    x.observe(outputEl, {childList: true});\n",
       "}}\n",
       "\n",
       "                        })                };                });            </script>        </div>"
      ]
     },
     "metadata": {},
     "output_type": "display_data"
    }
   ],
   "source": [
    "import plotly.graph_objects as go\n",
    "\n",
    "# Assuming top_companies_offering_remote_roles is a DataFrame\n",
    "labels = top_companies_offering_remote_roles['location'] + '(' + top_companies_offering_remote_roles['company'] + ')'\n",
    "frequencies = top_companies_offering_remote_roles['frequency']\n",
    "\n",
    "fig = go.Figure()\n",
    "\n",
    "fig.add_trace(go.Bar(\n",
    "    y=labels,\n",
    "    x=frequencies,\n",
    "    orientation='h',\n",
    "    marker=dict(color='skyblue')\n",
    "))\n",
    "\n",
    "fig.update_layout(\n",
    "    title='Top Companies Offering Remote Positions',\n",
    "    xaxis_title='Frequency',\n",
    "    yaxis_title='Companies Offering Remote Positions',\n",
    "    yaxis=dict(autorange='reversed')  # Highest frequencies on top\n",
    ")\n",
    "\n",
    "fig.show()\n"
   ]
  },
  {
   "cell_type": "markdown",
   "id": "88a51f61-b2c1-4560-8dfb-451e1daf4ce3",
   "metadata": {},
   "source": []
  },
  {
   "cell_type": "code",
   "execution_count": null,
   "id": "5f168d21-c7d5-4227-87ab-5960d597bf7e",
   "metadata": {},
   "outputs": [],
   "source": []
  },
  {
   "cell_type": "code",
   "execution_count": null,
   "id": "bd099df2-858c-4ba4-9e16-e1aa374451ec",
   "metadata": {},
   "outputs": [],
   "source": []
  },
  {
   "cell_type": "code",
   "execution_count": null,
   "id": "0b7375e1-0b99-47e5-925b-3f95517f1de3",
   "metadata": {},
   "outputs": [],
   "source": []
  },
  {
   "cell_type": "code",
   "execution_count": null,
   "id": "a818007b-722f-4db7-af7a-ba0562adcae0",
   "metadata": {},
   "outputs": [],
   "source": []
  }
 ],
 "metadata": {
  "kernelspec": {
   "display_name": "Python 3 (ipykernel)",
   "language": "python",
   "name": "python3"
  },
  "language_info": {
   "codemirror_mode": {
    "name": "ipython",
    "version": 3
   },
   "file_extension": ".py",
   "mimetype": "text/x-python",
   "name": "python",
   "nbconvert_exporter": "python",
   "pygments_lexer": "ipython3",
   "version": "3.11.3"
  }
 },
 "nbformat": 4,
 "nbformat_minor": 5
}
