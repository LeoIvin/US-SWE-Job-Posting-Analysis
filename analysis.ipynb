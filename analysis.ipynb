{
 "cells": [
  {
   "cell_type": "markdown",
   "id": "c296c6a1-fef0-4f1e-9a8f-5c81f09d5985",
   "metadata": {},
   "source": [
    "**Dataset link**: https://www.kaggle.com/datasets/mexwell/us-software-engineer-jobs"
   ]
  },
  {
   "cell_type": "code",
   "execution_count": 39,
   "id": "3a6b137c-a7d9-4436-894a-96beffba6897",
   "metadata": {},
   "outputs": [],
   "source": [
    "import pandas as pd\n",
    "from bokeh.plotting import figure, show\n",
    "import matplotlib.pyplot as plt"
   ]
  },
  {
   "cell_type": "markdown",
   "id": "af948008-f574-4338-bfcc-505464ecf7d9",
   "metadata": {},
   "source": [
    "### Data Preparation"
   ]
  },
  {
   "cell_type": "code",
   "execution_count": 5,
   "id": "9c3f533c-920b-4c65-aa85-4c0491840ef7",
   "metadata": {},
   "outputs": [],
   "source": [
    "# data = pd.read_csv('data/us-software-engineer-jobs-zenrows.csv')"
   ]
  },
  {
   "cell_type": "code",
   "execution_count": 9,
   "id": "3b92a830-ef09-4c79-b428-a26f6b4cf801",
   "metadata": {},
   "outputs": [
    {
     "data": {
      "text/html": [
       "<div>\n",
       "<style scoped>\n",
       "    .dataframe tbody tr th:only-of-type {\n",
       "        vertical-align: middle;\n",
       "    }\n",
       "\n",
       "    .dataframe tbody tr th {\n",
       "        vertical-align: top;\n",
       "    }\n",
       "\n",
       "    .dataframe thead th {\n",
       "        text-align: right;\n",
       "    }\n",
       "</style>\n",
       "<table border=\"1\" class=\"dataframe\">\n",
       "  <thead>\n",
       "    <tr style=\"text-align: right;\">\n",
       "      <th></th>\n",
       "      <th>title</th>\n",
       "      <th>company</th>\n",
       "      <th>salary</th>\n",
       "      <th>rating</th>\n",
       "      <th>review_count</th>\n",
       "      <th>types</th>\n",
       "      <th>location</th>\n",
       "      <th>relative_time</th>\n",
       "      <th>hires_needed</th>\n",
       "      <th>hires_needed_exact</th>\n",
       "      <th>...</th>\n",
       "      <th>indeed_applyable</th>\n",
       "      <th>ad_id</th>\n",
       "      <th>remote_location</th>\n",
       "      <th>source_id</th>\n",
       "      <th>hiring_event_job</th>\n",
       "      <th>indeed_apply_enabled</th>\n",
       "      <th>job_location_postal</th>\n",
       "      <th>company_overview_link</th>\n",
       "      <th>activity_date</th>\n",
       "      <th>location_extras</th>\n",
       "    </tr>\n",
       "  </thead>\n",
       "  <tbody>\n",
       "    <tr>\n",
       "      <th>0</th>\n",
       "      <td>Android Developer</td>\n",
       "      <td>Shockoe</td>\n",
       "      <td>NaN</td>\n",
       "      <td>0.0</td>\n",
       "      <td>0</td>\n",
       "      <td>Full-time</td>\n",
       "      <td>Richmond, VA</td>\n",
       "      <td>30+ days ago</td>\n",
       "      <td>NaN</td>\n",
       "      <td>NaN</td>\n",
       "      <td>...</td>\n",
       "      <td>False</td>\n",
       "      <td>NaN</td>\n",
       "      <td>False</td>\n",
       "      <td>11706594</td>\n",
       "      <td>False</td>\n",
       "      <td>False</td>\n",
       "      <td>NaN</td>\n",
       "      <td>NaN</td>\n",
       "      <td>NaN</td>\n",
       "      <td>NaN</td>\n",
       "    </tr>\n",
       "    <tr>\n",
       "      <th>1</th>\n",
       "      <td>Web Developer</td>\n",
       "      <td>Denios, Inc.</td>\n",
       "      <td>$45,000 - $55,000 a year</td>\n",
       "      <td>0.0</td>\n",
       "      <td>0</td>\n",
       "      <td>Full-time</td>\n",
       "      <td>Louisville, KY</td>\n",
       "      <td>30+ days ago</td>\n",
       "      <td>ONE</td>\n",
       "      <td>1</td>\n",
       "      <td>...</td>\n",
       "      <td>True</td>\n",
       "      <td>370154371.0</td>\n",
       "      <td>False</td>\n",
       "      <td>11468052</td>\n",
       "      <td>False</td>\n",
       "      <td>True</td>\n",
       "      <td>40219.0</td>\n",
       "      <td>NaN</td>\n",
       "      <td>Active 2 days ago</td>\n",
       "      <td>NaN</td>\n",
       "    </tr>\n",
       "    <tr>\n",
       "      <th>2</th>\n",
       "      <td>Sr. Android Developer</td>\n",
       "      <td>The Cervantes Group</td>\n",
       "      <td>NaN</td>\n",
       "      <td>4.1</td>\n",
       "      <td>22</td>\n",
       "      <td>Full-time</td>\n",
       "      <td>Remote</td>\n",
       "      <td>6 days ago</td>\n",
       "      <td>TWO_FOUR</td>\n",
       "      <td>2</td>\n",
       "      <td>...</td>\n",
       "      <td>True</td>\n",
       "      <td>NaN</td>\n",
       "      <td>False</td>\n",
       "      <td>9570478</td>\n",
       "      <td>False</td>\n",
       "      <td>True</td>\n",
       "      <td>NaN</td>\n",
       "      <td>/cmp/The-Cervantes-Group</td>\n",
       "      <td>Active 3 days ago</td>\n",
       "      <td>NaN</td>\n",
       "    </tr>\n",
       "    <tr>\n",
       "      <th>3</th>\n",
       "      <td>Junior Software Engineer</td>\n",
       "      <td>Medical Knowledge Group</td>\n",
       "      <td>NaN</td>\n",
       "      <td>0.0</td>\n",
       "      <td>0</td>\n",
       "      <td>Full-time</td>\n",
       "      <td>Remote</td>\n",
       "      <td>8 days ago</td>\n",
       "      <td>ONE</td>\n",
       "      <td>1</td>\n",
       "      <td>...</td>\n",
       "      <td>True</td>\n",
       "      <td>368864426.0</td>\n",
       "      <td>False</td>\n",
       "      <td>501562</td>\n",
       "      <td>False</td>\n",
       "      <td>True</td>\n",
       "      <td>NaN</td>\n",
       "      <td>NaN</td>\n",
       "      <td>Active 3 days ago</td>\n",
       "      <td>NaN</td>\n",
       "    </tr>\n",
       "    <tr>\n",
       "      <th>4</th>\n",
       "      <td>Cloud Engineer (Software Engineer Advanced, Ex...</td>\n",
       "      <td>Federal Reserve Bank of New York</td>\n",
       "      <td>NaN</td>\n",
       "      <td>4.1</td>\n",
       "      <td>548</td>\n",
       "      <td>Full-time</td>\n",
       "      <td>Kansas City, MO</td>\n",
       "      <td>2 days ago</td>\n",
       "      <td>NaN</td>\n",
       "      <td>NaN</td>\n",
       "      <td>...</td>\n",
       "      <td>False</td>\n",
       "      <td>NaN</td>\n",
       "      <td>False</td>\n",
       "      <td>1439</td>\n",
       "      <td>False</td>\n",
       "      <td>False</td>\n",
       "      <td>NaN</td>\n",
       "      <td>/cmp/Federal-Reserve-Bank-of-New-York</td>\n",
       "      <td>NaN</td>\n",
       "      <td>NaN</td>\n",
       "    </tr>\n",
       "  </tbody>\n",
       "</table>\n",
       "<p>5 rows × 29 columns</p>\n",
       "</div>"
      ],
      "text/plain": [
       "                                               title  \\\n",
       "0                                  Android Developer   \n",
       "1                                      Web Developer   \n",
       "2                              Sr. Android Developer   \n",
       "3                           Junior Software Engineer   \n",
       "4  Cloud Engineer (Software Engineer Advanced, Ex...   \n",
       "\n",
       "                            company                    salary  rating  \\\n",
       "0                           Shockoe                       NaN     0.0   \n",
       "1                      Denios, Inc.  $45,000 - $55,000 a year     0.0   \n",
       "2               The Cervantes Group                       NaN     4.1   \n",
       "3           Medical Knowledge Group                       NaN     0.0   \n",
       "4  Federal Reserve Bank of New York                       NaN     4.1   \n",
       "\n",
       "   review_count      types         location relative_time hires_needed  \\\n",
       "0             0  Full-time     Richmond, VA  30+ days ago          NaN   \n",
       "1             0  Full-time   Louisville, KY  30+ days ago          ONE   \n",
       "2            22  Full-time           Remote    6 days ago     TWO_FOUR   \n",
       "3             0  Full-time           Remote    8 days ago          ONE   \n",
       "4           548  Full-time  Kansas City, MO    2 days ago          NaN   \n",
       "\n",
       "  hires_needed_exact  ...  indeed_applyable        ad_id remote_location  \\\n",
       "0                NaN  ...             False          NaN           False   \n",
       "1                  1  ...              True  370154371.0           False   \n",
       "2                  2  ...              True          NaN           False   \n",
       "3                  1  ...              True  368864426.0           False   \n",
       "4                NaN  ...             False          NaN           False   \n",
       "\n",
       "   source_id hiring_event_job  indeed_apply_enabled job_location_postal  \\\n",
       "0   11706594            False                 False                 NaN   \n",
       "1   11468052            False                  True             40219.0   \n",
       "2    9570478            False                  True                 NaN   \n",
       "3     501562            False                  True                 NaN   \n",
       "4       1439            False                 False                 NaN   \n",
       "\n",
       "                   company_overview_link      activity_date  location_extras  \n",
       "0                                    NaN                NaN              NaN  \n",
       "1                                    NaN  Active 2 days ago              NaN  \n",
       "2               /cmp/The-Cervantes-Group  Active 3 days ago              NaN  \n",
       "3                                    NaN  Active 3 days ago              NaN  \n",
       "4  /cmp/Federal-Reserve-Bank-of-New-York                NaN              NaN  \n",
       "\n",
       "[5 rows x 29 columns]"
      ]
     },
     "execution_count": 9,
     "metadata": {},
     "output_type": "execute_result"
    }
   ],
   "source": [
    "# data.head()"
   ]
  },
  {
   "cell_type": "code",
   "execution_count": 10,
   "id": "388b4a5f-71c5-42f5-be8d-fa9ed5af0614",
   "metadata": {},
   "outputs": [
    {
     "name": "stdout",
     "output_type": "stream",
     "text": [
      "Index(['title', 'company', 'salary', 'rating', 'review_count', 'types',\n",
      "       'location', 'relative_time', 'hires_needed', 'hires_needed_exact',\n",
      "       'urgently_hiring', 'remote_work_model', 'snippet', 'dradis_job', 'link',\n",
      "       'new_job', 'job_link', 'sponsored', 'featured_employer',\n",
      "       'indeed_applyable', 'ad_id', 'remote_location', 'source_id',\n",
      "       'hiring_event_job', 'indeed_apply_enabled', 'job_location_postal',\n",
      "       'company_overview_link', 'activity_date', 'location_extras'],\n",
      "      dtype='object')\n"
     ]
    }
   ],
   "source": [
    "# print(data.columns)"
   ]
  },
  {
   "cell_type": "code",
   "execution_count": 11,
   "id": "14570f7c-bcea-4353-ac96-5b0c30d2742e",
   "metadata": {},
   "outputs": [],
   "source": [
    "# data = data[['title', 'company', 'salary',  'types', 'location', 'relative_time', 'remote_location']]"
   ]
  },
  {
   "cell_type": "code",
   "execution_count": 13,
   "id": "161cb036-1f6e-4f5a-abbf-b4428d7ba46a",
   "metadata": {},
   "outputs": [
    {
     "data": {
      "text/html": [
       "<div>\n",
       "<style scoped>\n",
       "    .dataframe tbody tr th:only-of-type {\n",
       "        vertical-align: middle;\n",
       "    }\n",
       "\n",
       "    .dataframe tbody tr th {\n",
       "        vertical-align: top;\n",
       "    }\n",
       "\n",
       "    .dataframe thead th {\n",
       "        text-align: right;\n",
       "    }\n",
       "</style>\n",
       "<table border=\"1\" class=\"dataframe\">\n",
       "  <thead>\n",
       "    <tr style=\"text-align: right;\">\n",
       "      <th></th>\n",
       "      <th>title</th>\n",
       "      <th>company</th>\n",
       "      <th>salary</th>\n",
       "      <th>types</th>\n",
       "      <th>location</th>\n",
       "      <th>relative_time</th>\n",
       "      <th>remote_location</th>\n",
       "    </tr>\n",
       "  </thead>\n",
       "  <tbody>\n",
       "    <tr>\n",
       "      <th>0</th>\n",
       "      <td>Android Developer</td>\n",
       "      <td>Shockoe</td>\n",
       "      <td>NaN</td>\n",
       "      <td>Full-time</td>\n",
       "      <td>Richmond, VA</td>\n",
       "      <td>30+ days ago</td>\n",
       "      <td>False</td>\n",
       "    </tr>\n",
       "    <tr>\n",
       "      <th>1</th>\n",
       "      <td>Web Developer</td>\n",
       "      <td>Denios, Inc.</td>\n",
       "      <td>$45,000 - $55,000 a year</td>\n",
       "      <td>Full-time</td>\n",
       "      <td>Louisville, KY</td>\n",
       "      <td>30+ days ago</td>\n",
       "      <td>False</td>\n",
       "    </tr>\n",
       "    <tr>\n",
       "      <th>2</th>\n",
       "      <td>Sr. Android Developer</td>\n",
       "      <td>The Cervantes Group</td>\n",
       "      <td>NaN</td>\n",
       "      <td>Full-time</td>\n",
       "      <td>Remote</td>\n",
       "      <td>6 days ago</td>\n",
       "      <td>False</td>\n",
       "    </tr>\n",
       "    <tr>\n",
       "      <th>3</th>\n",
       "      <td>Junior Software Engineer</td>\n",
       "      <td>Medical Knowledge Group</td>\n",
       "      <td>NaN</td>\n",
       "      <td>Full-time</td>\n",
       "      <td>Remote</td>\n",
       "      <td>8 days ago</td>\n",
       "      <td>False</td>\n",
       "    </tr>\n",
       "    <tr>\n",
       "      <th>4</th>\n",
       "      <td>Cloud Engineer (Software Engineer Advanced, Ex...</td>\n",
       "      <td>Federal Reserve Bank of New York</td>\n",
       "      <td>NaN</td>\n",
       "      <td>Full-time</td>\n",
       "      <td>Kansas City, MO</td>\n",
       "      <td>2 days ago</td>\n",
       "      <td>False</td>\n",
       "    </tr>\n",
       "  </tbody>\n",
       "</table>\n",
       "</div>"
      ],
      "text/plain": [
       "                                               title  \\\n",
       "0                                  Android Developer   \n",
       "1                                      Web Developer   \n",
       "2                              Sr. Android Developer   \n",
       "3                           Junior Software Engineer   \n",
       "4  Cloud Engineer (Software Engineer Advanced, Ex...   \n",
       "\n",
       "                            company                    salary      types  \\\n",
       "0                           Shockoe                       NaN  Full-time   \n",
       "1                      Denios, Inc.  $45,000 - $55,000 a year  Full-time   \n",
       "2               The Cervantes Group                       NaN  Full-time   \n",
       "3           Medical Knowledge Group                       NaN  Full-time   \n",
       "4  Federal Reserve Bank of New York                       NaN  Full-time   \n",
       "\n",
       "          location relative_time  remote_location  \n",
       "0     Richmond, VA  30+ days ago            False  \n",
       "1   Louisville, KY  30+ days ago            False  \n",
       "2           Remote    6 days ago            False  \n",
       "3           Remote    8 days ago            False  \n",
       "4  Kansas City, MO    2 days ago            False  "
      ]
     },
     "execution_count": 13,
     "metadata": {},
     "output_type": "execute_result"
    }
   ],
   "source": [
    "# data.head()"
   ]
  },
  {
   "cell_type": "code",
   "execution_count": 25,
   "id": "0e0a7680-6310-4879-8b69-b8fe7fc14b59",
   "metadata": {},
   "outputs": [
    {
     "data": {
      "text/plain": [
       "42070"
      ]
     },
     "execution_count": 25,
     "metadata": {},
     "output_type": "execute_result"
    }
   ],
   "source": [
    "# nan = data[data.isna().any(axis=1)]\n",
    "# len(nan)"
   ]
  },
  {
   "cell_type": "code",
   "execution_count": 26,
   "id": "faf47e5a-8c04-4417-ad8a-f98034b9bf25",
   "metadata": {},
   "outputs": [
    {
     "data": {
      "text/plain": [
       "16363"
      ]
     },
     "execution_count": 26,
     "metadata": {},
     "output_type": "execute_result"
    }
   ],
   "source": [
    "# len(data['salary']) - len(nan)"
   ]
  },
  {
   "cell_type": "markdown",
   "id": "0764688c-c286-42eb-92b3-bfb9d7cbd9cb",
   "metadata": {},
   "source": [
    "### Create 2 new csvs, one without NaN values at all and one with filled NaN values"
   ]
  },
  {
   "cell_type": "code",
   "execution_count": 28,
   "id": "38ad31a5-bfb1-4735-ad1b-857cec1831a2",
   "metadata": {},
   "outputs": [],
   "source": [
    "# data = data.dropna()"
   ]
  },
  {
   "cell_type": "code",
   "execution_count": 29,
   "id": "7e9df972-20e5-49ef-a4fc-065ad62e9bb5",
   "metadata": {},
   "outputs": [
    {
     "data": {
      "text/plain": [
       "(16363, 7)"
      ]
     },
     "execution_count": 29,
     "metadata": {},
     "output_type": "execute_result"
    }
   ],
   "source": [
    "# data.shape"
   ]
  },
  {
   "cell_type": "code",
   "execution_count": 31,
   "id": "1af576ad-0b3c-4f6e-a184-997f14e30d68",
   "metadata": {},
   "outputs": [],
   "source": [
    "# data.to_csv('data/us-software-engineer-jobs-zenrows (no NaN).csv')"
   ]
  },
  {
   "cell_type": "markdown",
   "id": "547f5846-511e-4ebd-ad46-70ed9aa8b5e2",
   "metadata": {},
   "source": [
    "## Exploratory Data Analysis\n",
    "### Questiones to be answered\n",
    "\n",
    "1. **Job Title Analysis:**\r\n",
    "   - What are the most common job titles in software engineering roles?\r\n",
    "   - How do job titles vary by location or company?\r\n",
    "\r\n",
    "2. **Salary Analysis:**\r\n",
    "   - What is the distribution of salaries across different software engineering roles?\r\n",
    "   - How do salaries vary by job type (e.g., full-time, part-time, contract)?\r\n",
    "   - Are there salary differences based on location or remote work options?\r\n",
    "\r\n",
    "3. **Company Analysis:**\r\n",
    "   - Which companies are posting the most software engineerinilar roles?\r\n",
    "   - What are the top companies offering remote positions?\r\n",
    "\r\n",
    "4. **Job Type Analysis:**\r\n",
    "   - What is the distribution of job types (e.g., full-time, part-time, contract)?\r\n",
    "   - How does the job type influence salary or location?\r\n",
    "\r\n",
    "5. **Location Analysis:**\r\n",
    "   - What are the most common locations for software engineering roles?\r\n",
    "   - How does the location impact salary?\r\n",
    "   - Which locations offer the most remotfe6ent times of the year?\r\n",
    "\r\n",
    "7. **Remote Work Analysis:**\r\n",
    "   - What proportion of job ads offer remote work options?\r\n",
    "   - How do remote job opportunities vary by location or company?\r\n",
    "   - Is there a salary difference between 7emote and non-remote roles?\r\n",
    "\r\n",
    "8. **Correlation Analysis:**\r\n",
    "   - What are the correlations between salary, job type, location, and remote work options?\r\n",
    "   - How do these f8ctors interact with each other?\r\n",
    "\r\n",
    "9. **Job Market Trends:**\r\n",
    "   - What are the emerging trends in software engineering roles based on job titles, locations, and remote work?\r\n",
    "   - Are there any significant changes in demand for certain skills or job types?\r\n"
   ]
  },
  {
   "cell_type": "code",
   "execution_count": 18,
   "id": "3cb04055-bf80-4668-95b8-a841b7966501",
   "metadata": {},
   "outputs": [],
   "source": [
    "cleaned_jobs_df = pd.read_csv('data/us-software-engineer-jobs-zenrows (no NaN).csv')"
   ]
  },
  {
   "cell_type": "code",
   "execution_count": 19,
   "id": "de4e8746-823e-4b6a-8cc2-d9b4d11d2997",
   "metadata": {},
   "outputs": [],
   "source": [
    "filled_nan_jobs_df = pd.read_csv('data/us-software-engineer-jobs-zenrows (filled NaN).csv')"
   ]
  },
  {
   "cell_type": "code",
   "execution_count": 20,
   "id": "89f9285e-c5e9-4a74-9de6-1585f1cc2da5",
   "metadata": {},
   "outputs": [
    {
     "data": {
      "text/plain": [
       "0            1\n",
       "1            7\n",
       "2           14\n",
       "3           17\n",
       "4           19\n",
       "         ...  \n",
       "16358    58417\n",
       "16359    58420\n",
       "16360    58423\n",
       "16361    58424\n",
       "16362    58425\n",
       "Name: Unnamed: 0, Length: 16363, dtype: int64"
      ]
     },
     "execution_count": 20,
     "metadata": {},
     "output_type": "execute_result"
    }
   ],
   "source": [
    "# cleaned_jobs_df.pop('Unnamed: 0')"
   ]
  },
  {
   "cell_type": "code",
   "execution_count": 24,
   "id": "3cfda982-7d26-4d5c-b97d-747e33fb6b0b",
   "metadata": {},
   "outputs": [
    {
     "data": {
      "text/html": [
       "<div>\n",
       "<style scoped>\n",
       "    .dataframe tbody tr th:only-of-type {\n",
       "        vertical-align: middle;\n",
       "    }\n",
       "\n",
       "    .dataframe tbody tr th {\n",
       "        vertical-align: top;\n",
       "    }\n",
       "\n",
       "    .dataframe thead th {\n",
       "        text-align: right;\n",
       "    }\n",
       "</style>\n",
       "<table border=\"1\" class=\"dataframe\">\n",
       "  <thead>\n",
       "    <tr style=\"text-align: right;\">\n",
       "      <th></th>\n",
       "      <th>title</th>\n",
       "      <th>company</th>\n",
       "      <th>salary</th>\n",
       "      <th>types</th>\n",
       "      <th>location</th>\n",
       "      <th>relative_time</th>\n",
       "      <th>remote_location</th>\n",
       "    </tr>\n",
       "  </thead>\n",
       "  <tbody>\n",
       "    <tr>\n",
       "      <th>0</th>\n",
       "      <td>Web Developer</td>\n",
       "      <td>Denios, Inc.</td>\n",
       "      <td>$45,000 - $55,000 a year</td>\n",
       "      <td>Full-time</td>\n",
       "      <td>Louisville, KY</td>\n",
       "      <td>30+ days ago</td>\n",
       "      <td>False</td>\n",
       "    </tr>\n",
       "    <tr>\n",
       "      <th>1</th>\n",
       "      <td>Real-Time, Embedded Software Engineer</td>\n",
       "      <td>Checkmate Partners</td>\n",
       "      <td>$100,000 - $200,000 a year</td>\n",
       "      <td>Full-time</td>\n",
       "      <td>San Francisco Bay Area, CA</td>\n",
       "      <td>5 days ago</td>\n",
       "      <td>False</td>\n",
       "    </tr>\n",
       "    <tr>\n",
       "      <th>2</th>\n",
       "      <td>Cyber Security Operation Center Manager (SOC)</td>\n",
       "      <td>Goliath Solutions Group</td>\n",
       "      <td>$15 - $20 an hour</td>\n",
       "      <td>Full-time</td>\n",
       "      <td>Fairview, TX</td>\n",
       "      <td>27 days ago</td>\n",
       "      <td>False</td>\n",
       "    </tr>\n",
       "    <tr>\n",
       "      <th>3</th>\n",
       "      <td>DevOps Engineer - Very Profitable Start-up</td>\n",
       "      <td>TechTalent NW</td>\n",
       "      <td>$125,000 - $170,000 a year</td>\n",
       "      <td>Full-time</td>\n",
       "      <td>Bellevue, WA</td>\n",
       "      <td>1 day ago</td>\n",
       "      <td>False</td>\n",
       "    </tr>\n",
       "    <tr>\n",
       "      <th>4</th>\n",
       "      <td>Lead Software/Java Engineer</td>\n",
       "      <td>Bectran</td>\n",
       "      <td>$90,000 - $130,000 a year</td>\n",
       "      <td>Full-time</td>\n",
       "      <td>Chicago, IL</td>\n",
       "      <td>7 days ago</td>\n",
       "      <td>False</td>\n",
       "    </tr>\n",
       "  </tbody>\n",
       "</table>\n",
       "</div>"
      ],
      "text/plain": [
       "                                           title                  company  \\\n",
       "0                                  Web Developer             Denios, Inc.   \n",
       "1          Real-Time, Embedded Software Engineer       Checkmate Partners   \n",
       "2  Cyber Security Operation Center Manager (SOC)  Goliath Solutions Group   \n",
       "3     DevOps Engineer - Very Profitable Start-up            TechTalent NW   \n",
       "4                    Lead Software/Java Engineer                  Bectran   \n",
       "\n",
       "                       salary      types                    location  \\\n",
       "0    $45,000 - $55,000 a year  Full-time              Louisville, KY   \n",
       "1  $100,000 - $200,000 a year  Full-time  San Francisco Bay Area, CA   \n",
       "2           $15 - $20 an hour  Full-time                Fairview, TX   \n",
       "3  $125,000 - $170,000 a year  Full-time                Bellevue, WA   \n",
       "4   $90,000 - $130,000 a year  Full-time                 Chicago, IL   \n",
       "\n",
       "  relative_time  remote_location  \n",
       "0  30+ days ago            False  \n",
       "1    5 days ago            False  \n",
       "2   27 days ago            False  \n",
       "3     1 day ago            False  \n",
       "4    7 days ago            False  "
      ]
     },
     "execution_count": 24,
     "metadata": {},
     "output_type": "execute_result"
    }
   ],
   "source": [
    "cleaned_jobs_df.head(5)"
   ]
  },
  {
   "cell_type": "code",
   "execution_count": null,
   "id": "7b3f71b4-2378-403d-8c5d-33ee3691e2ba",
   "metadata": {},
   "outputs": [],
   "source": [
    "[salary_hour for salary_hour in cleaned_jobs_df['salary'] if 'hour' in salary_hour]"
   ]
  },
  {
   "cell_type": "code",
   "execution_count": null,
   "id": "c2a48bd4-d0de-4022-b1ca-0308f51c7f83",
   "metadata": {},
   "outputs": [],
   "source": [
    "[salary_year for salary_year in cleaned_jobs_df['salary'] if 'year' in salary_year]"
   ]
  },
  {
   "cell_type": "markdown",
   "id": "70cd86dc-1715-4e50-bd36-d9bc1432f357",
   "metadata": {},
   "source": [
    "**Job Title Analysis:**\n",
    "   - What are the most common job titles in software engineering roles?\n",
    "   - How do job titles vary by location or company?"
   ]
  },
  {
   "cell_type": "code",
   "execution_count": 26,
   "id": "d8f0be81-cd2d-45be-b34c-c02faaf93f32",
   "metadata": {},
   "outputs": [
    {
     "data": {
      "text/plain": [
       "2883"
      ]
     },
     "execution_count": 26,
     "metadata": {},
     "output_type": "execute_result"
    }
   ],
   "source": [
    "# list of job titles\n",
    "titles = [title for title in cleaned_jobs_df['title'].unique()]\n",
    "len(titles) # 2883"
   ]
  },
  {
   "cell_type": "code",
   "execution_count": 63,
   "id": "972f84a1-4cc8-4893-a5a4-cef95fe9eacc",
   "metadata": {},
   "outputs": [
    {
     "data": {
      "text/plain": [
       "title\n",
       "Senior Software Engineer    1106\n",
       "Software Engineer           1095\n",
       "Sr. Software Engineer        292\n",
       "Software Developer           275\n",
       "Full Stack Developer         201\n",
       "Name: count, dtype: int64"
      ]
     },
     "execution_count": 63,
     "metadata": {},
     "output_type": "execute_result"
    }
   ],
   "source": [
    "common_titles = cleaned_jobs_df['title'].value_counts().head(5)\n",
    "common_titles"
   ]
  },
  {
   "cell_type": "code",
   "execution_count": 72,
   "id": "a10a186d-deff-4c82-8b79-41516c147d0b",
   "metadata": {},
   "outputs": [
    {
     "data": {
      "image/png": "[encoded data removed]",
      "text/plain": [
       "<Figure size 1000x600 with 1 Axes>"
      ]
     },
     "metadata": {},
     "output_type": "display_data"
    }
   ],
   "source": [
    "# Plotting the line chart\n",
    "plt.figure(figsize=(10, 6))\n",
    "plt.plot(common_titles.index, common_titles.values, marker='o', linestyle='-', color='r')\n",
    "\n",
    "# Adding titles and labels\n",
    "plt.title('Top 10 Most Common Job Titles', fontsize=13)\n",
    "plt.xlabel('Job Titles', fontsize=12)\n",
    "plt.ylabel('Number of Occurrences', fontsize=14)\n",
    "plt.xticks(rotation=45, ha='right')  # Rotate x-axis labels for better readability\n",
    "plt.grid(True)"
   ]
  },
  {
   "cell_type": "code",
   "execution_count": 81,
   "id": "3d1508ba-3209-4282-bf06-ba5ee5262223",
   "metadata": {},
   "outputs": [
    {
     "data": {
      "image/png": "[encoded data removed]",
      "text/plain": [
       "<Figure size 1000x600 with 1 Axes>"
      ]
     },
     "metadata": {},
     "output_type": "display_data"
    }
   ],
   "source": [
    "plt.figure(figsize=(10, 6))\n",
    "plt.bar(common_titles.index, common_titles.values, color='g')\n",
    "plt.title('Top 10 Most Common Job Titles', fontsize=10)\n",
    "plt.xlabel('Job Titles', fontsize=10)\n",
    "plt.ylabel('Number of Occurrences', fontsize=10)\n",
    "plt.xticks(rotation=45, ha='right')\n",
    "plt.show()"
   ]
  },
  {
   "cell_type": "markdown",
   "id": "e857164a-e581-43a5-8032-5e23cbeac8db",
   "metadata": {},
   "source": [
    "### How do job titles vary by location?"
   ]
  },
  {
   "cell_type": "code",
   "execution_count": null,
   "id": "e09ed480-42c8-4429-a3e3-1f8cbc22847e",
   "metadata": {},
   "outputs": [],
   "source": [
    "location = [location for location in cleaned_jobs_df['location'].unique()]\n",
    "location"
   ]
  },
  {
   "cell_type": "code",
   "execution_count": null,
   "id": "99747944-81f7-4f83-b384-30ed47960a66",
   "metadata": {},
   "outputs": [],
   "source": [
    "company = [company for company in cleaned_jobs_df['company'].unique()]\n",
    "company"
   ]
  },
  {
   "cell_type": "code",
   "execution_count": null,
   "id": "2cabfd2e-aaf6-4cf2-a624-512d67c896ee",
   "metadata": {},
   "outputs": [],
   "source": [
    "jobs_by_location = cleaned_jobs_df[['title', 'location']].value_counts().head(50)\n",
    "jobs_by_location"
   ]
  },
  {
   "cell_type": "code",
   "execution_count": 93,
   "id": "45608e36-3040-4601-85aa-301a03a44943",
   "metadata": {},
   "outputs": [
    {
     "ename": "TypeError",
     "evalue": "'value' must be an instance of str or bytes, not a tuple",
     "output_type": "error",
     "traceback": [
      "\u001b[1;31m---------------------------------------------------------------------------\u001b[0m",
      "\u001b[1;31mTypeError\u001b[0m                                 Traceback (most recent call last)",
      "Cell \u001b[1;32mIn[93], line 2\u001b[0m\n\u001b[0;32m      1\u001b[0m plt\u001b[38;5;241m.\u001b[39mfigure(figsize\u001b[38;5;241m=\u001b[39m(\u001b[38;5;241m10\u001b[39m, \u001b[38;5;241m6\u001b[39m))\n\u001b[1;32m----> 2\u001b[0m \u001b[43mplt\u001b[49m\u001b[38;5;241;43m.\u001b[39;49m\u001b[43mplot\u001b[49m\u001b[43m(\u001b[49m\u001b[43mjobs_by_location\u001b[49m\u001b[38;5;241;43m.\u001b[39;49m\u001b[43mindex\u001b[49m\u001b[43m,\u001b[49m\u001b[43m \u001b[49m\u001b[43mjobs_by_location\u001b[49m\u001b[38;5;241;43m.\u001b[39;49m\u001b[43mvalues\u001b[49m\u001b[43m,\u001b[49m\u001b[43m  \u001b[49m\u001b[43mmarker\u001b[49m\u001b[38;5;241;43m=\u001b[39;49m\u001b[38;5;124;43m'\u001b[39;49m\u001b[38;5;124;43mo\u001b[39;49m\u001b[38;5;124;43m'\u001b[39;49m\u001b[43m,\u001b[49m\u001b[43m \u001b[49m\u001b[43mlinestyle\u001b[49m\u001b[38;5;241;43m=\u001b[39;49m\u001b[38;5;124;43m'\u001b[39;49m\u001b[38;5;124;43m-\u001b[39;49m\u001b[38;5;124;43m'\u001b[39;49m\u001b[43m,\u001b[49m\u001b[43m \u001b[49m\u001b[43mcolor\u001b[49m\u001b[38;5;241;43m=\u001b[39;49m\u001b[38;5;124;43m'\u001b[39;49m\u001b[38;5;124;43mr\u001b[39;49m\u001b[38;5;124;43m'\u001b[39;49m\u001b[43m)\u001b[49m \n\u001b[0;32m      4\u001b[0m plt\u001b[38;5;241m.\u001b[39mtitle(\u001b[38;5;124m\"\u001b[39m\u001b[38;5;124mJob title by location\u001b[39m\u001b[38;5;124m\"\u001b[39m)\n",
      "File \u001b[1;32m~\\AppData\\Local\\Programs\\Python\\Python311\\Lib\\site-packages\\matplotlib\\pyplot.py:3578\u001b[0m, in \u001b[0;36mplot\u001b[1;34m(scalex, scaley, data, *args, **kwargs)\u001b[0m\n\u001b[0;32m   3570\u001b[0m \u001b[38;5;129m@_copy_docstring_and_deprecators\u001b[39m(Axes\u001b[38;5;241m.\u001b[39mplot)\n\u001b[0;32m   3571\u001b[0m \u001b[38;5;28;01mdef\u001b[39;00m \u001b[38;5;21mplot\u001b[39m(\n\u001b[0;32m   3572\u001b[0m     \u001b[38;5;241m*\u001b[39margs: \u001b[38;5;28mfloat\u001b[39m \u001b[38;5;241m|\u001b[39m ArrayLike \u001b[38;5;241m|\u001b[39m \u001b[38;5;28mstr\u001b[39m,\n\u001b[1;32m   (...)\u001b[0m\n\u001b[0;32m   3576\u001b[0m     \u001b[38;5;241m*\u001b[39m\u001b[38;5;241m*\u001b[39mkwargs,\n\u001b[0;32m   3577\u001b[0m ) \u001b[38;5;241m-\u001b[39m\u001b[38;5;241m>\u001b[39m \u001b[38;5;28mlist\u001b[39m[Line2D]:\n\u001b[1;32m-> 3578\u001b[0m     \u001b[38;5;28;01mreturn\u001b[39;00m \u001b[43mgca\u001b[49m\u001b[43m(\u001b[49m\u001b[43m)\u001b[49m\u001b[38;5;241;43m.\u001b[39;49m\u001b[43mplot\u001b[49m\u001b[43m(\u001b[49m\n\u001b[0;32m   3579\u001b[0m \u001b[43m        \u001b[49m\u001b[38;5;241;43m*\u001b[39;49m\u001b[43margs\u001b[49m\u001b[43m,\u001b[49m\n\u001b[0;32m   3580\u001b[0m \u001b[43m        \u001b[49m\u001b[43mscalex\u001b[49m\u001b[38;5;241;43m=\u001b[39;49m\u001b[43mscalex\u001b[49m\u001b[43m,\u001b[49m\n\u001b[0;32m   3581\u001b[0m \u001b[43m        \u001b[49m\u001b[43mscaley\u001b[49m\u001b[38;5;241;43m=\u001b[39;49m\u001b[43mscaley\u001b[49m\u001b[43m,\u001b[49m\n\u001b[0;32m   3582\u001b[0m \u001b[43m        \u001b[49m\u001b[38;5;241;43m*\u001b[39;49m\u001b[38;5;241;43m*\u001b[39;49m\u001b[43m(\u001b[49m\u001b[43m{\u001b[49m\u001b[38;5;124;43m\"\u001b[39;49m\u001b[38;5;124;43mdata\u001b[39;49m\u001b[38;5;124;43m\"\u001b[39;49m\u001b[43m:\u001b[49m\u001b[43m \u001b[49m\u001b[43mdata\u001b[49m\u001b[43m}\u001b[49m\u001b[43m \u001b[49m\u001b[38;5;28;43;01mif\u001b[39;49;00m\u001b[43m \u001b[49m\u001b[43mdata\u001b[49m\u001b[43m \u001b[49m\u001b[38;5;129;43;01mis\u001b[39;49;00m\u001b[43m \u001b[49m\u001b[38;5;129;43;01mnot\u001b[39;49;00m\u001b[43m \u001b[49m\u001b[38;5;28;43;01mNone\u001b[39;49;00m\u001b[43m \u001b[49m\u001b[38;5;28;43;01melse\u001b[39;49;00m\u001b[43m \u001b[49m\u001b[43m{\u001b[49m\u001b[43m}\u001b[49m\u001b[43m)\u001b[49m\u001b[43m,\u001b[49m\n\u001b[0;32m   3583\u001b[0m \u001b[43m        \u001b[49m\u001b[38;5;241;43m*\u001b[39;49m\u001b[38;5;241;43m*\u001b[39;49m\u001b[43mkwargs\u001b[49m\u001b[43m,\u001b[49m\n\u001b[0;32m   3584\u001b[0m \u001b[43m    \u001b[49m\u001b[43m)\u001b[49m\n",
      "File \u001b[1;32m~\\AppData\\Local\\Programs\\Python\\Python311\\Lib\\site-packages\\matplotlib\\axes\\_axes.py:1721\u001b[0m, in \u001b[0;36mAxes.plot\u001b[1;34m(self, scalex, scaley, data, *args, **kwargs)\u001b[0m\n\u001b[0;32m   1478\u001b[0m \u001b[38;5;250m\u001b[39m\u001b[38;5;124;03m\"\"\"\u001b[39;00m\n\u001b[0;32m   1479\u001b[0m \u001b[38;5;124;03mPlot y versus x as lines and/or markers.\u001b[39;00m\n\u001b[0;32m   1480\u001b[0m \n\u001b[1;32m   (...)\u001b[0m\n\u001b[0;32m   1718\u001b[0m \u001b[38;5;124;03m(``'green'``) or hex strings (``'#008000'``).\u001b[39;00m\n\u001b[0;32m   1719\u001b[0m \u001b[38;5;124;03m\"\"\"\u001b[39;00m\n\u001b[0;32m   1720\u001b[0m kwargs \u001b[38;5;241m=\u001b[39m cbook\u001b[38;5;241m.\u001b[39mnormalize_kwargs(kwargs, mlines\u001b[38;5;241m.\u001b[39mLine2D)\n\u001b[1;32m-> 1721\u001b[0m lines \u001b[38;5;241m=\u001b[39m [\u001b[38;5;241m*\u001b[39m\u001b[38;5;28mself\u001b[39m\u001b[38;5;241m.\u001b[39m_get_lines(\u001b[38;5;28mself\u001b[39m, \u001b[38;5;241m*\u001b[39margs, data\u001b[38;5;241m=\u001b[39mdata, \u001b[38;5;241m*\u001b[39m\u001b[38;5;241m*\u001b[39mkwargs)]\n\u001b[0;32m   1722\u001b[0m \u001b[38;5;28;01mfor\u001b[39;00m line \u001b[38;5;129;01min\u001b[39;00m lines:\n\u001b[0;32m   1723\u001b[0m     \u001b[38;5;28mself\u001b[39m\u001b[38;5;241m.\u001b[39madd_line(line)\n",
      "File \u001b[1;32m~\\AppData\\Local\\Programs\\Python\\Python311\\Lib\\site-packages\\matplotlib\\axes\\_base.py:303\u001b[0m, in \u001b[0;36m_process_plot_var_args.__call__\u001b[1;34m(self, axes, data, *args, **kwargs)\u001b[0m\n\u001b[0;32m    301\u001b[0m     this \u001b[38;5;241m+\u001b[39m\u001b[38;5;241m=\u001b[39m args[\u001b[38;5;241m0\u001b[39m],\n\u001b[0;32m    302\u001b[0m     args \u001b[38;5;241m=\u001b[39m args[\u001b[38;5;241m1\u001b[39m:]\n\u001b[1;32m--> 303\u001b[0m \u001b[38;5;28;01myield from\u001b[39;00m \u001b[38;5;28;43mself\u001b[39;49m\u001b[38;5;241;43m.\u001b[39;49m\u001b[43m_plot_args\u001b[49m\u001b[43m(\u001b[49m\n\u001b[0;32m    304\u001b[0m \u001b[43m    \u001b[49m\u001b[43maxes\u001b[49m\u001b[43m,\u001b[49m\u001b[43m \u001b[49m\u001b[43mthis\u001b[49m\u001b[43m,\u001b[49m\u001b[43m \u001b[49m\u001b[43mkwargs\u001b[49m\u001b[43m,\u001b[49m\u001b[43m \u001b[49m\u001b[43mambiguous_fmt_datakey\u001b[49m\u001b[38;5;241;43m=\u001b[39;49m\u001b[43mambiguous_fmt_datakey\u001b[49m\u001b[43m)\u001b[49m\n",
      "File \u001b[1;32m~\\AppData\\Local\\Programs\\Python\\Python311\\Lib\\site-packages\\matplotlib\\axes\\_base.py:494\u001b[0m, in \u001b[0;36m_process_plot_var_args._plot_args\u001b[1;34m(self, axes, tup, kwargs, return_kwargs, ambiguous_fmt_datakey)\u001b[0m\n\u001b[0;32m    491\u001b[0m     x, y \u001b[38;5;241m=\u001b[39m index_of(xy[\u001b[38;5;241m-\u001b[39m\u001b[38;5;241m1\u001b[39m])\n\u001b[0;32m    493\u001b[0m \u001b[38;5;28;01mif\u001b[39;00m axes\u001b[38;5;241m.\u001b[39mxaxis \u001b[38;5;129;01mis\u001b[39;00m \u001b[38;5;129;01mnot\u001b[39;00m \u001b[38;5;28;01mNone\u001b[39;00m:\n\u001b[1;32m--> 494\u001b[0m     \u001b[43maxes\u001b[49m\u001b[38;5;241;43m.\u001b[39;49m\u001b[43mxaxis\u001b[49m\u001b[38;5;241;43m.\u001b[39;49m\u001b[43mupdate_units\u001b[49m\u001b[43m(\u001b[49m\u001b[43mx\u001b[49m\u001b[43m)\u001b[49m\n\u001b[0;32m    495\u001b[0m \u001b[38;5;28;01mif\u001b[39;00m axes\u001b[38;5;241m.\u001b[39myaxis \u001b[38;5;129;01mis\u001b[39;00m \u001b[38;5;129;01mnot\u001b[39;00m \u001b[38;5;28;01mNone\u001b[39;00m:\n\u001b[0;32m    496\u001b[0m     axes\u001b[38;5;241m.\u001b[39myaxis\u001b[38;5;241m.\u001b[39mupdate_units(y)\n",
      "File \u001b[1;32m~\\AppData\\Local\\Programs\\Python\\Python311\\Lib\\site-packages\\matplotlib\\axis.py:1712\u001b[0m, in \u001b[0;36mAxis.update_units\u001b[1;34m(self, data)\u001b[0m\n\u001b[0;32m   1710\u001b[0m neednew \u001b[38;5;241m=\u001b[39m \u001b[38;5;28mself\u001b[39m\u001b[38;5;241m.\u001b[39mconverter \u001b[38;5;241m!=\u001b[39m converter\n\u001b[0;32m   1711\u001b[0m \u001b[38;5;28mself\u001b[39m\u001b[38;5;241m.\u001b[39mconverter \u001b[38;5;241m=\u001b[39m converter\n\u001b[1;32m-> 1712\u001b[0m default \u001b[38;5;241m=\u001b[39m \u001b[38;5;28;43mself\u001b[39;49m\u001b[38;5;241;43m.\u001b[39;49m\u001b[43mconverter\u001b[49m\u001b[38;5;241;43m.\u001b[39;49m\u001b[43mdefault_units\u001b[49m\u001b[43m(\u001b[49m\u001b[43mdata\u001b[49m\u001b[43m,\u001b[49m\u001b[43m \u001b[49m\u001b[38;5;28;43mself\u001b[39;49m\u001b[43m)\u001b[49m\n\u001b[0;32m   1713\u001b[0m \u001b[38;5;28;01mif\u001b[39;00m default \u001b[38;5;129;01mis\u001b[39;00m \u001b[38;5;129;01mnot\u001b[39;00m \u001b[38;5;28;01mNone\u001b[39;00m \u001b[38;5;129;01mand\u001b[39;00m \u001b[38;5;28mself\u001b[39m\u001b[38;5;241m.\u001b[39munits \u001b[38;5;129;01mis\u001b[39;00m \u001b[38;5;28;01mNone\u001b[39;00m:\n\u001b[0;32m   1714\u001b[0m     \u001b[38;5;28mself\u001b[39m\u001b[38;5;241m.\u001b[39mset_units(default)\n",
      "File \u001b[1;32m~\\AppData\\Local\\Programs\\Python\\Python311\\Lib\\site-packages\\matplotlib\\category.py:105\u001b[0m, in \u001b[0;36mStrCategoryConverter.default_units\u001b[1;34m(data, axis)\u001b[0m\n\u001b[0;32m    103\u001b[0m \u001b[38;5;66;03m# the conversion call stack is default_units -> axis_info -> convert\u001b[39;00m\n\u001b[0;32m    104\u001b[0m \u001b[38;5;28;01mif\u001b[39;00m axis\u001b[38;5;241m.\u001b[39munits \u001b[38;5;129;01mis\u001b[39;00m \u001b[38;5;28;01mNone\u001b[39;00m:\n\u001b[1;32m--> 105\u001b[0m     axis\u001b[38;5;241m.\u001b[39mset_units(\u001b[43mUnitData\u001b[49m\u001b[43m(\u001b[49m\u001b[43mdata\u001b[49m\u001b[43m)\u001b[49m)\n\u001b[0;32m    106\u001b[0m \u001b[38;5;28;01melse\u001b[39;00m:\n\u001b[0;32m    107\u001b[0m     axis\u001b[38;5;241m.\u001b[39munits\u001b[38;5;241m.\u001b[39mupdate(data)\n",
      "File \u001b[1;32m~\\AppData\\Local\\Programs\\Python\\Python311\\Lib\\site-packages\\matplotlib\\category.py:181\u001b[0m, in \u001b[0;36mUnitData.__init__\u001b[1;34m(self, data)\u001b[0m\n\u001b[0;32m    179\u001b[0m \u001b[38;5;28mself\u001b[39m\u001b[38;5;241m.\u001b[39m_counter \u001b[38;5;241m=\u001b[39m itertools\u001b[38;5;241m.\u001b[39mcount()\n\u001b[0;32m    180\u001b[0m \u001b[38;5;28;01mif\u001b[39;00m data \u001b[38;5;129;01mis\u001b[39;00m \u001b[38;5;129;01mnot\u001b[39;00m \u001b[38;5;28;01mNone\u001b[39;00m:\n\u001b[1;32m--> 181\u001b[0m     \u001b[38;5;28;43mself\u001b[39;49m\u001b[38;5;241;43m.\u001b[39;49m\u001b[43mupdate\u001b[49m\u001b[43m(\u001b[49m\u001b[43mdata\u001b[49m\u001b[43m)\u001b[49m\n",
      "File \u001b[1;32m~\\AppData\\Local\\Programs\\Python\\Python311\\Lib\\site-packages\\matplotlib\\category.py:216\u001b[0m, in \u001b[0;36mUnitData.update\u001b[1;34m(self, data)\u001b[0m\n\u001b[0;32m    213\u001b[0m convertible \u001b[38;5;241m=\u001b[39m \u001b[38;5;28;01mTrue\u001b[39;00m\n\u001b[0;32m    214\u001b[0m \u001b[38;5;28;01mfor\u001b[39;00m val \u001b[38;5;129;01min\u001b[39;00m OrderedDict\u001b[38;5;241m.\u001b[39mfromkeys(data):\n\u001b[0;32m    215\u001b[0m     \u001b[38;5;66;03m# OrderedDict just iterates over unique values in data.\u001b[39;00m\n\u001b[1;32m--> 216\u001b[0m     \u001b[43m_api\u001b[49m\u001b[38;5;241;43m.\u001b[39;49m\u001b[43mcheck_isinstance\u001b[49m\u001b[43m(\u001b[49m\u001b[43m(\u001b[49m\u001b[38;5;28;43mstr\u001b[39;49m\u001b[43m,\u001b[49m\u001b[43m \u001b[49m\u001b[38;5;28;43mbytes\u001b[39;49m\u001b[43m)\u001b[49m\u001b[43m,\u001b[49m\u001b[43m \u001b[49m\u001b[43mvalue\u001b[49m\u001b[38;5;241;43m=\u001b[39;49m\u001b[43mval\u001b[49m\u001b[43m)\u001b[49m\n\u001b[0;32m    217\u001b[0m     \u001b[38;5;28;01mif\u001b[39;00m convertible:\n\u001b[0;32m    218\u001b[0m         \u001b[38;5;66;03m# this will only be called so long as convertible is True.\u001b[39;00m\n\u001b[0;32m    219\u001b[0m         convertible \u001b[38;5;241m=\u001b[39m \u001b[38;5;28mself\u001b[39m\u001b[38;5;241m.\u001b[39m_str_is_convertible(val)\n",
      "File \u001b[1;32m~\\AppData\\Local\\Programs\\Python\\Python311\\Lib\\site-packages\\matplotlib\\_api\\__init__.py:91\u001b[0m, in \u001b[0;36mcheck_isinstance\u001b[1;34m(types, **kwargs)\u001b[0m\n\u001b[0;32m     89\u001b[0m     names\u001b[38;5;241m.\u001b[39mremove(\u001b[38;5;124m\"\u001b[39m\u001b[38;5;124mNone\u001b[39m\u001b[38;5;124m\"\u001b[39m)\n\u001b[0;32m     90\u001b[0m     names\u001b[38;5;241m.\u001b[39mappend(\u001b[38;5;124m\"\u001b[39m\u001b[38;5;124mNone\u001b[39m\u001b[38;5;124m\"\u001b[39m)\n\u001b[1;32m---> 91\u001b[0m \u001b[38;5;28;01mraise\u001b[39;00m \u001b[38;5;167;01mTypeError\u001b[39;00m(\n\u001b[0;32m     92\u001b[0m     \u001b[38;5;124m\"\u001b[39m\u001b[38;5;132;01m{!r}\u001b[39;00m\u001b[38;5;124m must be an instance of \u001b[39m\u001b[38;5;132;01m{}\u001b[39;00m\u001b[38;5;124m, not a \u001b[39m\u001b[38;5;132;01m{}\u001b[39;00m\u001b[38;5;124m\"\u001b[39m\u001b[38;5;241m.\u001b[39mformat(\n\u001b[0;32m     93\u001b[0m         k,\n\u001b[0;32m     94\u001b[0m         \u001b[38;5;124m\"\u001b[39m\u001b[38;5;124m, \u001b[39m\u001b[38;5;124m\"\u001b[39m\u001b[38;5;241m.\u001b[39mjoin(names[:\u001b[38;5;241m-\u001b[39m\u001b[38;5;241m1\u001b[39m]) \u001b[38;5;241m+\u001b[39m \u001b[38;5;124m\"\u001b[39m\u001b[38;5;124m or \u001b[39m\u001b[38;5;124m\"\u001b[39m \u001b[38;5;241m+\u001b[39m names[\u001b[38;5;241m-\u001b[39m\u001b[38;5;241m1\u001b[39m]\n\u001b[0;32m     95\u001b[0m         \u001b[38;5;28;01mif\u001b[39;00m \u001b[38;5;28mlen\u001b[39m(names) \u001b[38;5;241m>\u001b[39m \u001b[38;5;241m1\u001b[39m \u001b[38;5;28;01melse\u001b[39;00m names[\u001b[38;5;241m0\u001b[39m],\n\u001b[0;32m     96\u001b[0m         type_name(\u001b[38;5;28mtype\u001b[39m(v))))\n",
      "\u001b[1;31mTypeError\u001b[0m: 'value' must be an instance of str or bytes, not a tuple"
     ]
    },
    {
     "data": {
      "image/png": "[encoded data removed]",
      "text/plain": [
       "<Figure size 1000x600 with 1 Axes>"
      ]
     },
     "metadata": {},
     "output_type": "display_data"
    }
   ],
   "source": [
    "# Convert the Series to a DataFrame for easier plotting\n",
    "jobs_by_location_df = jobs_by_location.reset_index(name='count')\n",
    "jobs_by_location_df.columns = ['title', 'location', 'count']\n",
    "\n",
    "# Create a combined title and location for better visualization\n",
    "jobs_by_location_df['title_location'] = jobs_by_location_df['title'] + ' - ' + jobs_by_location_df['location']\n",
    "\n",
    "# Plot\n",
    "plt.figure(figsize=(12, 8))\n",
    "plt.barh(jobs_by_location_df['title_location'], jobs_by_location_df['count'], color='skyblue')\n",
    "plt.xlabel('Number of Job Postings')\n",
    "plt.ylabel('Job Title and Location')\n",
    "plt.title('Top 50 Job Titles by Location')\n",
    "plt.gca().invert_yaxis()  # To have the highest count at the top\n",
    "plt.show()"
   ]
  },
  {
   "cell_type": "code",
   "execution_count": null,
   "id": "54abdc4f-3172-4da8-bb8d-a6e7bcbabacc",
   "metadata": {},
   "outputs": [],
   "source": []
  }
 ],
 "metadata": {
  "kernelspec": {
   "display_name": "Python 3 (ipykernel)",
   "language": "python",
   "name": "python3"
  },
  "language_info": {
   "codemirror_mode": {
    "name": "ipython",
    "version": 3
   },
   "file_extension": ".py",
   "mimetype": "text/x-python",
   "name": "python",
   "nbconvert_exporter": "python",
   "pygments_lexer": "ipython3",
   "version": "3.11.3"
  }
 },
 "nbformat": 4,
 "nbformat_minor": 5
}
